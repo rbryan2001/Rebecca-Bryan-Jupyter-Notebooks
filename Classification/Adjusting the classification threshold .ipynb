{
 "cells": [
  {
   "cell_type": "code",
   "execution_count": 27,
   "id": "b1e1470c",
   "metadata": {},
   "outputs": [],
   "source": [
    "import pandas as pd \n",
    "import matplotlib.pyplot as plt\n",
    "import numpy as np"
   ]
  },
  {
   "cell_type": "code",
   "execution_count": 28,
   "id": "da4fca7d",
   "metadata": {},
   "outputs": [
    {
     "data": {
      "text/html": [
       "<div>\n",
       "<style scoped>\n",
       "    .dataframe tbody tr th:only-of-type {\n",
       "        vertical-align: middle;\n",
       "    }\n",
       "\n",
       "    .dataframe tbody tr th {\n",
       "        vertical-align: top;\n",
       "    }\n",
       "\n",
       "    .dataframe thead th {\n",
       "        text-align: right;\n",
       "    }\n",
       "</style>\n",
       "<table border=\"1\" class=\"dataframe\">\n",
       "  <thead>\n",
       "    <tr style=\"text-align: right;\">\n",
       "      <th></th>\n",
       "      <th>pregnant</th>\n",
       "      <th>glucose</th>\n",
       "      <th>bp</th>\n",
       "      <th>skin</th>\n",
       "      <th>insulin</th>\n",
       "      <th>bmi</th>\n",
       "      <th>pedigree</th>\n",
       "      <th>age</th>\n",
       "      <th>label</th>\n",
       "    </tr>\n",
       "  </thead>\n",
       "  <tbody>\n",
       "    <tr>\n",
       "      <th>0</th>\n",
       "      <td>6</td>\n",
       "      <td>148</td>\n",
       "      <td>72</td>\n",
       "      <td>35</td>\n",
       "      <td>0</td>\n",
       "      <td>33.6</td>\n",
       "      <td>0.627</td>\n",
       "      <td>50</td>\n",
       "      <td>1</td>\n",
       "    </tr>\n",
       "    <tr>\n",
       "      <th>1</th>\n",
       "      <td>1</td>\n",
       "      <td>85</td>\n",
       "      <td>66</td>\n",
       "      <td>29</td>\n",
       "      <td>0</td>\n",
       "      <td>26.6</td>\n",
       "      <td>0.351</td>\n",
       "      <td>31</td>\n",
       "      <td>0</td>\n",
       "    </tr>\n",
       "    <tr>\n",
       "      <th>2</th>\n",
       "      <td>8</td>\n",
       "      <td>183</td>\n",
       "      <td>64</td>\n",
       "      <td>0</td>\n",
       "      <td>0</td>\n",
       "      <td>23.3</td>\n",
       "      <td>0.672</td>\n",
       "      <td>32</td>\n",
       "      <td>1</td>\n",
       "    </tr>\n",
       "    <tr>\n",
       "      <th>3</th>\n",
       "      <td>1</td>\n",
       "      <td>89</td>\n",
       "      <td>66</td>\n",
       "      <td>23</td>\n",
       "      <td>94</td>\n",
       "      <td>28.1</td>\n",
       "      <td>0.167</td>\n",
       "      <td>21</td>\n",
       "      <td>0</td>\n",
       "    </tr>\n",
       "    <tr>\n",
       "      <th>4</th>\n",
       "      <td>0</td>\n",
       "      <td>137</td>\n",
       "      <td>40</td>\n",
       "      <td>35</td>\n",
       "      <td>168</td>\n",
       "      <td>43.1</td>\n",
       "      <td>2.288</td>\n",
       "      <td>33</td>\n",
       "      <td>1</td>\n",
       "    </tr>\n",
       "  </tbody>\n",
       "</table>\n",
       "</div>"
      ],
      "text/plain": [
       "   pregnant  glucose  bp  skin  insulin   bmi  pedigree  age  label\n",
       "0         6      148  72    35        0  33.6     0.627   50      1\n",
       "1         1       85  66    29        0  26.6     0.351   31      0\n",
       "2         8      183  64     0        0  23.3     0.672   32      1\n",
       "3         1       89  66    23       94  28.1     0.167   21      0\n",
       "4         0      137  40    35      168  43.1     2.288   33      1"
      ]
     },
     "execution_count": 28,
     "metadata": {},
     "output_type": "execute_result"
    }
   ],
   "source": [
    "# load the Pima indian diabetes dataset\n",
    "url = 'https://raw.githubusercontent.com/um-perez-alvaro/Data-Science-Practice/master/Data/pima.csv'\n",
    "pima = pd.read_csv(url)\n",
    "pima.head()"
   ]
  },
  {
   "cell_type": "code",
   "execution_count": 29,
   "id": "6a6e0c9d",
   "metadata": {},
   "outputs": [],
   "source": [
    "# logistic regression \n",
    "from sklearn.linear_model import LogisticRegression as logreg\n",
    "logreg_clf = logreg(max_iter=1000)"
   ]
  },
  {
   "cell_type": "code",
   "execution_count": 30,
   "id": "4aa8e0d9",
   "metadata": {},
   "outputs": [],
   "source": [
    "#train test split \n",
    "from sklearn.model_selection import train_test_split\n",
    "X = pima.drop('label',axis=1)\n",
    "y = pima.label\n",
    "X_train,X_test,y_train,y_test = train_test_split(X,y)"
   ]
  },
  {
   "cell_type": "code",
   "execution_count": 31,
   "id": "1e1d4ef2",
   "metadata": {},
   "outputs": [
    {
     "data": {
      "text/plain": [
       "LogisticRegression(max_iter=1000)"
      ]
     },
     "execution_count": 31,
     "metadata": {},
     "output_type": "execute_result"
    }
   ],
   "source": [
    "logreg_clf.fit(X_train,y_train)"
   ]
  },
  {
   "cell_type": "code",
   "execution_count": 32,
   "id": "8e21fc46",
   "metadata": {},
   "outputs": [
    {
     "data": {
      "text/plain": [
       "array([0, 0, 0, 1, 0, 0, 0, 1, 0, 0, 0, 0, 0, 1, 1, 0, 1, 1, 0, 0, 0, 1,\n",
       "       0, 1, 1, 0, 0, 0, 0, 0, 0, 0, 0, 0, 0, 1, 0, 0, 1, 0, 0, 0, 0, 0,\n",
       "       0, 0, 0, 1, 1, 0, 0, 0, 1, 1, 0, 0, 1, 0, 0, 0, 0, 0, 0, 0, 1, 0,\n",
       "       1, 1, 1, 0, 0, 0, 0, 0, 0, 0, 0, 1, 0, 1, 0, 0, 0, 0, 0, 1, 0, 0,\n",
       "       0, 0, 0, 0, 0, 0, 1, 0, 1, 0, 1, 0, 0, 0, 0, 0, 0, 1, 0, 0, 0, 0,\n",
       "       0, 0, 0, 1, 0, 0, 0, 0, 0, 1, 1, 0, 1, 1, 0, 0, 1, 0, 0, 1, 0, 1,\n",
       "       0, 0, 0, 0, 0, 0, 0, 1, 0, 0, 1, 0, 1, 0, 1, 1, 0, 0, 0, 0, 0, 0,\n",
       "       0, 0, 0, 0, 1, 0, 0, 0, 0, 1, 0, 0, 0, 0, 1, 1, 1, 0, 0, 0, 0, 1,\n",
       "       0, 0, 1, 0, 1, 1, 0, 1, 1, 0, 0, 0, 1, 0, 0, 0], dtype=int64)"
      ]
     },
     "execution_count": 32,
     "metadata": {},
     "output_type": "execute_result"
    }
   ],
   "source": [
    "#predictions \n",
    "y_test_pred = logreg_clf.predict(X_test)\n",
    "y_test_pred"
   ]
  },
  {
   "cell_type": "code",
   "execution_count": 33,
   "id": "38d066a3",
   "metadata": {},
   "outputs": [
    {
     "data": {
      "text/plain": [
       "array([[0.58530741, 0.41469259],\n",
       "       [0.86587753, 0.13412247],\n",
       "       [0.90577011, 0.09422989],\n",
       "       [0.02853281, 0.97146719],\n",
       "       [0.58836049, 0.41163951],\n",
       "       [0.85532901, 0.14467099],\n",
       "       [0.9209734 , 0.0790266 ],\n",
       "       [0.38623331, 0.61376669],\n",
       "       [0.9203909 , 0.0796091 ],\n",
       "       [0.53074331, 0.46925669],\n",
       "       [0.96903853, 0.03096147],\n",
       "       [0.53604376, 0.46395624],\n",
       "       [0.84220163, 0.15779837],\n",
       "       [0.13127041, 0.86872959],\n",
       "       [0.28291305, 0.71708695],\n",
       "       [0.65195089, 0.34804911],\n",
       "       [0.35192827, 0.64807173],\n",
       "       [0.06423234, 0.93576766],\n",
       "       [0.91471466, 0.08528534],\n",
       "       [0.58793145, 0.41206855],\n",
       "       [0.50842152, 0.49157848],\n",
       "       [0.48057334, 0.51942666],\n",
       "       [0.7720555 , 0.2279445 ],\n",
       "       [0.47117882, 0.52882118],\n",
       "       [0.15240764, 0.84759236],\n",
       "       [0.81889038, 0.18110962],\n",
       "       [0.83656265, 0.16343735],\n",
       "       [0.6476447 , 0.3523553 ],\n",
       "       [0.88056924, 0.11943076],\n",
       "       [0.81908158, 0.18091842],\n",
       "       [0.99302726, 0.00697274],\n",
       "       [0.85509316, 0.14490684],\n",
       "       [0.87287369, 0.12712631],\n",
       "       [0.9683728 , 0.0316272 ],\n",
       "       [0.90955302, 0.09044698],\n",
       "       [0.29217149, 0.70782851],\n",
       "       [0.95818958, 0.04181042],\n",
       "       [0.61512133, 0.38487867],\n",
       "       [0.09513265, 0.90486735],\n",
       "       [0.59828222, 0.40171778],\n",
       "       [0.78209683, 0.21790317],\n",
       "       [0.73278396, 0.26721604],\n",
       "       [0.91771118, 0.08228882],\n",
       "       [0.9518395 , 0.0481605 ],\n",
       "       [0.59237307, 0.40762693],\n",
       "       [0.61147562, 0.38852438],\n",
       "       [0.69775903, 0.30224097],\n",
       "       [0.30437185, 0.69562815],\n",
       "       [0.25121305, 0.74878695],\n",
       "       [0.95841111, 0.04158889],\n",
       "       [0.88046988, 0.11953012],\n",
       "       [0.89089936, 0.10910064],\n",
       "       [0.24656217, 0.75343783],\n",
       "       [0.19627273, 0.80372727],\n",
       "       [0.71678739, 0.28321261],\n",
       "       [0.91297325, 0.08702675],\n",
       "       [0.39973407, 0.60026593],\n",
       "       [0.72083294, 0.27916706],\n",
       "       [0.69677255, 0.30322745],\n",
       "       [0.61603206, 0.38396794],\n",
       "       [0.78662648, 0.21337352],\n",
       "       [0.91346166, 0.08653834],\n",
       "       [0.94373264, 0.05626736],\n",
       "       [0.77316735, 0.22683265],\n",
       "       [0.42257498, 0.57742502],\n",
       "       [0.67472669, 0.32527331],\n",
       "       [0.28829813, 0.71170187],\n",
       "       [0.14159871, 0.85840129],\n",
       "       [0.15365447, 0.84634553],\n",
       "       [0.82662979, 0.17337021],\n",
       "       [0.98954539, 0.01045461],\n",
       "       [0.58096353, 0.41903647],\n",
       "       [0.87465574, 0.12534426],\n",
       "       [0.65115678, 0.34884322],\n",
       "       [0.76946316, 0.23053684],\n",
       "       [0.89356213, 0.10643787],\n",
       "       [0.86871265, 0.13128735],\n",
       "       [0.20197024, 0.79802976],\n",
       "       [0.88828673, 0.11171327],\n",
       "       [0.17564333, 0.82435667],\n",
       "       [0.79173794, 0.20826206],\n",
       "       [0.95424915, 0.04575085],\n",
       "       [0.63300122, 0.36699878],\n",
       "       [0.97810697, 0.02189303],\n",
       "       [0.89003146, 0.10996854],\n",
       "       [0.41298881, 0.58701119],\n",
       "       [0.91179447, 0.08820553],\n",
       "       [0.95332008, 0.04667992],\n",
       "       [0.95881259, 0.04118741],\n",
       "       [0.8739745 , 0.1260255 ],\n",
       "       [0.89515487, 0.10484513],\n",
       "       [0.8955461 , 0.1044539 ],\n",
       "       [0.68358121, 0.31641879],\n",
       "       [0.90487427, 0.09512573],\n",
       "       [0.46124033, 0.53875967],\n",
       "       [0.76579278, 0.23420722],\n",
       "       [0.15987444, 0.84012556],\n",
       "       [0.91212982, 0.08787018],\n",
       "       [0.30091259, 0.69908741],\n",
       "       [0.86195578, 0.13804422],\n",
       "       [0.64632995, 0.35367005],\n",
       "       [0.96224832, 0.03775168],\n",
       "       [0.89010663, 0.10989337],\n",
       "       [0.65124755, 0.34875245],\n",
       "       [0.83329589, 0.16670411],\n",
       "       [0.24268415, 0.75731585],\n",
       "       [0.92495115, 0.07504885],\n",
       "       [0.62386704, 0.37613296],\n",
       "       [0.91650955, 0.08349045],\n",
       "       [0.83946572, 0.16053428],\n",
       "       [0.85904894, 0.14095106],\n",
       "       [0.91236801, 0.08763199],\n",
       "       [0.92139865, 0.07860135],\n",
       "       [0.37056583, 0.62943417],\n",
       "       [0.82942494, 0.17057506],\n",
       "       [0.54974016, 0.45025984],\n",
       "       [0.73487412, 0.26512588],\n",
       "       [0.64491262, 0.35508738],\n",
       "       [0.87793408, 0.12206592],\n",
       "       [0.33614871, 0.66385129],\n",
       "       [0.03040027, 0.96959973],\n",
       "       [0.82261656, 0.17738344],\n",
       "       [0.20765735, 0.79234265],\n",
       "       [0.0374233 , 0.9625767 ],\n",
       "       [0.63585452, 0.36414548],\n",
       "       [0.96205387, 0.03794613],\n",
       "       [0.00908986, 0.99091014],\n",
       "       [0.88743855, 0.11256145],\n",
       "       [0.52632043, 0.47367957],\n",
       "       [0.30393955, 0.69606045],\n",
       "       [0.92751624, 0.07248376],\n",
       "       [0.23444279, 0.76555721],\n",
       "       [0.72624347, 0.27375653],\n",
       "       [0.53200518, 0.46799482],\n",
       "       [0.65015219, 0.34984781],\n",
       "       [0.51212082, 0.48787918],\n",
       "       [0.99460918, 0.00539082],\n",
       "       [0.87570626, 0.12429374],\n",
       "       [0.88543068, 0.11456932],\n",
       "       [0.40602557, 0.59397443],\n",
       "       [0.81161447, 0.18838553],\n",
       "       [0.98104502, 0.01895498],\n",
       "       [0.23354607, 0.76645393],\n",
       "       [0.82354711, 0.17645289],\n",
       "       [0.23303657, 0.76696343],\n",
       "       [0.54851752, 0.45148248],\n",
       "       [0.43352343, 0.56647657],\n",
       "       [0.38085896, 0.61914104],\n",
       "       [0.66167499, 0.33832501],\n",
       "       [0.96944183, 0.03055817],\n",
       "       [0.97003656, 0.02996344],\n",
       "       [0.81984583, 0.18015417],\n",
       "       [0.65346672, 0.34653328],\n",
       "       [0.89669501, 0.10330499],\n",
       "       [0.50291518, 0.49708482],\n",
       "       [0.54910104, 0.45089896],\n",
       "       [0.65463385, 0.34536615],\n",
       "       [0.72950898, 0.27049102],\n",
       "       [0.354642  , 0.645358  ],\n",
       "       [0.77789391, 0.22210609],\n",
       "       [0.68493242, 0.31506758],\n",
       "       [0.90232197, 0.09767803],\n",
       "       [0.8531573 , 0.1468427 ],\n",
       "       [0.2423826 , 0.7576174 ],\n",
       "       [0.94569044, 0.05430956],\n",
       "       [0.86451421, 0.13548579],\n",
       "       [0.97422963, 0.02577037],\n",
       "       [0.84973013, 0.15026987],\n",
       "       [0.28676808, 0.71323192],\n",
       "       [0.40447363, 0.59552637],\n",
       "       [0.43497434, 0.56502566],\n",
       "       [0.515476  , 0.484524  ],\n",
       "       [0.82926057, 0.17073943],\n",
       "       [0.8747667 , 0.1252333 ],\n",
       "       [0.88659638, 0.11340362],\n",
       "       [0.13813212, 0.86186788],\n",
       "       [0.70479008, 0.29520992],\n",
       "       [0.89075473, 0.10924527],\n",
       "       [0.41266312, 0.58733688],\n",
       "       [0.67795395, 0.32204605],\n",
       "       [0.20799232, 0.79200768],\n",
       "       [0.06826263, 0.93173737],\n",
       "       [0.89032704, 0.10967296],\n",
       "       [0.46082452, 0.53917548],\n",
       "       [0.40896784, 0.59103216],\n",
       "       [0.89917209, 0.10082791],\n",
       "       [0.79567888, 0.20432112],\n",
       "       [0.9464028 , 0.0535972 ],\n",
       "       [0.1491798 , 0.8508202 ],\n",
       "       [0.66836651, 0.33163349],\n",
       "       [0.87342059, 0.12657941],\n",
       "       [0.62770762, 0.37229238]])"
      ]
     },
     "execution_count": 33,
     "metadata": {},
     "output_type": "execute_result"
    }
   ],
   "source": [
    "# logistic regression computes probabilities \n",
    "# get matrix with two columns. First column is the probability the label is zero and the other is the prob the label is one.\n",
    "# makes prediction based off which prob is larger \n",
    "logreg_clf.predict_proba(X_test)"
   ]
  },
  {
   "cell_type": "code",
   "execution_count": 34,
   "id": "eb100caf",
   "metadata": {},
   "outputs": [
    {
     "data": {
      "text/plain": [
       "array([0.41469259, 0.13412247, 0.09422989, 0.97146719, 0.41163951,\n",
       "       0.14467099, 0.0790266 , 0.61376669, 0.0796091 , 0.46925669,\n",
       "       0.03096147, 0.46395624, 0.15779837, 0.86872959, 0.71708695,\n",
       "       0.34804911, 0.64807173, 0.93576766, 0.08528534, 0.41206855,\n",
       "       0.49157848, 0.51942666, 0.2279445 , 0.52882118, 0.84759236,\n",
       "       0.18110962, 0.16343735, 0.3523553 , 0.11943076, 0.18091842,\n",
       "       0.00697274, 0.14490684, 0.12712631, 0.0316272 , 0.09044698,\n",
       "       0.70782851, 0.04181042, 0.38487867, 0.90486735, 0.40171778,\n",
       "       0.21790317, 0.26721604, 0.08228882, 0.0481605 , 0.40762693,\n",
       "       0.38852438, 0.30224097, 0.69562815, 0.74878695, 0.04158889,\n",
       "       0.11953012, 0.10910064, 0.75343783, 0.80372727, 0.28321261,\n",
       "       0.08702675, 0.60026593, 0.27916706, 0.30322745, 0.38396794,\n",
       "       0.21337352, 0.08653834, 0.05626736, 0.22683265, 0.57742502,\n",
       "       0.32527331, 0.71170187, 0.85840129, 0.84634553, 0.17337021,\n",
       "       0.01045461, 0.41903647, 0.12534426, 0.34884322, 0.23053684,\n",
       "       0.10643787, 0.13128735, 0.79802976, 0.11171327, 0.82435667,\n",
       "       0.20826206, 0.04575085, 0.36699878, 0.02189303, 0.10996854,\n",
       "       0.58701119, 0.08820553, 0.04667992, 0.04118741, 0.1260255 ,\n",
       "       0.10484513, 0.1044539 , 0.31641879, 0.09512573, 0.53875967,\n",
       "       0.23420722, 0.84012556, 0.08787018, 0.69908741, 0.13804422,\n",
       "       0.35367005, 0.03775168, 0.10989337, 0.34875245, 0.16670411,\n",
       "       0.75731585, 0.07504885, 0.37613296, 0.08349045, 0.16053428,\n",
       "       0.14095106, 0.08763199, 0.07860135, 0.62943417, 0.17057506,\n",
       "       0.45025984, 0.26512588, 0.35508738, 0.12206592, 0.66385129,\n",
       "       0.96959973, 0.17738344, 0.79234265, 0.9625767 , 0.36414548,\n",
       "       0.03794613, 0.99091014, 0.11256145, 0.47367957, 0.69606045,\n",
       "       0.07248376, 0.76555721, 0.27375653, 0.46799482, 0.34984781,\n",
       "       0.48787918, 0.00539082, 0.12429374, 0.11456932, 0.59397443,\n",
       "       0.18838553, 0.01895498, 0.76645393, 0.17645289, 0.76696343,\n",
       "       0.45148248, 0.56647657, 0.61914104, 0.33832501, 0.03055817,\n",
       "       0.02996344, 0.18015417, 0.34653328, 0.10330499, 0.49708482,\n",
       "       0.45089896, 0.34536615, 0.27049102, 0.645358  , 0.22210609,\n",
       "       0.31506758, 0.09767803, 0.1468427 , 0.7576174 , 0.05430956,\n",
       "       0.13548579, 0.02577037, 0.15026987, 0.71323192, 0.59552637,\n",
       "       0.56502566, 0.484524  , 0.17073943, 0.1252333 , 0.11340362,\n",
       "       0.86186788, 0.29520992, 0.10924527, 0.58733688, 0.32204605,\n",
       "       0.79200768, 0.93173737, 0.10967296, 0.53917548, 0.59103216,\n",
       "       0.10082791, 0.20432112, 0.0535972 , 0.8508202 , 0.33163349,\n",
       "       0.12657941, 0.37229238])"
      ]
     },
     "execution_count": 34,
     "metadata": {},
     "output_type": "execute_result"
    }
   ],
   "source": [
    "probs = logreg_clf.predict_proba(X_test)[:,1] # probability that label = 1\n",
    "probs"
   ]
  },
  {
   "cell_type": "code",
   "execution_count": 35,
   "id": "5033a230",
   "metadata": {},
   "outputs": [
    {
     "name": "stdout",
     "output_type": "stream",
     "text": [
      "0.765625\n",
      "0.5538461538461539\n",
      "0.6923076923076923\n"
     ]
    }
   ],
   "source": [
    "from sklearn.metrics import accuracy_score, recall_score, precision_score\n",
    "print(accuracy_score(y_test,y_test_pred))\n",
    "print(recall_score(y_test,y_test_pred))\n",
    "print(precision_score(y_test,y_test_pred))"
   ]
  },
  {
   "cell_type": "code",
   "execution_count": 36,
   "id": "da8a0cab",
   "metadata": {},
   "outputs": [
    {
     "data": {
      "text/plain": [
       "array([1., 1., 1., 1., 1., 1., 1., 1., 1., 1., 0., 1., 1., 1., 1., 1., 1.,\n",
       "       1., 1., 1., 1., 1., 1., 1., 1., 1., 1., 1., 1., 1., 0., 1., 1., 0.,\n",
       "       1., 1., 0., 1., 1., 1., 1., 1., 1., 0., 1., 1., 1., 1., 1., 0., 1.,\n",
       "       1., 1., 1., 1., 1., 1., 1., 1., 1., 1., 1., 1., 1., 1., 1., 1., 1.,\n",
       "       1., 1., 0., 1., 1., 1., 1., 1., 1., 1., 1., 1., 1., 0., 1., 0., 1.,\n",
       "       1., 1., 0., 0., 1., 1., 1., 1., 1., 1., 1., 1., 1., 1., 1., 1., 0.,\n",
       "       1., 1., 1., 1., 1., 1., 1., 1., 1., 1., 1., 1., 1., 1., 1., 1., 1.,\n",
       "       1., 1., 1., 1., 1., 1., 0., 1., 1., 1., 1., 1., 1., 1., 1., 1., 1.,\n",
       "       0., 1., 1., 1., 1., 0., 1., 1., 1., 1., 1., 1., 1., 0., 0., 1., 1.,\n",
       "       1., 1., 1., 1., 1., 1., 1., 1., 1., 1., 1., 1., 1., 0., 1., 1., 1.,\n",
       "       1., 1., 1., 1., 1., 1., 1., 1., 1., 1., 1., 1., 1., 1., 1., 1., 1.,\n",
       "       1., 1., 1., 1., 1.])"
      ]
     },
     "execution_count": 36,
     "metadata": {},
     "output_type": "execute_result"
    }
   ],
   "source": [
    "# changing the threshold, scikit learn always uses 0.5\n",
    "threshold = 0.05\n",
    "y_test_pred = np.zeros(len(y_test))\n",
    "y_test_pred[probs>threshold]=1\n",
    "y_test_pred"
   ]
  },
  {
   "cell_type": "code",
   "execution_count": 37,
   "id": "613fdd48",
   "metadata": {},
   "outputs": [
    {
     "name": "stdout",
     "output_type": "stream",
     "text": [
      "0.4114583333333333\n",
      "0.9692307692307692\n",
      "0.3620689655172414\n"
     ]
    }
   ],
   "source": [
    "from sklearn.metrics import accuracy_score, recall_score, precision_score\n",
    "print(accuracy_score(y_test,y_test_pred))\n",
    "print(recall_score(y_test,y_test_pred))\n",
    "print(precision_score(y_test,y_test_pred))"
   ]
  },
  {
   "cell_type": "code",
   "execution_count": 38,
   "id": "2fef3909",
   "metadata": {},
   "outputs": [
    {
     "data": {
      "text/plain": [
       "array([0., 0., 0., 1., 0., 0., 0., 0., 0., 0., 0., 0., 0., 0., 0., 0., 0.,\n",
       "       0., 0., 0., 0., 0., 0., 0., 0., 0., 0., 0., 0., 0., 0., 0., 0., 0.,\n",
       "       0., 0., 0., 0., 0., 0., 0., 0., 0., 0., 0., 0., 0., 0., 0., 0., 0.,\n",
       "       0., 0., 0., 0., 0., 0., 0., 0., 0., 0., 0., 0., 0., 0., 0., 0., 0.,\n",
       "       0., 0., 0., 0., 0., 0., 0., 0., 0., 0., 0., 0., 0., 0., 0., 0., 0.,\n",
       "       0., 0., 0., 0., 0., 0., 0., 0., 0., 0., 0., 0., 0., 0., 0., 0., 0.,\n",
       "       0., 0., 0., 0., 0., 0., 0., 0., 0., 0., 0., 0., 0., 0., 0., 0., 0.,\n",
       "       0., 1., 0., 0., 1., 0., 0., 1., 0., 0., 0., 0., 0., 0., 0., 0., 0.,\n",
       "       0., 0., 0., 0., 0., 0., 0., 0., 0., 0., 0., 0., 0., 0., 0., 0., 0.,\n",
       "       0., 0., 0., 0., 0., 0., 0., 0., 0., 0., 0., 0., 0., 0., 0., 0., 0.,\n",
       "       0., 0., 0., 0., 0., 0., 0., 0., 0., 0., 0., 0., 0., 0., 0., 0., 0.,\n",
       "       0., 0., 0., 0., 0.])"
      ]
     },
     "execution_count": 38,
     "metadata": {},
     "output_type": "execute_result"
    }
   ],
   "source": [
    "# changing the threshold, scikit learn always uses 0.5\n",
    "threshold = 0.95\n",
    "y_test_pred = np.zeros(len(y_test))\n",
    "y_test_pred[probs>threshold]=1\n",
    "y_test_pred"
   ]
  },
  {
   "cell_type": "code",
   "execution_count": 39,
   "id": "21e712df",
   "metadata": {},
   "outputs": [
    {
     "name": "stdout",
     "output_type": "stream",
     "text": [
      "0.671875\n",
      "0.046153846153846156\n",
      "0.75\n"
     ]
    }
   ],
   "source": [
    "from sklearn.metrics import accuracy_score, recall_score, precision_score\n",
    "print(accuracy_score(y_test,y_test_pred))\n",
    "print(recall_score(y_test,y_test_pred))\n",
    "print(precision_score(y_test,y_test_pred))"
   ]
  },
  {
   "cell_type": "code",
   "execution_count": 40,
   "id": "dcf8aca5",
   "metadata": {},
   "outputs": [],
   "source": [
    "# loop over different values for the threshold\n",
    "threshold_list = np.linspace(0,1,100) #evenly spaced points "
   ]
  },
  {
   "cell_type": "code",
   "execution_count": 41,
   "id": "00e0b735",
   "metadata": {},
   "outputs": [
    {
     "name": "stderr",
     "output_type": "stream",
     "text": [
      "C:\\Users\\rebec\\anaconda3\\lib\\site-packages\\sklearn\\metrics\\_classification.py:1318: UndefinedMetricWarning: Precision is ill-defined and being set to 0.0 due to no predicted samples. Use `zero_division` parameter to control this behavior.\n",
      "  _warn_prf(average, modifier, msg_start, len(result))\n"
     ]
    }
   ],
   "source": [
    "recalls = [] #empty list \n",
    "precisions = []\n",
    "accuracies =[]\n",
    "for threshold in threshold_list: \n",
    "    y_test_pred = np.zeros(len(y_test))\n",
    "    y_test_pred[probs>threshold]=1\n",
    "    recalls.append(recall_score(y_test,y_test_pred))\n",
    "    precisions.append(precision_score(y_test,y_test_pred))\n",
    "    accuracies.append(accuracy_score(y_test,y_test_pred))"
   ]
  },
  {
   "cell_type": "code",
   "execution_count": 42,
   "id": "b9f52e5b",
   "metadata": {},
   "outputs": [
    {
     "data": {
      "text/plain": [
       "Text(0.5, 1.0, 'evaluation metrics as a function of the threshold')"
      ]
     },
     "execution_count": 42,
     "metadata": {},
     "output_type": "execute_result"
    },
    {
     "data": {
      "image/png": "[encoded data removed]",
      "text/plain": [
       "<Figure size 1080x504 with 1 Axes>"
      ]
     },
     "metadata": {
      "needs_background": "light"
     },
     "output_type": "display_data"
    }
   ],
   "source": [
    "fig,ax =  plt.subplots(figsize=(15,7))\n",
    "ax.plot(threshold_list,accuracies,label='accuracy')\n",
    "ax.plot(threshold_list,recalls,label='recall')\n",
    "ax.plot(threshold_list,precisions,label='precision')\n",
    "ax.legend()\n",
    "ax.grid(True)\n",
    "ax.set_title('evaluation metrics as a function of the threshold')"
   ]
  },
  {
   "cell_type": "code",
   "execution_count": 43,
   "id": "6198676e",
   "metadata": {},
   "outputs": [
    {
     "data": {
      "image/png": "[encoded data removed]",
      "text/plain": [
       "<Figure size 648x360 with 1 Axes>"
      ]
     },
     "metadata": {
      "needs_background": "light"
     },
     "output_type": "display_data"
    }
   ],
   "source": [
    "# recall-precision trade-off \n",
    "fig, ax = plt.subplots(figsize=(9,5))\n",
    "ax.plot(recalls,precisions)\n",
    "ax.set_xlabel('recall')\n",
    "ax.set_ylabel('precision')\n",
    "ax.set_title('precision-recall trade-off')\n",
    "ax.grid(True)"
   ]
  },
  {
   "cell_type": "code",
   "execution_count": 44,
   "id": "d930940c",
   "metadata": {},
   "outputs": [],
   "source": [
    "# we did the precision-recall manually but sklearn can do it itself. \n",
    "from sklearn.metrics import PrecisionRecallDisplay"
   ]
  },
  {
   "cell_type": "code",
   "execution_count": 45,
   "id": "ea380cda",
   "metadata": {},
   "outputs": [
    {
     "data": {
      "text/plain": [
       "<sklearn.metrics._plot.precision_recall_curve.PrecisionRecallDisplay at 0x1c19e43ebe0>"
      ]
     },
     "execution_count": 45,
     "metadata": {},
     "output_type": "execute_result"
    },
    {
     "data": {
      "image/png": "[encoded data removed]",
      "text/plain": [
       "<Figure size 432x288 with 1 Axes>"
      ]
     },
     "metadata": {
      "needs_background": "light"
     },
     "output_type": "display_data"
    }
   ],
   "source": [
    "PrecisionRecallDisplay.from_estimator(logreg_clf,X_test,y_test)"
   ]
  },
  {
   "cell_type": "code",
   "execution_count": 46,
   "id": "17f4f3a0",
   "metadata": {},
   "outputs": [
    {
     "data": {
      "text/plain": [
       "0.6687307395517026"
      ]
     },
     "execution_count": 46,
     "metadata": {},
     "output_type": "execute_result"
    }
   ],
   "source": [
    "# AP refers to \"average precision\" which is the area under the precision-recall curve\n",
    "#average precision is Javi's default metric\n",
    "from sklearn.metrics import average_precision_score \n",
    "average_precision_score(y_test,probs)"
   ]
  },
  {
   "cell_type": "markdown",
   "id": "c6541163",
   "metadata": {},
   "source": [
    "- True Positive Rate = Recall \n",
    "    - TPR = fraction of true positives among all positives \n",
    "    - $\\frac{TP}{TP+FN}$\n",
    "        - FN: positives predicted as negatives \n",
    "        - $TP+FN$ = all positives\n",
    "- False Positive Rate \n",
    "    - FPR = fraction of false positives among all negatives \n",
    "    - $\\frac{FP}{FP+TN}$\n",
    "        - FP: negatives predicted as positives\n",
    "        - $FP+TN$ = all negatives\n",
    "- ROC: \"receiver operating characteristic\" curve\n",
    "- AUC: \"area under the curve\" \n",
    "    - 1 is perfect, 0.9 good, 0.8 decent, 0.7 weak, 0.6 poor, 0.5 fail (model making predictions randomly)"
   ]
  },
  {
   "cell_type": "markdown",
   "id": "e6ee3fa3",
   "metadata": {},
   "source": [
    "### ROC and AUC"
   ]
  },
  {
   "cell_type": "code",
   "execution_count": 47,
   "id": "8c9068f2",
   "metadata": {},
   "outputs": [],
   "source": [
    "# Plot FPR against TPR\n",
    "# ROC - \"receiver operating characteristic\" curve\n",
    "# AUC - \"area under the curve\" "
   ]
  },
  {
   "cell_type": "code",
   "execution_count": 48,
   "id": "e642980c",
   "metadata": {},
   "outputs": [],
   "source": [
    "from sklearn.metrics import RocCurveDisplay"
   ]
  },
  {
   "cell_type": "code",
   "execution_count": 49,
   "id": "c92f482c",
   "metadata": {},
   "outputs": [
    {
     "data": {
      "text/plain": [
       "<sklearn.metrics._plot.roc_curve.RocCurveDisplay at 0x1c19df92280>"
      ]
     },
     "execution_count": 49,
     "metadata": {},
     "output_type": "execute_result"
    },
    {
     "data": {
      "image/png": "[encoded data removed]",
      "text/plain": [
       "<Figure size 432x288 with 1 Axes>"
      ]
     },
     "metadata": {
      "needs_background": "light"
     },
     "output_type": "display_data"
    }
   ],
   "source": [
    "RocCurveDisplay.from_estimator(logreg_clf,X_test,y_test)"
   ]
  },
  {
   "cell_type": "code",
   "execution_count": 51,
   "id": "8ccdd813",
   "metadata": {
    "scrolled": true
   },
   "outputs": [
    {
     "data": {
      "text/plain": [
       "0.7978195033313144"
      ]
     },
     "execution_count": 51,
     "metadata": {},
     "output_type": "execute_result"
    }
   ],
   "source": [
    "from sklearn.metrics import roc_auc_score\n",
    "roc_auc_score(y_test,probs)"
   ]
  },
  {
   "cell_type": "code",
   "execution_count": null,
   "id": "68ea4db5",
   "metadata": {},
   "outputs": [],
   "source": []
  },
  {
   "cell_type": "code",
   "execution_count": null,
   "id": "f61b32ef",
   "metadata": {},
   "outputs": [],
   "source": []
  },
  {
   "cell_type": "code",
   "execution_count": null,
   "id": "57486257",
   "metadata": {},
   "outputs": [],
   "source": []
  },
  {
   "cell_type": "code",
   "execution_count": null,
   "id": "9a0c43c1",
   "metadata": {},
   "outputs": [],
   "source": []
  }
 ],
 "metadata": {
  "kernelspec": {
   "display_name": "Python 3 (ipykernel)",
   "language": "python",
   "name": "python3"
  },
  "language_info": {
   "codemirror_mode": {
    "name": "ipython",
    "version": 3
   },
   "file_extension": ".py",
   "mimetype": "text/x-python",
   "name": "python",
   "nbconvert_exporter": "python",
   "pygments_lexer": "ipython3",
   "version": "3.9.13"
  },
  "toc": {
   "base_numbering": 1,
   "nav_menu": {},
   "number_sections": false,
   "sideBar": true,
   "skip_h1_title": false,
   "title_cell": "Table of Contents",
   "title_sidebar": "Contents",
   "toc_cell": false,
   "toc_position": {},
   "toc_section_display": true,
   "toc_window_display": true
  }
 },
 "nbformat": 4,
 "nbformat_minor": 5
}
