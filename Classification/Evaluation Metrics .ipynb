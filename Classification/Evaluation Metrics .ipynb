{
 "cells": [
  {
   "cell_type": "code",
   "execution_count": 43,
   "id": "23f70a41",
   "metadata": {},
   "outputs": [],
   "source": [
    "import pandas as pd\n",
    "import matplotlib.pyplot as plt\n",
    "import numpy as np"
   ]
  },
  {
   "cell_type": "code",
   "execution_count": 44,
   "id": "62f248a0",
   "metadata": {},
   "outputs": [
    {
     "data": {
      "text/html": [
       "<div>\n",
       "<style scoped>\n",
       "    .dataframe tbody tr th:only-of-type {\n",
       "        vertical-align: middle;\n",
       "    }\n",
       "\n",
       "    .dataframe tbody tr th {\n",
       "        vertical-align: top;\n",
       "    }\n",
       "\n",
       "    .dataframe thead th {\n",
       "        text-align: right;\n",
       "    }\n",
       "</style>\n",
       "<table border=\"1\" class=\"dataframe\">\n",
       "  <thead>\n",
       "    <tr style=\"text-align: right;\">\n",
       "      <th></th>\n",
       "      <th>pregnant</th>\n",
       "      <th>glucose</th>\n",
       "      <th>bp</th>\n",
       "      <th>skin</th>\n",
       "      <th>insulin</th>\n",
       "      <th>bmi</th>\n",
       "      <th>pedigree</th>\n",
       "      <th>age</th>\n",
       "      <th>label</th>\n",
       "    </tr>\n",
       "  </thead>\n",
       "  <tbody>\n",
       "    <tr>\n",
       "      <th>0</th>\n",
       "      <td>6</td>\n",
       "      <td>148</td>\n",
       "      <td>72</td>\n",
       "      <td>35</td>\n",
       "      <td>0</td>\n",
       "      <td>33.6</td>\n",
       "      <td>0.627</td>\n",
       "      <td>50</td>\n",
       "      <td>1</td>\n",
       "    </tr>\n",
       "    <tr>\n",
       "      <th>1</th>\n",
       "      <td>1</td>\n",
       "      <td>85</td>\n",
       "      <td>66</td>\n",
       "      <td>29</td>\n",
       "      <td>0</td>\n",
       "      <td>26.6</td>\n",
       "      <td>0.351</td>\n",
       "      <td>31</td>\n",
       "      <td>0</td>\n",
       "    </tr>\n",
       "    <tr>\n",
       "      <th>2</th>\n",
       "      <td>8</td>\n",
       "      <td>183</td>\n",
       "      <td>64</td>\n",
       "      <td>0</td>\n",
       "      <td>0</td>\n",
       "      <td>23.3</td>\n",
       "      <td>0.672</td>\n",
       "      <td>32</td>\n",
       "      <td>1</td>\n",
       "    </tr>\n",
       "    <tr>\n",
       "      <th>3</th>\n",
       "      <td>1</td>\n",
       "      <td>89</td>\n",
       "      <td>66</td>\n",
       "      <td>23</td>\n",
       "      <td>94</td>\n",
       "      <td>28.1</td>\n",
       "      <td>0.167</td>\n",
       "      <td>21</td>\n",
       "      <td>0</td>\n",
       "    </tr>\n",
       "    <tr>\n",
       "      <th>4</th>\n",
       "      <td>0</td>\n",
       "      <td>137</td>\n",
       "      <td>40</td>\n",
       "      <td>35</td>\n",
       "      <td>168</td>\n",
       "      <td>43.1</td>\n",
       "      <td>2.288</td>\n",
       "      <td>33</td>\n",
       "      <td>1</td>\n",
       "    </tr>\n",
       "  </tbody>\n",
       "</table>\n",
       "</div>"
      ],
      "text/plain": [
       "   pregnant  glucose  bp  skin  insulin   bmi  pedigree  age  label\n",
       "0         6      148  72    35        0  33.6     0.627   50      1\n",
       "1         1       85  66    29        0  26.6     0.351   31      0\n",
       "2         8      183  64     0        0  23.3     0.672   32      1\n",
       "3         1       89  66    23       94  28.1     0.167   21      0\n",
       "4         0      137  40    35      168  43.1     2.288   33      1"
      ]
     },
     "execution_count": 44,
     "metadata": {},
     "output_type": "execute_result"
    }
   ],
   "source": [
    "# load the Pima indian diabetes dataset\n",
    "url = 'https://raw.githubusercontent.com/um-perez-alvaro/Data-Science-Practice/master/Data/pima.csv'\n",
    "pima = pd.read_csv(url)\n",
    "pima.head()"
   ]
  },
  {
   "cell_type": "code",
   "execution_count": 45,
   "id": "8532d7dd",
   "metadata": {},
   "outputs": [],
   "source": [
    "# define X and y\n",
    "feature_cols = ['pregnant','glucose','bp','skin','insulin','bmi','age']\n",
    "X = pima[feature_cols]\n",
    "y = pima.label"
   ]
  },
  {
   "cell_type": "code",
   "execution_count": 46,
   "id": "c34f7ec1",
   "metadata": {},
   "outputs": [],
   "source": [
    "# split X and y into training and testing sets\n",
    "from sklearn.model_selection import train_test_split\n",
    "X_train, X_test, y_train, y_test = train_test_split(X, y, train_size=0.75)"
   ]
  },
  {
   "cell_type": "code",
   "execution_count": 47,
   "id": "db74381e",
   "metadata": {},
   "outputs": [
    {
     "data": {
      "text/plain": [
       "((576, 7), (192, 7))"
      ]
     },
     "execution_count": 47,
     "metadata": {},
     "output_type": "execute_result"
    }
   ],
   "source": [
    "X_train.shape, X_test.shape"
   ]
  },
  {
   "cell_type": "code",
   "execution_count": 48,
   "id": "ab263d9b",
   "metadata": {},
   "outputs": [
    {
     "data": {
      "text/plain": [
       "KNeighborsClassifier()"
      ]
     },
     "execution_count": 48,
     "metadata": {},
     "output_type": "execute_result"
    }
   ],
   "source": [
    "# train a knn model on the training set\n",
    "from sklearn.neighbors import KNeighborsClassifier\n",
    "knn_clf = KNeighborsClassifier()\n",
    "knn_clf.fit(X_train,y_train)"
   ]
  },
  {
   "cell_type": "code",
   "execution_count": 49,
   "id": "d07d6444",
   "metadata": {},
   "outputs": [],
   "source": [
    "# make class predictions for the testing set\n",
    "y_test_pred = knn_clf.predict(X_test)"
   ]
  },
  {
   "cell_type": "code",
   "execution_count": 50,
   "id": "ce268c66",
   "metadata": {
    "scrolled": true
   },
   "outputs": [
    {
     "name": "stdout",
     "output_type": "stream",
     "text": [
      "True: [1 0 0 0 1 1 1 0 1 0 0 0 0 0 0 1 1 1 0 0 0 0 1 1 0 1 0 0 0 1]\n",
      "Pred: [1 0 0 0 1 1 0 1 0 0 0 1 0 0 0 0 0 0 0 0 1 1 1 1 0 1 0 0 0 0]\n"
     ]
    }
   ],
   "source": [
    "# print the first 30 true and predicted responses\n",
    "print('True:',y_test.to_numpy()[0:30])\n",
    "print('Pred:',y_test_pred[0:30])"
   ]
  },
  {
   "cell_type": "code",
   "execution_count": 51,
   "id": "fb1b41fb",
   "metadata": {},
   "outputs": [],
   "source": [
    "from sklearn import metrics"
   ]
  },
  {
   "cell_type": "code",
   "execution_count": 52,
   "id": "7f00fff2",
   "metadata": {},
   "outputs": [
    {
     "name": "stdout",
     "output_type": "stream",
     "text": [
      "73.4375\n"
     ]
    }
   ],
   "source": [
    "print(100*metrics.accuracy_score(y_test, y_test_pred))"
   ]
  },
  {
   "cell_type": "markdown",
   "id": "5addd999",
   "metadata": {},
   "source": [
    "### The Confusion Matrix"
   ]
  },
  {
   "cell_type": "code",
   "execution_count": 53,
   "id": "dec2bf72",
   "metadata": {},
   "outputs": [
    {
     "name": "stdout",
     "output_type": "stream",
     "text": [
      "[[103  21]\n",
      " [ 30  38]]\n"
     ]
    }
   ],
   "source": [
    "C = print(metrics.confusion_matrix(y_test,y_test_pred))"
   ]
  },
  {
   "cell_type": "code",
   "execution_count": 54,
   "id": "08ebfd09",
   "metadata": {},
   "outputs": [
    {
     "data": {
      "text/plain": [
       "<sklearn.metrics._plot.confusion_matrix.ConfusionMatrixDisplay at 0x2490c79cd00>"
      ]
     },
     "execution_count": 54,
     "metadata": {},
     "output_type": "execute_result"
    },
    {
     "data": {
      "image/png": "[encoded data removed]",
      "text/plain": [
       "<Figure size 432x288 with 2 Axes>"
      ]
     },
     "metadata": {
      "needs_background": "light"
     },
     "output_type": "display_data"
    }
   ],
   "source": [
    "# plot confusion matrix\n",
    "from sklearn.metrics import ConfusionMatrixDisplay\n",
    "ConfusionMatrixDisplay.from_estimator(knn_clf,X_test,y_test)"
   ]
  },
  {
   "cell_type": "code",
   "execution_count": 55,
   "id": "550a5591",
   "metadata": {},
   "outputs": [],
   "source": [
    "from sklearn.model_selection import cross_val_score as cvs"
   ]
  },
  {
   "cell_type": "code",
   "execution_count": 56,
   "id": "a402ad04",
   "metadata": {},
   "outputs": [
    {
     "data": {
      "text/plain": [
       "array([0.67532468, 0.79220779, 0.71428571, 0.67532468, 0.66233766,\n",
       "       0.74025974, 0.7012987 , 0.79220779, 0.71052632, 0.73684211])"
      ]
     },
     "execution_count": 56,
     "metadata": {},
     "output_type": "execute_result"
    }
   ],
   "source": [
    "scores = cvs(knn_clf,X,y,cv=10,scoring='accuracy')\n",
    "scores"
   ]
  },
  {
   "cell_type": "code",
   "execution_count": 57,
   "id": "b9862688",
   "metadata": {},
   "outputs": [
    {
     "data": {
      "text/plain": [
       "0.7200615174299384"
      ]
     },
     "execution_count": 57,
     "metadata": {},
     "output_type": "execute_result"
    }
   ],
   "source": [
    "scores.mean()"
   ]
  },
  {
   "cell_type": "markdown",
   "id": "9109babe",
   "metadata": {},
   "source": [
    "### Grid search: efficiently searching for optimal hyperparamaters"
   ]
  },
  {
   "cell_type": "code",
   "execution_count": 63,
   "id": "c48ed7ba",
   "metadata": {
    "scrolled": true
   },
   "outputs": [
    {
     "data": {
      "text/html": [
       "<div>\n",
       "<style scoped>\n",
       "    .dataframe tbody tr th:only-of-type {\n",
       "        vertical-align: middle;\n",
       "    }\n",
       "\n",
       "    .dataframe tbody tr th {\n",
       "        vertical-align: top;\n",
       "    }\n",
       "\n",
       "    .dataframe thead th {\n",
       "        text-align: right;\n",
       "    }\n",
       "</style>\n",
       "<table border=\"1\" class=\"dataframe\">\n",
       "  <thead>\n",
       "    <tr style=\"text-align: right;\">\n",
       "      <th></th>\n",
       "      <th>pregnant</th>\n",
       "      <th>glucose</th>\n",
       "      <th>bp</th>\n",
       "      <th>skin</th>\n",
       "      <th>insulin</th>\n",
       "      <th>bmi</th>\n",
       "      <th>pedigree</th>\n",
       "      <th>age</th>\n",
       "      <th>label</th>\n",
       "    </tr>\n",
       "  </thead>\n",
       "  <tbody>\n",
       "    <tr>\n",
       "      <th>0</th>\n",
       "      <td>6</td>\n",
       "      <td>148</td>\n",
       "      <td>72</td>\n",
       "      <td>35</td>\n",
       "      <td>0</td>\n",
       "      <td>33.6</td>\n",
       "      <td>0.627</td>\n",
       "      <td>50</td>\n",
       "      <td>1</td>\n",
       "    </tr>\n",
       "    <tr>\n",
       "      <th>1</th>\n",
       "      <td>1</td>\n",
       "      <td>85</td>\n",
       "      <td>66</td>\n",
       "      <td>29</td>\n",
       "      <td>0</td>\n",
       "      <td>26.6</td>\n",
       "      <td>0.351</td>\n",
       "      <td>31</td>\n",
       "      <td>0</td>\n",
       "    </tr>\n",
       "    <tr>\n",
       "      <th>2</th>\n",
       "      <td>8</td>\n",
       "      <td>183</td>\n",
       "      <td>64</td>\n",
       "      <td>0</td>\n",
       "      <td>0</td>\n",
       "      <td>23.3</td>\n",
       "      <td>0.672</td>\n",
       "      <td>32</td>\n",
       "      <td>1</td>\n",
       "    </tr>\n",
       "    <tr>\n",
       "      <th>3</th>\n",
       "      <td>1</td>\n",
       "      <td>89</td>\n",
       "      <td>66</td>\n",
       "      <td>23</td>\n",
       "      <td>94</td>\n",
       "      <td>28.1</td>\n",
       "      <td>0.167</td>\n",
       "      <td>21</td>\n",
       "      <td>0</td>\n",
       "    </tr>\n",
       "    <tr>\n",
       "      <th>4</th>\n",
       "      <td>0</td>\n",
       "      <td>137</td>\n",
       "      <td>40</td>\n",
       "      <td>35</td>\n",
       "      <td>168</td>\n",
       "      <td>43.1</td>\n",
       "      <td>2.288</td>\n",
       "      <td>33</td>\n",
       "      <td>1</td>\n",
       "    </tr>\n",
       "  </tbody>\n",
       "</table>\n",
       "</div>"
      ],
      "text/plain": [
       "   pregnant  glucose  bp  skin  insulin   bmi  pedigree  age  label\n",
       "0         6      148  72    35        0  33.6     0.627   50      1\n",
       "1         1       85  66    29        0  26.6     0.351   31      0\n",
       "2         8      183  64     0        0  23.3     0.672   32      1\n",
       "3         1       89  66    23       94  28.1     0.167   21      0\n",
       "4         0      137  40    35      168  43.1     2.288   33      1"
      ]
     },
     "execution_count": 63,
     "metadata": {},
     "output_type": "execute_result"
    }
   ],
   "source": [
    "pima.head()"
   ]
  },
  {
   "cell_type": "markdown",
   "id": "8145d5e8",
   "metadata": {},
   "source": [
    "KNN is actually not the best model to use for this data because glucose has very high numbers and KNN uses distance, so it's basically just using glucose as the predictor rather than everything. "
   ]
  },
  {
   "cell_type": "code",
   "execution_count": 68,
   "id": "40d41eab",
   "metadata": {},
   "outputs": [],
   "source": [
    "from sklearn.neighbors import KNeighborsClassifier"
   ]
  },
  {
   "cell_type": "code",
   "execution_count": 65,
   "id": "ca677a43",
   "metadata": {},
   "outputs": [],
   "source": [
    "# matrix X and target vector Y \n",
    "X = pima.drop('label',axis=1)\n",
    "y = pima.label"
   ]
  },
  {
   "cell_type": "code",
   "execution_count": 66,
   "id": "057c8229",
   "metadata": {},
   "outputs": [],
   "source": [
    "# train - test split \n",
    "from sklearn.model_selection import train_test_split \n",
    "X_train,X_test,y_train,y_test = train_test_split(X,y)"
   ]
  },
  {
   "cell_type": "code",
   "execution_count": 67,
   "id": "e1d2a89b",
   "metadata": {},
   "outputs": [
    {
     "data": {
      "text/plain": [
       "KNeighborsClassifier()"
      ]
     },
     "execution_count": 67,
     "metadata": {},
     "output_type": "execute_result"
    }
   ],
   "source": [
    "knn_clf.fit(X_train,y_train)"
   ]
  },
  {
   "cell_type": "code",
   "execution_count": 70,
   "id": "cf1fc16b",
   "metadata": {},
   "outputs": [
    {
     "name": "stdout",
     "output_type": "stream",
     "text": [
      "0.6875\n",
      "0.43661971830985913\n",
      "0.6078431372549019\n"
     ]
    }
   ],
   "source": [
    "#evaluation of KNN model \n",
    "from sklearn.metrics import accuracy_score, recall_score, precision_score, ConfusionMatrixDisplay\n",
    "y_test_pred = knn_clf.predict(X_test)\n",
    "print(accuracy_score(y_test,y_test_pred))\n",
    "print(recall_score(y_test,y_test_pred))\n",
    "print(precision_score(y_test,y_test_pred))"
   ]
  },
  {
   "cell_type": "code",
   "execution_count": 71,
   "id": "1eedcdf3",
   "metadata": {},
   "outputs": [
    {
     "data": {
      "text/plain": [
       "<sklearn.metrics._plot.confusion_matrix.ConfusionMatrixDisplay at 0x2490f0aedc0>"
      ]
     },
     "execution_count": 71,
     "metadata": {},
     "output_type": "execute_result"
    },
    {
     "data": {
      "image/png": "[encoded data removed]",
      "text/plain": [
       "<Figure size 432x288 with 2 Axes>"
      ]
     },
     "metadata": {
      "needs_background": "light"
     },
     "output_type": "display_data"
    }
   ],
   "source": [
    "ConfusionMatrixDisplay.from_estimator(knn_clf,X_test,y_test)\n",
    "# stop at dot and press tab to see options"
   ]
  },
  {
   "cell_type": "markdown",
   "id": "68807509",
   "metadata": {},
   "source": [
    "- Recall = $\\frac{TP}{TP+FN}$\n",
    "    - low score means a lot of false negatives, so use if you care about FN \n",
    "- Precision = $\\frac{TP}{TP+FP}$\n",
    "    - low score means a lot of false positives, so use if you care about FN\n",
    "- the model above has a lot of false positives. Since the model is diagnosing diabetes, a false positive and a false negative is not good. As a general rule if the score you care about is .5 or lower, you should try a different model \n",
    "- If we use rows (x) as the actual value and columns (y) as predicted values using (x,y), then \n",
    "    - (1,1) is true positive\n",
    "    - (1,0) is false negative \n",
    "    - (0,1) is false positive \n",
    "    - (0,0) is true positive "
   ]
  },
  {
   "cell_type": "code",
   "execution_count": 58,
   "id": "c08dbddb",
   "metadata": {},
   "outputs": [],
   "source": [
    "#define hyperparameter values that should be searched \n",
    "k_range = list(range(1,51))"
   ]
  },
  {
   "cell_type": "code",
   "execution_count": 59,
   "id": "546f1d15",
   "metadata": {},
   "outputs": [],
   "source": [
    "#create a hyperparameter dictionary\n",
    "grid_dic = {'n_neighbors':k_range, 'weights':['uniform','distance']}"
   ]
  },
  {
   "cell_type": "code",
   "execution_count": 60,
   "id": "c2c63550",
   "metadata": {},
   "outputs": [],
   "source": [
    "#change n_neighbors param \n",
    "knn_clf.n_neighbors = 5"
   ]
  },
  {
   "cell_type": "markdown",
   "id": "9a5e70f5",
   "metadata": {},
   "source": [
    "n_jobs=-1 : uses all your CPUs"
   ]
  },
  {
   "cell_type": "code",
   "execution_count": 85,
   "id": "dab74059",
   "metadata": {},
   "outputs": [],
   "source": [
    "from sklearn.model_selection import GridSearchCV \n",
    "#GridSearchCV(knn_clf,grid_dic,cv = 10,scoring='accuracy',verbose=1,n_jobs=1)\n",
    "grid = GridSearchCV(knn_clf,grid_dic,cv=10,scoring='precision',n_jobs=-1,verbose=1)"
   ]
  },
  {
   "cell_type": "code",
   "execution_count": 86,
   "id": "fabd032f",
   "metadata": {},
   "outputs": [
    {
     "name": "stdout",
     "output_type": "stream",
     "text": [
      "Fitting 10 folds for each of 100 candidates, totalling 1000 fits\n"
     ]
    },
    {
     "data": {
      "text/plain": [
       "GridSearchCV(cv=10, estimator=KNeighborsClassifier(), n_jobs=-1,\n",
       "             param_grid={'n_neighbors': [1, 2, 3, 4, 5, 6, 7, 8, 9, 10, 11, 12,\n",
       "                                         13, 14, 15, 16, 17, 18, 19, 20, 21, 22,\n",
       "                                         23, 24, 25, 26, 27, 28, 29, 30, ...],\n",
       "                         'weights': ['uniform', 'distance']},\n",
       "             scoring='precision', verbose=1)"
      ]
     },
     "execution_count": 86,
     "metadata": {},
     "output_type": "execute_result"
    }
   ],
   "source": [
    "grid.fit(X_train,y_train)"
   ]
  },
  {
   "cell_type": "code",
   "execution_count": 87,
   "id": "e74efe11",
   "metadata": {},
   "outputs": [
    {
     "data": {
      "text/plain": [
       "{'mean_fit_time': array([0.00634823, 0.0063252 , 0.00802081, 0.00629625, 0.00642402,\n",
       "        0.00556297, 0.00666609, 0.00755637, 0.        , 0.00499208,\n",
       "        0.00220413, 0.00632432, 0.00392554, 0.00925572, 0.00253527,\n",
       "        0.0031251 , 0.00485084, 0.00254831, 0.00322888, 0.00156395,\n",
       "        0.00390339, 0.00560038, 0.00354817, 0.00388405, 0.00906403,\n",
       "        0.0055438 , 0.00338345, 0.00312517, 0.003564  , 0.0056227 ,\n",
       "        0.00392556, 0.0058001 , 0.00449739, 0.00471547, 0.00546968,\n",
       "        0.00754478, 0.00742524, 0.00781381, 0.00345292, 0.00559032,\n",
       "        0.00400712, 0.00423715, 0.00473311, 0.00657272, 0.00786998,\n",
       "        0.00316293, 0.00564919, 0.00797143, 0.00472889, 0.00425224,\n",
       "        0.00399966, 0.00471492, 0.00386889, 0.00498064, 0.00412858,\n",
       "        0.00400023, 0.00790176, 0.00802095, 0.00468969, 0.00415859,\n",
       "        0.00457535, 0.00625052, 0.0018229 , 0.00569091, 0.00561562,\n",
       "        0.00632565, 0.0035744 , 0.00474772, 0.00382802, 0.00312428,\n",
       "        0.00680833, 0.00156426, 0.00468838, 0.00521383, 0.00472894,\n",
       "        0.00468905, 0.00485992, 0.00452647, 0.00286906, 0.00236275,\n",
       "        0.00306544, 0.00300493, 0.00306787, 0.00469012, 0.00312471,\n",
       "        0.00312536, 0.00695322, 0.00452843, 0.00557423, 0.00240698,\n",
       "        0.00390661, 0.00240033, 0.0067219 , 0.00440402, 0.00426941,\n",
       "        0.00426941, 0.00329757, 0.0056232 , 0.00312557, 0.00156279]),\n",
       " 'std_fit_time': array([0.00738404, 0.00586759, 0.00606761, 0.00705751, 0.00572731,\n",
       "        0.00504753, 0.00488924, 0.00700904, 0.        , 0.00359949,\n",
       "        0.00358486, 0.00586706, 0.00631143, 0.00666183, 0.00388845,\n",
       "        0.00625019, 0.00742439, 0.00359544, 0.00590806, 0.00469186,\n",
       "        0.00390699, 0.00366631, 0.00616618, 0.00410065, 0.00745505,\n",
       "        0.00748001, 0.0039148 , 0.00625033, 0.00511201, 0.00368148,\n",
       "        0.00631124, 0.00477212, 0.00574206, 0.00520448, 0.00692593,\n",
       "        0.00445729, 0.00370063, 0.00781381, 0.00554793, 0.00708232,\n",
       "        0.00636847, 0.00339844, 0.00332319, 0.00564305, 0.00688898,\n",
       "        0.00521715, 0.00618781, 0.00700029, 0.00652234, 0.00368682,\n",
       "        0.00399966, 0.00625088, 0.00455946, 0.00717288, 0.00543266,\n",
       "        0.00400023, 0.00488903, 0.00705664, 0.00716363, 0.00416871,\n",
       "        0.00468766, 0.0076553 , 0.00291025, 0.00713766, 0.00709377,\n",
       "        0.00586772, 0.00617128, 0.00599814, 0.0062567 , 0.00624857,\n",
       "        0.0060002 , 0.00469279, 0.00716162, 0.00507317, 0.00722435,\n",
       "        0.00716264, 0.00511063, 0.00692681, 0.00497648, 0.00502422,\n",
       "        0.00613238, 0.00600986, 0.00613736, 0.00716428, 0.00624943,\n",
       "        0.00625072, 0.00736702, 0.00617702, 0.00616161, 0.00507407,\n",
       "        0.00394209, 0.00366656, 0.00487722, 0.00391238, 0.00429474,\n",
       "        0.00429474, 0.00535612, 0.0070987 , 0.00625114, 0.00468836]),\n",
       " 'mean_score_time': array([0.00494566, 0.0063827 , 0.00762255, 0.00473349, 0.00486367,\n",
       "        0.00559947, 0.00640109, 0.00564137, 0.0141825 , 0.00415308,\n",
       "        0.01254392, 0.00484352, 0.00633593, 0.00296814, 0.01136808,\n",
       "        0.00625153, 0.00704043, 0.00646155, 0.0062525 , 0.00945504,\n",
       "        0.00728889, 0.00398803, 0.00941296, 0.00472431, 0.00504076,\n",
       "        0.00378871, 0.00853226, 0.00625234, 0.00997226, 0.0072253 ,\n",
       "        0.00733619, 0.00353312, 0.01097953, 0.00796964, 0.00780399,\n",
       "        0.00838161, 0.00616455, 0.00468752, 0.01266136, 0.00296595,\n",
       "        0.01029932, 0.00519948, 0.00560434, 0.00237703, 0.00550919,\n",
       "        0.00941887, 0.00713024, 0.00476317, 0.00799649, 0.00826023,\n",
       "        0.00640054, 0.00563567, 0.00928538, 0.00604241, 0.01041479,\n",
       "        0.00720108, 0.00950072, 0.00485849, 0.00538912, 0.00652137,\n",
       "        0.00672448, 0.00566158, 0.00879219, 0.00412629, 0.00628729,\n",
       "        0.00492291, 0.00643742, 0.00552399, 0.00878811, 0.00509579,\n",
       "        0.0080575 , 0.00472989, 0.00624993, 0.00519295, 0.0062505 ,\n",
       "        0.00629272, 0.00801835, 0.00625269, 0.00987635, 0.00520062,\n",
       "        0.00806022, 0.00785992, 0.00938075, 0.0046874 , 0.00625105,\n",
       "        0.00781255, 0.00406847, 0.00629234, 0.00863855, 0.00736248,\n",
       "        0.00824144, 0.00739255, 0.00564554, 0.00320036, 0.00712614,\n",
       "        0.0062885 , 0.00735755, 0.00312557, 0.00468855, 0.00781441]),\n",
       " 'std_score_time': array([0.00701082, 0.00473376, 0.00618523, 0.00690836, 0.00531055,\n",
       "        0.00366572, 0.00480275, 0.00710927, 0.00285376, 0.00562208,\n",
       "        0.00526823, 0.00515283, 0.0075879 , 0.00506852, 0.00486124,\n",
       "        0.00765653, 0.00736175, 0.00707367, 0.00766279, 0.00673175,\n",
       "        0.00243586, 0.00437066, 0.00680313, 0.00626812, 0.00700837,\n",
       "        0.00342784, 0.00423233, 0.00765752, 0.00646519, 0.00431377,\n",
       "        0.00655093, 0.00407899, 0.00534521, 0.00607001, 0.00702859,\n",
       "        0.0051874 , 0.00421317, 0.00716031, 0.00483235, 0.00504638,\n",
       "        0.0060551 , 0.00376585, 0.00512391, 0.0032507 , 0.00679851,\n",
       "        0.00683689, 0.00552529, 0.005229  , 0.00818769, 0.00232984,\n",
       "        0.00320027, 0.00605873, 0.00455408, 0.00742321, 0.00490721,\n",
       "        0.00240036, 0.00464942, 0.00611357, 0.00700885, 0.00479512,\n",
       "        0.00244083, 0.00711862, 0.00583383, 0.0064673 , 0.00681995,\n",
       "        0.00638401, 0.00790094, 0.00503332, 0.00650062, 0.0073779 ,\n",
       "        0.00455481, 0.00637082, 0.00765457, 0.00445557, 0.00765527,\n",
       "        0.00770779, 0.00495154, 0.00765796, 0.00575838, 0.00427764,\n",
       "        0.00807405, 0.0078685 , 0.00765935, 0.00716013, 0.00765594,\n",
       "        0.00781255, 0.0053903 , 0.00683632, 0.00549052, 0.0043297 ,\n",
       "        0.00055367, 0.00443797, 0.0036982 , 0.00391963, 0.00548391,\n",
       "        0.006821  , 0.00655779, 0.00625114, 0.00716188, 0.00781441]),\n",
       " 'param_n_neighbors': masked_array(data=[1, 1, 2, 2, 3, 3, 4, 4, 5, 5, 6, 6, 7, 7, 8, 8, 9, 9,\n",
       "                    10, 10, 11, 11, 12, 12, 13, 13, 14, 14, 15, 15, 16, 16,\n",
       "                    17, 17, 18, 18, 19, 19, 20, 20, 21, 21, 22, 22, 23, 23,\n",
       "                    24, 24, 25, 25, 26, 26, 27, 27, 28, 28, 29, 29, 30, 30,\n",
       "                    31, 31, 32, 32, 33, 33, 34, 34, 35, 35, 36, 36, 37, 37,\n",
       "                    38, 38, 39, 39, 40, 40, 41, 41, 42, 42, 43, 43, 44, 44,\n",
       "                    45, 45, 46, 46, 47, 47, 48, 48, 49, 49, 50, 50],\n",
       "              mask=[False, False, False, False, False, False, False, False,\n",
       "                    False, False, False, False, False, False, False, False,\n",
       "                    False, False, False, False, False, False, False, False,\n",
       "                    False, False, False, False, False, False, False, False,\n",
       "                    False, False, False, False, False, False, False, False,\n",
       "                    False, False, False, False, False, False, False, False,\n",
       "                    False, False, False, False, False, False, False, False,\n",
       "                    False, False, False, False, False, False, False, False,\n",
       "                    False, False, False, False, False, False, False, False,\n",
       "                    False, False, False, False, False, False, False, False,\n",
       "                    False, False, False, False, False, False, False, False,\n",
       "                    False, False, False, False, False, False, False, False,\n",
       "                    False, False, False, False],\n",
       "        fill_value='?',\n",
       "             dtype=object),\n",
       " 'param_weights': masked_array(data=['uniform', 'distance', 'uniform', 'distance',\n",
       "                    'uniform', 'distance', 'uniform', 'distance',\n",
       "                    'uniform', 'distance', 'uniform', 'distance',\n",
       "                    'uniform', 'distance', 'uniform', 'distance',\n",
       "                    'uniform', 'distance', 'uniform', 'distance',\n",
       "                    'uniform', 'distance', 'uniform', 'distance',\n",
       "                    'uniform', 'distance', 'uniform', 'distance',\n",
       "                    'uniform', 'distance', 'uniform', 'distance',\n",
       "                    'uniform', 'distance', 'uniform', 'distance',\n",
       "                    'uniform', 'distance', 'uniform', 'distance',\n",
       "                    'uniform', 'distance', 'uniform', 'distance',\n",
       "                    'uniform', 'distance', 'uniform', 'distance',\n",
       "                    'uniform', 'distance', 'uniform', 'distance',\n",
       "                    'uniform', 'distance', 'uniform', 'distance',\n",
       "                    'uniform', 'distance', 'uniform', 'distance',\n",
       "                    'uniform', 'distance', 'uniform', 'distance',\n",
       "                    'uniform', 'distance', 'uniform', 'distance',\n",
       "                    'uniform', 'distance', 'uniform', 'distance',\n",
       "                    'uniform', 'distance', 'uniform', 'distance',\n",
       "                    'uniform', 'distance', 'uniform', 'distance',\n",
       "                    'uniform', 'distance', 'uniform', 'distance',\n",
       "                    'uniform', 'distance', 'uniform', 'distance',\n",
       "                    'uniform', 'distance', 'uniform', 'distance',\n",
       "                    'uniform', 'distance', 'uniform', 'distance',\n",
       "                    'uniform', 'distance', 'uniform', 'distance'],\n",
       "              mask=[False, False, False, False, False, False, False, False,\n",
       "                    False, False, False, False, False, False, False, False,\n",
       "                    False, False, False, False, False, False, False, False,\n",
       "                    False, False, False, False, False, False, False, False,\n",
       "                    False, False, False, False, False, False, False, False,\n",
       "                    False, False, False, False, False, False, False, False,\n",
       "                    False, False, False, False, False, False, False, False,\n",
       "                    False, False, False, False, False, False, False, False,\n",
       "                    False, False, False, False, False, False, False, False,\n",
       "                    False, False, False, False, False, False, False, False,\n",
       "                    False, False, False, False, False, False, False, False,\n",
       "                    False, False, False, False, False, False, False, False,\n",
       "                    False, False, False, False],\n",
       "        fill_value='?',\n",
       "             dtype=object),\n",
       " 'params': [{'n_neighbors': 1, 'weights': 'uniform'},\n",
       "  {'n_neighbors': 1, 'weights': 'distance'},\n",
       "  {'n_neighbors': 2, 'weights': 'uniform'},\n",
       "  {'n_neighbors': 2, 'weights': 'distance'},\n",
       "  {'n_neighbors': 3, 'weights': 'uniform'},\n",
       "  {'n_neighbors': 3, 'weights': 'distance'},\n",
       "  {'n_neighbors': 4, 'weights': 'uniform'},\n",
       "  {'n_neighbors': 4, 'weights': 'distance'},\n",
       "  {'n_neighbors': 5, 'weights': 'uniform'},\n",
       "  {'n_neighbors': 5, 'weights': 'distance'},\n",
       "  {'n_neighbors': 6, 'weights': 'uniform'},\n",
       "  {'n_neighbors': 6, 'weights': 'distance'},\n",
       "  {'n_neighbors': 7, 'weights': 'uniform'},\n",
       "  {'n_neighbors': 7, 'weights': 'distance'},\n",
       "  {'n_neighbors': 8, 'weights': 'uniform'},\n",
       "  {'n_neighbors': 8, 'weights': 'distance'},\n",
       "  {'n_neighbors': 9, 'weights': 'uniform'},\n",
       "  {'n_neighbors': 9, 'weights': 'distance'},\n",
       "  {'n_neighbors': 10, 'weights': 'uniform'},\n",
       "  {'n_neighbors': 10, 'weights': 'distance'},\n",
       "  {'n_neighbors': 11, 'weights': 'uniform'},\n",
       "  {'n_neighbors': 11, 'weights': 'distance'},\n",
       "  {'n_neighbors': 12, 'weights': 'uniform'},\n",
       "  {'n_neighbors': 12, 'weights': 'distance'},\n",
       "  {'n_neighbors': 13, 'weights': 'uniform'},\n",
       "  {'n_neighbors': 13, 'weights': 'distance'},\n",
       "  {'n_neighbors': 14, 'weights': 'uniform'},\n",
       "  {'n_neighbors': 14, 'weights': 'distance'},\n",
       "  {'n_neighbors': 15, 'weights': 'uniform'},\n",
       "  {'n_neighbors': 15, 'weights': 'distance'},\n",
       "  {'n_neighbors': 16, 'weights': 'uniform'},\n",
       "  {'n_neighbors': 16, 'weights': 'distance'},\n",
       "  {'n_neighbors': 17, 'weights': 'uniform'},\n",
       "  {'n_neighbors': 17, 'weights': 'distance'},\n",
       "  {'n_neighbors': 18, 'weights': 'uniform'},\n",
       "  {'n_neighbors': 18, 'weights': 'distance'},\n",
       "  {'n_neighbors': 19, 'weights': 'uniform'},\n",
       "  {'n_neighbors': 19, 'weights': 'distance'},\n",
       "  {'n_neighbors': 20, 'weights': 'uniform'},\n",
       "  {'n_neighbors': 20, 'weights': 'distance'},\n",
       "  {'n_neighbors': 21, 'weights': 'uniform'},\n",
       "  {'n_neighbors': 21, 'weights': 'distance'},\n",
       "  {'n_neighbors': 22, 'weights': 'uniform'},\n",
       "  {'n_neighbors': 22, 'weights': 'distance'},\n",
       "  {'n_neighbors': 23, 'weights': 'uniform'},\n",
       "  {'n_neighbors': 23, 'weights': 'distance'},\n",
       "  {'n_neighbors': 24, 'weights': 'uniform'},\n",
       "  {'n_neighbors': 24, 'weights': 'distance'},\n",
       "  {'n_neighbors': 25, 'weights': 'uniform'},\n",
       "  {'n_neighbors': 25, 'weights': 'distance'},\n",
       "  {'n_neighbors': 26, 'weights': 'uniform'},\n",
       "  {'n_neighbors': 26, 'weights': 'distance'},\n",
       "  {'n_neighbors': 27, 'weights': 'uniform'},\n",
       "  {'n_neighbors': 27, 'weights': 'distance'},\n",
       "  {'n_neighbors': 28, 'weights': 'uniform'},\n",
       "  {'n_neighbors': 28, 'weights': 'distance'},\n",
       "  {'n_neighbors': 29, 'weights': 'uniform'},\n",
       "  {'n_neighbors': 29, 'weights': 'distance'},\n",
       "  {'n_neighbors': 30, 'weights': 'uniform'},\n",
       "  {'n_neighbors': 30, 'weights': 'distance'},\n",
       "  {'n_neighbors': 31, 'weights': 'uniform'},\n",
       "  {'n_neighbors': 31, 'weights': 'distance'},\n",
       "  {'n_neighbors': 32, 'weights': 'uniform'},\n",
       "  {'n_neighbors': 32, 'weights': 'distance'},\n",
       "  {'n_neighbors': 33, 'weights': 'uniform'},\n",
       "  {'n_neighbors': 33, 'weights': 'distance'},\n",
       "  {'n_neighbors': 34, 'weights': 'uniform'},\n",
       "  {'n_neighbors': 34, 'weights': 'distance'},\n",
       "  {'n_neighbors': 35, 'weights': 'uniform'},\n",
       "  {'n_neighbors': 35, 'weights': 'distance'},\n",
       "  {'n_neighbors': 36, 'weights': 'uniform'},\n",
       "  {'n_neighbors': 36, 'weights': 'distance'},\n",
       "  {'n_neighbors': 37, 'weights': 'uniform'},\n",
       "  {'n_neighbors': 37, 'weights': 'distance'},\n",
       "  {'n_neighbors': 38, 'weights': 'uniform'},\n",
       "  {'n_neighbors': 38, 'weights': 'distance'},\n",
       "  {'n_neighbors': 39, 'weights': 'uniform'},\n",
       "  {'n_neighbors': 39, 'weights': 'distance'},\n",
       "  {'n_neighbors': 40, 'weights': 'uniform'},\n",
       "  {'n_neighbors': 40, 'weights': 'distance'},\n",
       "  {'n_neighbors': 41, 'weights': 'uniform'},\n",
       "  {'n_neighbors': 41, 'weights': 'distance'},\n",
       "  {'n_neighbors': 42, 'weights': 'uniform'},\n",
       "  {'n_neighbors': 42, 'weights': 'distance'},\n",
       "  {'n_neighbors': 43, 'weights': 'uniform'},\n",
       "  {'n_neighbors': 43, 'weights': 'distance'},\n",
       "  {'n_neighbors': 44, 'weights': 'uniform'},\n",
       "  {'n_neighbors': 44, 'weights': 'distance'},\n",
       "  {'n_neighbors': 45, 'weights': 'uniform'},\n",
       "  {'n_neighbors': 45, 'weights': 'distance'},\n",
       "  {'n_neighbors': 46, 'weights': 'uniform'},\n",
       "  {'n_neighbors': 46, 'weights': 'distance'},\n",
       "  {'n_neighbors': 47, 'weights': 'uniform'},\n",
       "  {'n_neighbors': 47, 'weights': 'distance'},\n",
       "  {'n_neighbors': 48, 'weights': 'uniform'},\n",
       "  {'n_neighbors': 48, 'weights': 'distance'},\n",
       "  {'n_neighbors': 49, 'weights': 'uniform'},\n",
       "  {'n_neighbors': 49, 'weights': 'distance'},\n",
       "  {'n_neighbors': 50, 'weights': 'uniform'},\n",
       "  {'n_neighbors': 50, 'weights': 'distance'}],\n",
       " 'split0_test_score': array([0.44444444, 0.44444444, 0.77777778, 0.44444444, 0.63157895,\n",
       "        0.63157895, 0.78571429, 0.66666667, 0.6875    , 0.70588235,\n",
       "        0.76923077, 0.6875    , 0.66666667, 0.6875    , 0.83333333,\n",
       "        0.6875    , 0.66666667, 0.6875    , 0.83333333, 0.6875    ,\n",
       "        0.76923077, 0.78571429, 0.83333333, 0.73333333, 0.71428571,\n",
       "        0.73333333, 0.81818182, 0.84615385, 0.75      , 0.76923077,\n",
       "        0.9       , 0.84615385, 0.84615385, 0.84615385, 0.90909091,\n",
       "        0.84615385, 0.84615385, 0.84615385, 0.90909091, 0.84615385,\n",
       "        0.84615385, 0.8       , 0.9       , 0.92307692, 0.83333333,\n",
       "        0.85714286, 0.81818182, 0.84615385, 0.84615385, 0.78571429,\n",
       "        0.84615385, 0.76923077, 0.84615385, 0.78571429, 0.90909091,\n",
       "        0.83333333, 0.84615385, 0.76923077, 0.81818182, 0.83333333,\n",
       "        0.81818182, 0.76923077, 0.9       , 0.76923077, 0.90909091,\n",
       "        0.76923077, 1.        , 1.        , 1.        , 0.90909091,\n",
       "        1.        , 1.        , 0.83333333, 0.76923077, 0.88888889,\n",
       "        0.90909091, 0.88888889, 0.76923077, 0.88888889, 0.83333333,\n",
       "        0.81818182, 0.76923077, 0.88888889, 0.83333333, 0.81818182,\n",
       "        0.83333333, 0.81818182, 0.83333333, 0.81818182, 0.83333333,\n",
       "        0.81818182, 0.83333333, 0.81818182, 0.83333333, 0.81818182,\n",
       "        0.83333333, 0.75      , 0.83333333, 0.75      , 0.83333333]),\n",
       " 'split1_test_score': array([0.35714286, 0.35714286, 0.42857143, 0.35714286, 0.34782609,\n",
       "        0.34782609, 0.375     , 0.34615385, 0.45      , 0.45      ,\n",
       "        0.41176471, 0.36842105, 0.45      , 0.45      , 0.47058824,\n",
       "        0.42857143, 0.56521739, 0.56521739, 0.47368421, 0.52380952,\n",
       "        0.52380952, 0.52380952, 0.52941176, 0.5       , 0.47368421,\n",
       "        0.47368421, 0.44444444, 0.44444444, 0.44444444, 0.44444444,\n",
       "        0.41176471, 0.44444444, 0.38888889, 0.42105263, 0.46666667,\n",
       "        0.47058824, 0.4375    , 0.41176471, 0.4375    , 0.41176471,\n",
       "        0.41176471, 0.41176471, 0.46666667, 0.41176471, 0.46666667,\n",
       "        0.41176471, 0.46666667, 0.41176471, 0.46666667, 0.4375    ,\n",
       "        0.46666667, 0.41176471, 0.4375    , 0.4375    , 0.4       ,\n",
       "        0.4375    , 0.4375    , 0.4375    , 0.4       , 0.4       ,\n",
       "        0.41176471, 0.4375    , 0.4375    , 0.4375    , 0.47368421,\n",
       "        0.52941176, 0.47058824, 0.5       , 0.44444444, 0.52941176,\n",
       "        0.47058824, 0.5       , 0.47368421, 0.5       , 0.47058824,\n",
       "        0.44444444, 0.44444444, 0.47058824, 0.44444444, 0.47058824,\n",
       "        0.47368421, 0.5       , 0.47058824, 0.47058824, 0.47058824,\n",
       "        0.47058824, 0.5       , 0.47058824, 0.5       , 0.5       ,\n",
       "        0.6       , 0.5       , 0.5625    , 0.5       , 0.5625    ,\n",
       "        0.5       , 0.5625    , 0.5       , 0.5625    , 0.5       ]),\n",
       " 'split2_test_score': array([0.5       , 0.5       , 0.77777778, 0.5       , 0.52941176,\n",
       "        0.52941176, 0.63636364, 0.55555556, 0.53333333, 0.58823529,\n",
       "        0.5       , 0.58823529, 0.55      , 0.59090909, 0.6       ,\n",
       "        0.61904762, 0.61111111, 0.61111111, 0.71428571, 0.63157895,\n",
       "        0.66666667, 0.66666667, 0.75      , 0.76470588, 0.6875    ,\n",
       "        0.6875    , 0.83333333, 0.76470588, 0.76923077, 0.71428571,\n",
       "        0.8       , 0.76923077, 0.72727273, 0.66666667, 0.875     ,\n",
       "        0.72727273, 0.72727273, 0.8       , 0.77777778, 0.72727273,\n",
       "        0.77777778, 0.8       , 0.85714286, 0.77777778, 0.75      ,\n",
       "        0.77777778, 0.85714286, 0.77777778, 0.66666667, 0.77777778,\n",
       "        0.85714286, 0.77777778, 0.77777778, 0.875     , 1.        ,\n",
       "        0.77777778, 0.75      , 0.77777778, 0.75      , 0.77777778,\n",
       "        0.66666667, 0.77777778, 0.66666667, 0.77777778, 0.66666667,\n",
       "        0.77777778, 0.85714286, 0.77777778, 0.875     , 0.875     ,\n",
       "        1.        , 0.77777778, 0.875     , 0.77777778, 0.875     ,\n",
       "        0.77777778, 0.77777778, 0.77777778, 1.        , 0.77777778,\n",
       "        0.75      , 0.77777778, 1.        , 0.77777778, 0.75      ,\n",
       "        0.77777778, 1.        , 0.77777778, 0.66666667, 0.77777778,\n",
       "        1.        , 0.77777778, 0.85714286, 0.77777778, 1.        ,\n",
       "        0.875     , 0.85714286, 0.875     , 1.        , 0.875     ]),\n",
       " 'split3_test_score': array([0.55555556, 0.55555556, 0.81818182, 0.55555556, 0.59090909,\n",
       "        0.57142857, 0.78571429, 0.59090909, 0.61904762, 0.57142857,\n",
       "        0.76923077, 0.63157895, 0.65      , 0.61904762, 0.625     ,\n",
       "        0.61904762, 0.64705882, 0.61111111, 0.75      , 0.61111111,\n",
       "        0.70588235, 0.6875    , 0.78571429, 0.66666667, 0.66666667,\n",
       "        0.64705882, 0.78571429, 0.61111111, 0.63157895, 0.61111111,\n",
       "        0.78571429, 0.64705882, 0.70588235, 0.64705882, 0.75      ,\n",
       "        0.70588235, 0.70588235, 0.6875    , 0.73333333, 0.6875    ,\n",
       "        0.6875    , 0.6875    , 0.71428571, 0.73333333, 0.75      ,\n",
       "        0.6875    , 0.71428571, 0.75      , 0.73333333, 0.70588235,\n",
       "        0.84615385, 0.70588235, 0.85714286, 0.73333333, 0.81818182,\n",
       "        0.83333333, 0.84615385, 0.83333333, 0.77777778, 0.83333333,\n",
       "        0.81818182, 0.83333333, 0.8       , 0.81818182, 0.81818182,\n",
       "        0.83333333, 0.8       , 0.81818182, 0.75      , 0.75      ,\n",
       "        0.72727273, 0.75      , 0.75      , 0.75      , 0.72727273,\n",
       "        0.81818182, 0.69230769, 0.81818182, 0.75      , 0.75      ,\n",
       "        0.76923077, 0.76923077, 0.72727273, 0.76923077, 0.71428571,\n",
       "        0.83333333, 0.72727273, 0.75      , 0.75      , 0.83333333,\n",
       "        0.81818182, 0.75      , 0.69230769, 0.81818182, 0.63636364,\n",
       "        0.81818182, 0.73333333, 0.81818182, 0.72727273, 0.75      ]),\n",
       " 'split4_test_score': array([0.5625    , 0.5625    , 0.6       , 0.5625    , 0.5       ,\n",
       "        0.5       , 0.66666667, 0.55555556, 0.625     , 0.625     ,\n",
       "        0.64285714, 0.55555556, 0.42857143, 0.45454545, 0.5625    ,\n",
       "        0.47368421, 0.42857143, 0.42857143, 0.5625    , 0.47619048,\n",
       "        0.5       , 0.52380952, 0.6       , 0.57894737, 0.57894737,\n",
       "        0.55555556, 0.57142857, 0.57894737, 0.55555556, 0.57894737,\n",
       "        0.57142857, 0.57894737, 0.5625    , 0.55555556, 0.46153846,\n",
       "        0.55      , 0.52941176, 0.5       , 0.6       , 0.5625    ,\n",
       "        0.61538462, 0.5625    , 0.66666667, 0.64285714, 0.61538462,\n",
       "        0.5625    , 0.58333333, 0.6       , 0.58333333, 0.5625    ,\n",
       "        0.63636364, 0.64285714, 0.53846154, 0.6       , 0.58333333,\n",
       "        0.64285714, 0.58333333, 0.64285714, 0.54545455, 0.64285714,\n",
       "        0.58333333, 0.64285714, 0.58333333, 0.64285714, 0.58333333,\n",
       "        0.64285714, 0.6       , 0.64285714, 0.58333333, 0.64285714,\n",
       "        0.58333333, 0.64285714, 0.58333333, 0.64285714, 0.63636364,\n",
       "        0.64285714, 0.58333333, 0.64285714, 0.58333333, 0.64285714,\n",
       "        0.61538462, 0.64285714, 0.61538462, 0.61538462, 0.61538462,\n",
       "        0.61538462, 0.58333333, 0.61538462, 0.61538462, 0.61538462,\n",
       "        0.58333333, 0.61538462, 0.53846154, 0.61538462, 0.58333333,\n",
       "        0.61538462, 0.58333333, 0.64285714, 0.58333333, 0.61538462]),\n",
       " 'split5_test_score': array([0.34615385, 0.34615385, 0.77777778, 0.34615385, 0.625     ,\n",
       "        0.58823529, 0.875     , 0.52631579, 0.64285714, 0.6875    ,\n",
       "        0.66666667, 0.58823529, 0.58823529, 0.61111111, 0.66666667,\n",
       "        0.58823529, 0.57142857, 0.58823529, 0.57142857, 0.58823529,\n",
       "        0.6       , 0.58823529, 0.66666667, 0.58823529, 0.61538462,\n",
       "        0.625     , 0.8       , 0.625     , 0.76923077, 0.71428571,\n",
       "        0.8       , 0.66666667, 0.72727273, 0.69230769, 0.8       ,\n",
       "        0.76923077, 0.76923077, 0.75      , 0.88888889, 0.76923077,\n",
       "        0.76923077, 0.78571429, 0.90909091, 0.73333333, 0.85714286,\n",
       "        0.78571429, 0.8       , 0.71428571, 0.81818182, 0.76923077,\n",
       "        0.81818182, 0.66666667, 0.8       , 0.73333333, 0.8       ,\n",
       "        0.69230769, 0.76923077, 0.69230769, 0.77777778, 0.64285714,\n",
       "        0.66666667, 0.75      , 0.8       , 0.75      , 0.71428571,\n",
       "        0.75      , 0.75      , 0.75      , 0.6875    , 0.69230769,\n",
       "        0.69230769, 0.64285714, 0.73333333, 0.75      , 0.76923077,\n",
       "        0.76923077, 0.73333333, 0.75      , 0.71428571, 0.71428571,\n",
       "        0.71428571, 0.75      , 0.71428571, 0.75      , 0.66666667,\n",
       "        0.69230769, 0.71428571, 0.69230769, 0.66666667, 0.75      ,\n",
       "        0.69230769, 0.69230769, 0.66666667, 0.69230769, 0.66666667,\n",
       "        0.71428571, 0.66666667, 0.75      , 0.71428571, 0.71428571]),\n",
       " 'split6_test_score': array([0.5       , 0.5       , 0.5       , 0.5       , 0.6       ,\n",
       "        0.57142857, 0.55555556, 0.625     , 0.6       , 0.6       ,\n",
       "        0.58333333, 0.6       , 0.5       , 0.5       , 0.58333333,\n",
       "        0.6       , 0.6       , 0.6       , 0.57142857, 0.625     ,\n",
       "        0.6       , 0.6       , 0.6       , 0.6       , 0.6       ,\n",
       "        0.6       , 0.64285714, 0.6       , 0.6       , 0.6       ,\n",
       "        0.69230769, 0.6       , 0.64705882, 0.625     , 0.66666667,\n",
       "        0.66666667, 0.625     , 0.6       , 0.71428571, 0.625     ,\n",
       "        0.625     , 0.625     , 0.66666667, 0.625     , 0.66666667,\n",
       "        0.66666667, 0.69230769, 0.64285714, 0.69230769, 0.64285714,\n",
       "        0.69230769, 0.64285714, 0.69230769, 0.64285714, 0.69230769,\n",
       "        0.64285714, 0.69230769, 0.69230769, 0.69230769, 0.64285714,\n",
       "        0.69230769, 0.69230769, 0.69230769, 0.64285714, 0.69230769,\n",
       "        0.64285714, 0.75      , 0.64285714, 0.69230769, 0.64285714,\n",
       "        0.75      , 0.64285714, 0.75      , 0.69230769, 0.75      ,\n",
       "        0.69230769, 0.75      , 0.69230769, 0.75      , 0.69230769,\n",
       "        0.75      , 0.69230769, 0.75      , 0.69230769, 0.75      ,\n",
       "        0.69230769, 0.75      , 0.69230769, 0.76923077, 0.75      ,\n",
       "        0.72727273, 0.75      , 0.76923077, 0.75      , 0.75      ,\n",
       "        0.75      , 0.71428571, 0.75      , 0.75      , 0.75      ]),\n",
       " 'split7_test_score': array([0.44      , 0.44      , 0.66666667, 0.44      , 0.64285714,\n",
       "        0.64285714, 0.625     , 0.58823529, 0.57142857, 0.57142857,\n",
       "        0.625     , 0.625     , 0.61538462, 0.61538462, 0.66666667,\n",
       "        0.66666667, 0.69230769, 0.69230769, 0.72727273, 0.69230769,\n",
       "        0.75      , 0.72727273, 0.72727273, 0.71428571, 0.75      ,\n",
       "        0.75      , 0.72727273, 0.69230769, 0.75      , 0.75      ,\n",
       "        0.72727273, 0.69230769, 0.69230769, 0.69230769, 0.7       ,\n",
       "        0.69230769, 0.7       , 0.72727273, 0.66666667, 0.75      ,\n",
       "        0.66666667, 0.72727273, 0.66666667, 0.75      , 0.72727273,\n",
       "        0.75      , 0.7       , 0.72727273, 0.7       , 0.7       ,\n",
       "        0.77777778, 0.72727273, 0.76923077, 0.75      , 0.83333333,\n",
       "        0.75      , 0.76923077, 0.75      , 0.76923077, 0.75      ,\n",
       "        0.76923077, 0.75      , 0.83333333, 0.75      , 0.83333333,\n",
       "        0.75      , 0.83333333, 0.75      , 0.76923077, 0.75      ,\n",
       "        0.75      , 0.75      , 0.75      , 0.75      , 0.72727273,\n",
       "        0.75      , 0.76923077, 0.75      , 0.75      , 0.75      ,\n",
       "        0.75      , 0.75      , 0.75      , 0.75      , 0.75      ,\n",
       "        0.75      , 0.75      , 0.75      , 0.69230769, 0.72727273,\n",
       "        0.72727273, 0.72727273, 0.75      , 0.72727273, 0.72727273,\n",
       "        0.72727273, 0.66666667, 0.72727273, 0.72727273, 0.72727273]),\n",
       " 'split8_test_score': array([0.64705882, 0.64705882, 0.90909091, 0.64705882, 0.73333333,\n",
       "        0.66666667, 1.        , 0.78571429, 0.78571429, 0.78571429,\n",
       "        0.90909091, 0.76923077, 0.71428571, 0.71428571, 1.        ,\n",
       "        0.71428571, 1.        , 1.        , 1.        , 1.        ,\n",
       "        0.73333333, 0.90909091, 0.91666667, 0.83333333, 0.84615385,\n",
       "        0.90909091, 0.91666667, 0.84615385, 0.84615385, 0.90909091,\n",
       "        0.90909091, 0.90909091, 0.84615385, 1.        , 0.83333333,\n",
       "        0.83333333, 0.83333333, 1.        , 1.        , 1.        ,\n",
       "        0.81818182, 1.        , 0.88888889, 1.        , 0.81818182,\n",
       "        1.        , 0.9       , 0.91666667, 0.81818182, 0.90909091,\n",
       "        0.9       , 0.91666667, 0.81818182, 1.        , 1.        ,\n",
       "        1.        , 0.81818182, 1.        , 0.9       , 0.90909091,\n",
       "        0.81818182, 1.        , 0.9       , 0.90909091, 0.9       ,\n",
       "        0.90909091, 0.9       , 0.90909091, 0.81818182, 0.90909091,\n",
       "        0.81818182, 0.90909091, 0.81818182, 1.        , 0.9       ,\n",
       "        1.        , 0.81818182, 1.        , 0.9       , 1.        ,\n",
       "        0.81818182, 1.        , 0.9       , 1.        , 0.9       ,\n",
       "        1.        , 0.9       , 1.        , 0.9       , 1.        ,\n",
       "        0.9       , 1.        , 0.90909091, 1.        , 0.90909091,\n",
       "        1.        , 0.90909091, 1.        , 0.90909091, 1.        ]),\n",
       " 'split9_test_score': array([0.68421053, 0.68421053, 0.625     , 0.68421053, 0.64705882,\n",
       "        0.64705882, 0.69230769, 0.68421053, 0.64285714, 0.66666667,\n",
       "        0.54545455, 0.6875    , 0.64285714, 0.64285714, 0.63636364,\n",
       "        0.66666667, 0.64285714, 0.66666667, 0.66666667, 0.66666667,\n",
       "        0.6875    , 0.6875    , 0.69230769, 0.66666667, 0.75      ,\n",
       "        0.70588235, 0.81818182, 0.6875    , 0.69230769, 0.64285714,\n",
       "        0.75      , 0.66666667, 0.75      , 0.64285714, 0.75      ,\n",
       "        0.66666667, 0.76923077, 0.66666667, 0.75      , 0.71428571,\n",
       "        0.76923077, 0.71428571, 0.72727273, 0.69230769, 0.75      ,\n",
       "        0.64285714, 0.72727273, 0.64285714, 0.76923077, 0.66666667,\n",
       "        0.75      , 0.6875    , 0.71428571, 0.66666667, 0.69230769,\n",
       "        0.66666667, 0.71428571, 0.71428571, 0.76923077, 0.71428571,\n",
       "        0.71428571, 0.71428571, 0.71428571, 0.66666667, 0.71428571,\n",
       "        0.71428571, 0.69230769, 0.71428571, 0.71428571, 0.71428571,\n",
       "        0.75      , 0.71428571, 0.75      , 0.69230769, 0.75      ,\n",
       "        0.69230769, 0.69230769, 0.69230769, 0.69230769, 0.71428571,\n",
       "        0.69230769, 0.69230769, 0.69230769, 0.71428571, 0.69230769,\n",
       "        0.69230769, 0.75      , 0.69230769, 0.69230769, 0.69230769,\n",
       "        0.69230769, 0.69230769, 0.69230769, 0.69230769, 0.75      ,\n",
       "        0.69230769, 0.69230769, 0.69230769, 0.69230769, 0.69230769]),\n",
       " 'mean_test_score': array([0.50370661, 0.50370661, 0.68808442, 0.50370661, 0.58479752,\n",
       "        0.56964919, 0.69973221, 0.59243166, 0.61577381, 0.62518557,\n",
       "        0.64226288, 0.61012569, 0.58060009, 0.58856407, 0.66444519,\n",
       "        0.60637052, 0.64252188, 0.64507207, 0.68705998, 0.65023997,\n",
       "        0.65364226, 0.66995989, 0.71013731, 0.66461743, 0.66826224,\n",
       "        0.66871052, 0.73580808, 0.66963242, 0.6808502 , 0.67342532,\n",
       "        0.73475789, 0.68205672, 0.68934909, 0.67889601, 0.7212296 ,\n",
       "        0.69281023, 0.69430156, 0.69893579, 0.74775433, 0.70937078,\n",
       "        0.6986891 , 0.71140374, 0.74633478, 0.72894509, 0.72346487,\n",
       "        0.71419234, 0.72591908, 0.70296357, 0.70940559, 0.69572199,\n",
       "        0.75907481, 0.6948476 , 0.7251042 , 0.72244048, 0.77285548,\n",
       "        0.72766331, 0.72263778, 0.73096001, 0.71999611, 0.71463925,\n",
       "        0.6958801 , 0.73672924, 0.73274267, 0.71641622, 0.73051694,\n",
       "        0.73188446, 0.76533721, 0.75050505, 0.73342838, 0.74149013,\n",
       "        0.75416838, 0.73297258, 0.7316866 , 0.73244811, 0.7494617 ,\n",
       "        0.74961982, 0.71498057, 0.73632511, 0.74732601, 0.73454356,\n",
       "        0.71512566, 0.73437118, 0.75087279, 0.73729081, 0.71274147,\n",
       "        0.73573404, 0.74930736, 0.7274007 , 0.70707459, 0.74794095,\n",
       "        0.75588578, 0.73383838, 0.72558899, 0.74065657, 0.74034091,\n",
       "        0.75257659, 0.71353272, 0.75889527, 0.74160631, 0.74575841]),\n",
       " 'std_test_score': array([0.1063853 , 0.1063853 , 0.14311669, 0.1063853 , 0.09989852,\n",
       "        0.08979235, 0.16512184, 0.10959779, 0.08489992, 0.08738106,\n",
       "        0.13803821, 0.10021448, 0.09101741, 0.08701094, 0.1421901 ,\n",
       "        0.08683778, 0.13801184, 0.13830741, 0.14623565, 0.13356599,\n",
       "        0.08902733, 0.11348427, 0.11160463, 0.0949357 , 0.10039516,\n",
       "        0.11324374, 0.13528829, 0.1189079 , 0.11540929, 0.12061793,\n",
       "        0.14209082, 0.12716123, 0.12812806, 0.14781932, 0.14664047,\n",
       "        0.11027432, 0.12361626, 0.16091624, 0.1537775 , 0.15049608,\n",
       "        0.12168714, 0.14992046, 0.13466568, 0.1530313 , 0.11040458,\n",
       "        0.15332791, 0.12288427, 0.13316344, 0.11114856, 0.12407608,\n",
       "        0.12393021, 0.12213812, 0.13031731, 0.14523811, 0.17779594,\n",
       "        0.14249895, 0.12100849, 0.13565722, 0.13714829, 0.13626477,\n",
       "        0.12070632, 0.13511643, 0.13818418, 0.12140069, 0.13136182,\n",
       "        0.10149282, 0.14403856, 0.13415007, 0.14493086, 0.11905584,\n",
       "        0.15465078, 0.13560844, 0.11325651, 0.1188264 , 0.12239251,\n",
       "        0.14321287, 0.11869847, 0.12752548, 0.15164581, 0.12777206,\n",
       "        0.09827552, 0.11924976, 0.14338591, 0.13029458, 0.11000335,\n",
       "        0.13464871, 0.13480125, 0.13087636, 0.10500461, 0.12711583,\n",
       "        0.12325532, 0.12465902, 0.1137344 , 0.1271953 , 0.13222478,\n",
       "        0.13243623, 0.10256485, 0.12913228, 0.12477034, 0.13062591]),\n",
       " 'rank_test_score': array([98, 98, 72, 98, 95, 97, 63, 93, 90, 89, 88, 91, 96, 94, 83, 92, 87,\n",
       "        86, 73, 85, 84, 78, 58, 82, 81, 80, 25, 79, 75, 77, 27, 74, 71, 76,\n",
       "        48, 70, 69, 64, 14, 60, 65, 57, 16, 39, 45, 54, 42, 62, 59, 67,  3,\n",
       "        68, 44, 47,  1, 40, 46, 37, 49, 53, 66, 23, 33, 50, 38, 35,  2,  9,\n",
       "        31, 19,  6, 32, 36, 34, 11, 10, 52, 24, 15, 28, 51, 29,  8, 22, 56,\n",
       "        26, 12, 41, 61, 13,  5, 30, 43, 20, 21,  7, 55,  4, 18, 17])}"
      ]
     },
     "execution_count": 87,
     "metadata": {},
     "output_type": "execute_result"
    }
   ],
   "source": [
    "#grid search results\n",
    "grid.cv_results_"
   ]
  },
  {
   "cell_type": "code",
   "execution_count": 88,
   "id": "2dcb6699",
   "metadata": {},
   "outputs": [
    {
     "data": {
      "text/plain": [
       "dict_keys(['mean_fit_time', 'std_fit_time', 'mean_score_time', 'std_score_time', 'param_n_neighbors', 'param_weights', 'params', 'split0_test_score', 'split1_test_score', 'split2_test_score', 'split3_test_score', 'split4_test_score', 'split5_test_score', 'split6_test_score', 'split7_test_score', 'split8_test_score', 'split9_test_score', 'mean_test_score', 'std_test_score', 'rank_test_score'])"
      ]
     },
     "execution_count": 88,
     "metadata": {},
     "output_type": "execute_result"
    }
   ],
   "source": [
    "#see column names \n",
    "grid.cv_results_.keys()"
   ]
  },
  {
   "cell_type": "code",
   "execution_count": 89,
   "id": "bbb8b24b",
   "metadata": {},
   "outputs": [
    {
     "data": {
      "text/html": [
       "<div>\n",
       "<style scoped>\n",
       "    .dataframe tbody tr th:only-of-type {\n",
       "        vertical-align: middle;\n",
       "    }\n",
       "\n",
       "    .dataframe tbody tr th {\n",
       "        vertical-align: top;\n",
       "    }\n",
       "\n",
       "    .dataframe thead th {\n",
       "        text-align: right;\n",
       "    }\n",
       "</style>\n",
       "<table border=\"1\" class=\"dataframe\">\n",
       "  <thead>\n",
       "    <tr style=\"text-align: right;\">\n",
       "      <th></th>\n",
       "      <th>mean_test_score</th>\n",
       "      <th>params</th>\n",
       "    </tr>\n",
       "  </thead>\n",
       "  <tbody>\n",
       "    <tr>\n",
       "      <th>0</th>\n",
       "      <td>0.503707</td>\n",
       "      <td>{'n_neighbors': 1, 'weights': 'uniform'}</td>\n",
       "    </tr>\n",
       "    <tr>\n",
       "      <th>1</th>\n",
       "      <td>0.503707</td>\n",
       "      <td>{'n_neighbors': 1, 'weights': 'distance'}</td>\n",
       "    </tr>\n",
       "    <tr>\n",
       "      <th>2</th>\n",
       "      <td>0.688084</td>\n",
       "      <td>{'n_neighbors': 2, 'weights': 'uniform'}</td>\n",
       "    </tr>\n",
       "    <tr>\n",
       "      <th>3</th>\n",
       "      <td>0.503707</td>\n",
       "      <td>{'n_neighbors': 2, 'weights': 'distance'}</td>\n",
       "    </tr>\n",
       "    <tr>\n",
       "      <th>4</th>\n",
       "      <td>0.584798</td>\n",
       "      <td>{'n_neighbors': 3, 'weights': 'uniform'}</td>\n",
       "    </tr>\n",
       "    <tr>\n",
       "      <th>...</th>\n",
       "      <td>...</td>\n",
       "      <td>...</td>\n",
       "    </tr>\n",
       "    <tr>\n",
       "      <th>95</th>\n",
       "      <td>0.752577</td>\n",
       "      <td>{'n_neighbors': 48, 'weights': 'distance'}</td>\n",
       "    </tr>\n",
       "    <tr>\n",
       "      <th>96</th>\n",
       "      <td>0.713533</td>\n",
       "      <td>{'n_neighbors': 49, 'weights': 'uniform'}</td>\n",
       "    </tr>\n",
       "    <tr>\n",
       "      <th>97</th>\n",
       "      <td>0.758895</td>\n",
       "      <td>{'n_neighbors': 49, 'weights': 'distance'}</td>\n",
       "    </tr>\n",
       "    <tr>\n",
       "      <th>98</th>\n",
       "      <td>0.741606</td>\n",
       "      <td>{'n_neighbors': 50, 'weights': 'uniform'}</td>\n",
       "    </tr>\n",
       "    <tr>\n",
       "      <th>99</th>\n",
       "      <td>0.745758</td>\n",
       "      <td>{'n_neighbors': 50, 'weights': 'distance'}</td>\n",
       "    </tr>\n",
       "  </tbody>\n",
       "</table>\n",
       "<p>100 rows × 2 columns</p>\n",
       "</div>"
      ],
      "text/plain": [
       "    mean_test_score                                      params\n",
       "0          0.503707    {'n_neighbors': 1, 'weights': 'uniform'}\n",
       "1          0.503707   {'n_neighbors': 1, 'weights': 'distance'}\n",
       "2          0.688084    {'n_neighbors': 2, 'weights': 'uniform'}\n",
       "3          0.503707   {'n_neighbors': 2, 'weights': 'distance'}\n",
       "4          0.584798    {'n_neighbors': 3, 'weights': 'uniform'}\n",
       "..              ...                                         ...\n",
       "95         0.752577  {'n_neighbors': 48, 'weights': 'distance'}\n",
       "96         0.713533   {'n_neighbors': 49, 'weights': 'uniform'}\n",
       "97         0.758895  {'n_neighbors': 49, 'weights': 'distance'}\n",
       "98         0.741606   {'n_neighbors': 50, 'weights': 'uniform'}\n",
       "99         0.745758  {'n_neighbors': 50, 'weights': 'distance'}\n",
       "\n",
       "[100 rows x 2 columns]"
      ]
     },
     "execution_count": 89,
     "metadata": {},
     "output_type": "execute_result"
    }
   ],
   "source": [
    "#default view is not friendly, use pandas to make it a dataframe\n",
    "pd.DataFrame(grid.cv_results_)[['mean_test_score','params']]"
   ]
  },
  {
   "cell_type": "code",
   "execution_count": 90,
   "id": "d3138e75",
   "metadata": {},
   "outputs": [
    {
     "data": {
      "text/plain": [
       "{'n_neighbors': 28, 'weights': 'uniform'}"
      ]
     },
     "execution_count": 90,
     "metadata": {},
     "output_type": "execute_result"
    }
   ],
   "source": [
    "# best hyperparameters\n",
    "grid.best_params_"
   ]
  },
  {
   "cell_type": "code",
   "execution_count": 91,
   "id": "361b88e2",
   "metadata": {},
   "outputs": [
    {
     "data": {
      "text/plain": [
       "0.7728554778554779"
      ]
     },
     "execution_count": 91,
     "metadata": {},
     "output_type": "execute_result"
    }
   ],
   "source": [
    "#best score \n",
    "grid.best_score_"
   ]
  },
  {
   "cell_type": "code",
   "execution_count": 92,
   "id": "9fee212d",
   "metadata": {},
   "outputs": [],
   "source": [
    "# best knn classifier \n",
    "best_knn_clf = grid.best_estimator_"
   ]
  },
  {
   "cell_type": "code",
   "execution_count": 93,
   "id": "f3dbb78e",
   "metadata": {},
   "outputs": [],
   "source": [
    "#finally, test best knn classifier \n",
    "y_test_pred = best_knn_clf.predict(X_test)"
   ]
  },
  {
   "cell_type": "code",
   "execution_count": 94,
   "id": "61b21626",
   "metadata": {},
   "outputs": [
    {
     "name": "stdout",
     "output_type": "stream",
     "text": [
      "0.6875\n",
      "0.30985915492957744\n",
      "0.6666666666666666\n"
     ]
    }
   ],
   "source": [
    "print(accuracy_score(y_test,y_test_pred))\n",
    "print(recall_score(y_test,y_test_pred))\n",
    "print(precision_score(y_test,y_test_pred))"
   ]
  },
  {
   "cell_type": "code",
   "execution_count": 95,
   "id": "b99ccdd9",
   "metadata": {},
   "outputs": [
    {
     "data": {
      "text/plain": [
       "<sklearn.metrics._plot.confusion_matrix.ConfusionMatrixDisplay at 0x2490f8f7340>"
      ]
     },
     "execution_count": 95,
     "metadata": {},
     "output_type": "execute_result"
    },
    {
     "data": {
      "image/png": "[encoded data removed]",
      "text/plain": [
       "<Figure size 432x288 with 2 Axes>"
      ]
     },
     "metadata": {
      "needs_background": "light"
     },
     "output_type": "display_data"
    }
   ],
   "source": [
    "ConfusionMatrixDisplay.from_estimator(best_knn_clf,X_test,y_test)\n"
   ]
  },
  {
   "cell_type": "code",
   "execution_count": null,
   "id": "78e25c07",
   "metadata": {},
   "outputs": [],
   "source": []
  }
 ],
 "metadata": {
  "kernelspec": {
   "display_name": "Python 3 (ipykernel)",
   "language": "python",
   "name": "python3"
  },
  "language_info": {
   "codemirror_mode": {
    "name": "ipython",
    "version": 3
   },
   "file_extension": ".py",
   "mimetype": "text/x-python",
   "name": "python",
   "nbconvert_exporter": "python",
   "pygments_lexer": "ipython3",
   "version": "3.9.12"
  }
 },
 "nbformat": 4,
 "nbformat_minor": 5
}
