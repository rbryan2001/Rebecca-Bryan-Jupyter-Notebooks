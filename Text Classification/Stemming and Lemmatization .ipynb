{
 "cells": [
  {
   "cell_type": "markdown",
   "id": "f52448c7",
   "metadata": {},
   "source": [
    "# Stemming and Lemmatization "
   ]
  },
  {
   "cell_type": "code",
   "execution_count": 1,
   "id": "7fb80bc4",
   "metadata": {},
   "outputs": [
    {
     "name": "stdout",
     "output_type": "stream",
     "text": [
      "Defaulting to user installation because normal site-packages is not writeable\n",
      "Requirement already satisfied: nltk in c:\\programdata\\anaconda3\\lib\\site-packages (3.7)\n",
      "Requirement already satisfied: regex>=2021.8.3 in c:\\programdata\\anaconda3\\lib\\site-packages (from nltk) (2022.7.9)\n",
      "Requirement already satisfied: tqdm in c:\\programdata\\anaconda3\\lib\\site-packages (from nltk) (4.64.1)\n",
      "Requirement already satisfied: joblib in c:\\programdata\\anaconda3\\lib\\site-packages (from nltk) (1.1.0)\n",
      "Requirement already satisfied: click in c:\\programdata\\anaconda3\\lib\\site-packages (from nltk) (8.0.4)\n",
      "Requirement already satisfied: colorama in c:\\programdata\\anaconda3\\lib\\site-packages (from click->nltk) (0.4.5)\n"
     ]
    }
   ],
   "source": [
    "# install the nltk (natural language toolkit) library \n",
    "!pip install nltk"
   ]
  },
  {
   "cell_type": "markdown",
   "id": "88ad08bd",
   "metadata": {},
   "source": [
    "## Toy Example"
   ]
  },
  {
   "cell_type": "code",
   "execution_count": 2,
   "id": "9889694b",
   "metadata": {},
   "outputs": [],
   "source": [
    "# training data\n",
    "X_train = ['I love the book',\n",
    "           'This is a great book',\n",
    "           'The fit is great',\n",
    "           'I love the shoes']\n",
    "y_train = ['books','books','clothing','clothing']"
   ]
  },
  {
   "cell_type": "code",
   "execution_count": 3,
   "id": "1d2fed80",
   "metadata": {},
   "outputs": [],
   "source": [
    "from sklearn.feature_extraction.text import CountVectorizer \n",
    "from sklearn.naive_bayes import MultinomialNB\n",
    "import pandas as pd"
   ]
  },
  {
   "cell_type": "code",
   "execution_count": 4,
   "id": "0fbd39fc",
   "metadata": {},
   "outputs": [
    {
     "data": {
      "text/html": [
       "<div>\n",
       "<style scoped>\n",
       "    .dataframe tbody tr th:only-of-type {\n",
       "        vertical-align: middle;\n",
       "    }\n",
       "\n",
       "    .dataframe tbody tr th {\n",
       "        vertical-align: top;\n",
       "    }\n",
       "\n",
       "    .dataframe thead th {\n",
       "        text-align: right;\n",
       "    }\n",
       "</style>\n",
       "<table border=\"1\" class=\"dataframe\">\n",
       "  <thead>\n",
       "    <tr style=\"text-align: right;\">\n",
       "      <th></th>\n",
       "      <th>book</th>\n",
       "      <th>fit</th>\n",
       "      <th>great</th>\n",
       "      <th>is</th>\n",
       "      <th>love</th>\n",
       "      <th>shoes</th>\n",
       "      <th>the</th>\n",
       "      <th>this</th>\n",
       "    </tr>\n",
       "  </thead>\n",
       "  <tbody>\n",
       "    <tr>\n",
       "      <th>I love the book</th>\n",
       "      <td>1</td>\n",
       "      <td>0</td>\n",
       "      <td>0</td>\n",
       "      <td>0</td>\n",
       "      <td>1</td>\n",
       "      <td>0</td>\n",
       "      <td>1</td>\n",
       "      <td>0</td>\n",
       "    </tr>\n",
       "    <tr>\n",
       "      <th>This is a great book</th>\n",
       "      <td>1</td>\n",
       "      <td>0</td>\n",
       "      <td>1</td>\n",
       "      <td>1</td>\n",
       "      <td>0</td>\n",
       "      <td>0</td>\n",
       "      <td>0</td>\n",
       "      <td>1</td>\n",
       "    </tr>\n",
       "    <tr>\n",
       "      <th>The fit is great</th>\n",
       "      <td>0</td>\n",
       "      <td>1</td>\n",
       "      <td>1</td>\n",
       "      <td>1</td>\n",
       "      <td>0</td>\n",
       "      <td>0</td>\n",
       "      <td>1</td>\n",
       "      <td>0</td>\n",
       "    </tr>\n",
       "    <tr>\n",
       "      <th>I love the shoes</th>\n",
       "      <td>0</td>\n",
       "      <td>0</td>\n",
       "      <td>0</td>\n",
       "      <td>0</td>\n",
       "      <td>1</td>\n",
       "      <td>1</td>\n",
       "      <td>1</td>\n",
       "      <td>0</td>\n",
       "    </tr>\n",
       "  </tbody>\n",
       "</table>\n",
       "</div>"
      ],
      "text/plain": [
       "                      book  fit  great  is  love  shoes  the  this\n",
       "I love the book          1    0      0   0     1      0    1     0\n",
       "This is a great book     1    0      1   1     0      0    0     1\n",
       "The fit is great         0    1      1   1     0      0    1     0\n",
       "I love the shoes         0    0      0   0     1      1    1     0"
      ]
     },
     "execution_count": 4,
     "metadata": {},
     "output_type": "execute_result"
    }
   ],
   "source": [
    "vect = CountVectorizer()\n",
    "vect.fit(X_train)\n",
    "#document term matrix\n",
    "X_train_dtm = vect.transform(X_train)\n",
    "pd.DataFrame(X_train_dtm.toarray(), \n",
    "             columns=vect.get_feature_names_out(),\n",
    "             index = X_train)"
   ]
  },
  {
   "cell_type": "code",
   "execution_count": 5,
   "id": "8611934d",
   "metadata": {},
   "outputs": [],
   "source": [
    "X_test = ['I like the book',\n",
    "          'Shoes are alright',\n",
    "          'I love the books',\n",
    "          'I lost a shoe']"
   ]
  },
  {
   "cell_type": "code",
   "execution_count": 6,
   "id": "9883368f",
   "metadata": {},
   "outputs": [
    {
     "data": {
      "text/plain": [
       "MultinomialNB()"
      ]
     },
     "execution_count": 6,
     "metadata": {},
     "output_type": "execute_result"
    }
   ],
   "source": [
    "nb_clf = MultinomialNB()\n",
    "nb_clf.fit(X_train_dtm,y_train)"
   ]
  },
  {
   "cell_type": "code",
   "execution_count": 7,
   "id": "dd8cf11f",
   "metadata": {},
   "outputs": [
    {
     "data": {
      "text/plain": [
       "['I like the book', 'Shoes are alright', 'I love the books', 'I lost a shoe']"
      ]
     },
     "execution_count": 7,
     "metadata": {},
     "output_type": "execute_result"
    }
   ],
   "source": [
    "X_test"
   ]
  },
  {
   "cell_type": "code",
   "execution_count": 8,
   "id": "23035e69",
   "metadata": {},
   "outputs": [
    {
     "data": {
      "text/plain": [
       "array(['books', 'clothing', 'clothing', 'books'], dtype='<U8')"
      ]
     },
     "execution_count": 8,
     "metadata": {},
     "output_type": "execute_result"
    }
   ],
   "source": [
    "X_test_dtm = vect.transform(X_test)\n",
    "nb_clf.predict(X_test_dtm)"
   ]
  },
  {
   "cell_type": "markdown",
   "id": "31c0ee11",
   "metadata": {},
   "source": [
    "## Stemming"
   ]
  },
  {
   "cell_type": "code",
   "execution_count": 9,
   "id": "b6715c23",
   "metadata": {},
   "outputs": [],
   "source": [
    "import nltk"
   ]
  },
  {
   "cell_type": "code",
   "execution_count": 10,
   "id": "bb38f5bd",
   "metadata": {},
   "outputs": [
    {
     "name": "stderr",
     "output_type": "stream",
     "text": [
      "[nltk_data] Downloading package stopwords to\n",
      "[nltk_data]     C:\\Users\\rebec\\AppData\\Roaming\\nltk_data...\n",
      "[nltk_data]   Package stopwords is already up-to-date!\n",
      "[nltk_data] Downloading package punkt to\n",
      "[nltk_data]     C:\\Users\\rebec\\AppData\\Roaming\\nltk_data...\n",
      "[nltk_data]   Package punkt is already up-to-date!\n",
      "[nltk_data] Downloading package omw-1.4 to\n",
      "[nltk_data]     C:\\Users\\rebec\\AppData\\Roaming\\nltk_data...\n",
      "[nltk_data]   Package omw-1.4 is already up-to-date!\n"
     ]
    },
    {
     "data": {
      "text/plain": [
       "True"
      ]
     },
     "execution_count": 10,
     "metadata": {},
     "output_type": "execute_result"
    }
   ],
   "source": [
    "nltk.download('stopwords')\n",
    "nltk.download('punkt')\n",
    "nltk.download('omw-1.4') # open multilingual wordnet library \n",
    "# nltk.download('wordnet')"
   ]
  },
  {
   "cell_type": "code",
   "execution_count": 11,
   "id": "d005a3c8",
   "metadata": {},
   "outputs": [],
   "source": [
    "from nltk.tokenize import word_tokenize\n",
    "from nltk.stem import PorterStemmer"
   ]
  },
  {
   "cell_type": "code",
   "execution_count": 12,
   "id": "f386ac7a",
   "metadata": {},
   "outputs": [],
   "source": [
    "# initialize the stemmer\n",
    "stemmer = PorterStemmer()"
   ]
  },
  {
   "cell_type": "code",
   "execution_count": 13,
   "id": "818607e9",
   "metadata": {},
   "outputs": [
    {
     "data": {
      "text/plain": [
       "'book'"
      ]
     },
     "execution_count": 13,
     "metadata": {},
     "output_type": "execute_result"
    }
   ],
   "source": [
    "stemmer.stem('books')"
   ]
  },
  {
   "cell_type": "code",
   "execution_count": 14,
   "id": "80d6689c",
   "metadata": {},
   "outputs": [
    {
     "data": {
      "text/plain": [
       "'read'"
      ]
     },
     "execution_count": 14,
     "metadata": {},
     "output_type": "execute_result"
    }
   ],
   "source": [
    "stemmer.stem('reading')"
   ]
  },
  {
   "cell_type": "code",
   "execution_count": 15,
   "id": "4e3aa429",
   "metadata": {},
   "outputs": [
    {
     "data": {
      "text/plain": [
       "'organizig'"
      ]
     },
     "execution_count": 15,
     "metadata": {},
     "output_type": "execute_result"
    }
   ],
   "source": [
    "stemmer.stem('organizig')"
   ]
  },
  {
   "cell_type": "code",
   "execution_count": 16,
   "id": "86bbc527",
   "metadata": {},
   "outputs": [
    {
     "data": {
      "text/plain": [
       "['I', 'love', 'the', 'books']"
      ]
     },
     "execution_count": 16,
     "metadata": {},
     "output_type": "execute_result"
    }
   ],
   "source": [
    "phrase = 'I love the books'\n",
    "words = word_tokenize(phrase)\n",
    "words"
   ]
  },
  {
   "cell_type": "code",
   "execution_count": 17,
   "id": "ec937d3d",
   "metadata": {},
   "outputs": [
    {
     "data": {
      "text/plain": [
       "['i', 'love', 'the', 'book']"
      ]
     },
     "execution_count": 17,
     "metadata": {},
     "output_type": "execute_result"
    }
   ],
   "source": [
    "stemmed_words = [stemmer.stem(word) for word in words] # apply to each word in words separately \n",
    "stemmed_words"
   ]
  },
  {
   "cell_type": "code",
   "execution_count": 18,
   "id": "34bf1cfc",
   "metadata": {},
   "outputs": [
    {
     "data": {
      "text/plain": [
       "'i love the book'"
      ]
     },
     "execution_count": 18,
     "metadata": {},
     "output_type": "execute_result"
    }
   ],
   "source": [
    "' '.join(stemmed_words)"
   ]
  },
  {
   "cell_type": "markdown",
   "id": "2ae95418",
   "metadata": {},
   "source": [
    "## Lemmatization"
   ]
  },
  {
   "cell_type": "code",
   "execution_count": 19,
   "id": "e32d7e69",
   "metadata": {},
   "outputs": [
    {
     "name": "stderr",
     "output_type": "stream",
     "text": [
      "[nltk_data] Downloading package wordnet to\n",
      "[nltk_data]     C:\\Users\\rebec\\AppData\\Roaming\\nltk_data...\n",
      "[nltk_data]   Package wordnet is already up-to-date!\n",
      "[nltk_data] Downloading package averaged_perceptron_tagger to\n",
      "[nltk_data]     C:\\Users\\rebec\\AppData\\Roaming\\nltk_data...\n",
      "[nltk_data]   Package averaged_perceptron_tagger is already up-to-\n",
      "[nltk_data]       date!\n"
     ]
    },
    {
     "data": {
      "text/plain": [
       "True"
      ]
     },
     "execution_count": 19,
     "metadata": {},
     "output_type": "execute_result"
    }
   ],
   "source": [
    "nltk.download('wordnet')\n",
    "nltk.download('averaged_perceptron_tagger')"
   ]
  },
  {
   "cell_type": "code",
   "execution_count": 20,
   "id": "adfceefa",
   "metadata": {},
   "outputs": [],
   "source": [
    "from nltk.stem import WordNetLemmatizer\n",
    "from nltk.corpus import wordnet"
   ]
  },
  {
   "cell_type": "code",
   "execution_count": 21,
   "id": "2a4044fd",
   "metadata": {},
   "outputs": [],
   "source": [
    "# initialize lemmatizer\n",
    "lemmatizer = WordNetLemmatizer()"
   ]
  },
  {
   "cell_type": "code",
   "execution_count": 22,
   "id": "f87545e0",
   "metadata": {},
   "outputs": [
    {
     "data": {
      "text/plain": [
       "'eat'"
      ]
     },
     "execution_count": 22,
     "metadata": {},
     "output_type": "execute_result"
    }
   ],
   "source": [
    "# it needs the parts of speech\n",
    "lemmatizer.lemmatize('eats',pos='v') # part of speech = verb"
   ]
  },
  {
   "cell_type": "code",
   "execution_count": 23,
   "id": "b95e6457",
   "metadata": {},
   "outputs": [
    {
     "data": {
      "text/plain": [
       "['I', 'love', 'the', 'books']"
      ]
     },
     "execution_count": 23,
     "metadata": {},
     "output_type": "execute_result"
    }
   ],
   "source": [
    "words"
   ]
  },
  {
   "cell_type": "code",
   "execution_count": 24,
   "id": "8a6efa5a",
   "metadata": {},
   "outputs": [
    {
     "data": {
      "text/plain": [
       "[('I', 'PRP'), ('love', 'VBP'), ('the', 'DT'), ('books', 'NNS')]"
      ]
     },
     "execution_count": 24,
     "metadata": {},
     "output_type": "execute_result"
    }
   ],
   "source": [
    "# parts of speech tagging\n",
    "nltk.pos_tag(words)"
   ]
  },
  {
   "cell_type": "code",
   "execution_count": 25,
   "id": "b13d7ed7",
   "metadata": {},
   "outputs": [],
   "source": [
    "# parts of speech processing function \n",
    "def process_pos(pos): \n",
    "    if pos.startswith('J'): #adjective\n",
    "        return wordnet.ADJ\n",
    "    elif pos.startswith('V'): #verb\n",
    "        return wordnet.VERB\n",
    "    elif pos.startswith('N'): #noun\n",
    "        return wordnet.NOUN\n",
    "    elif pos.startswith('R'): #adverb\n",
    "        return wordnet.ADV\n",
    "    else: \n",
    "        return wordnet.NOUN"
   ]
  },
  {
   "cell_type": "code",
   "execution_count": 26,
   "id": "763e7e23",
   "metadata": {},
   "outputs": [],
   "source": [
    "lemmatized_words = [lemmatizer.lemmatize(word,pos=process_pos(pos))\n",
    "                   for word,pos in nltk.pos_tag(words)]"
   ]
  },
  {
   "cell_type": "code",
   "execution_count": 27,
   "id": "0bbe9d94",
   "metadata": {},
   "outputs": [
    {
     "data": {
      "text/plain": [
       "['I', 'love', 'the', 'book']"
      ]
     },
     "execution_count": 27,
     "metadata": {},
     "output_type": "execute_result"
    }
   ],
   "source": [
    "lemmatized_words"
   ]
  },
  {
   "cell_type": "markdown",
   "id": "7fafa38e",
   "metadata": {},
   "source": [
    "## Stopwords Removal"
   ]
  },
  {
   "cell_type": "code",
   "execution_count": 28,
   "id": "b2334d8a",
   "metadata": {},
   "outputs": [],
   "source": [
    "from nltk.corpus import stopwords"
   ]
  },
  {
   "cell_type": "code",
   "execution_count": 29,
   "id": "dcf5eb3d",
   "metadata": {},
   "outputs": [
    {
     "data": {
      "text/plain": [
       "['i',\n",
       " 'me',\n",
       " 'my',\n",
       " 'myself',\n",
       " 'we',\n",
       " 'our',\n",
       " 'ours',\n",
       " 'ourselves',\n",
       " 'you',\n",
       " \"you're\",\n",
       " \"you've\",\n",
       " \"you'll\",\n",
       " \"you'd\",\n",
       " 'your',\n",
       " 'yours',\n",
       " 'yourself',\n",
       " 'yourselves',\n",
       " 'he',\n",
       " 'him',\n",
       " 'his',\n",
       " 'himself',\n",
       " 'she',\n",
       " \"she's\",\n",
       " 'her',\n",
       " 'hers',\n",
       " 'herself',\n",
       " 'it',\n",
       " \"it's\",\n",
       " 'its',\n",
       " 'itself',\n",
       " 'they',\n",
       " 'them',\n",
       " 'their',\n",
       " 'theirs',\n",
       " 'themselves',\n",
       " 'what',\n",
       " 'which',\n",
       " 'who',\n",
       " 'whom',\n",
       " 'this',\n",
       " 'that',\n",
       " \"that'll\",\n",
       " 'these',\n",
       " 'those',\n",
       " 'am',\n",
       " 'is',\n",
       " 'are',\n",
       " 'was',\n",
       " 'were',\n",
       " 'be',\n",
       " 'been',\n",
       " 'being',\n",
       " 'have',\n",
       " 'has',\n",
       " 'had',\n",
       " 'having',\n",
       " 'do',\n",
       " 'does',\n",
       " 'did',\n",
       " 'doing',\n",
       " 'a',\n",
       " 'an',\n",
       " 'the',\n",
       " 'and',\n",
       " 'but',\n",
       " 'if',\n",
       " 'or',\n",
       " 'because',\n",
       " 'as',\n",
       " 'until',\n",
       " 'while',\n",
       " 'of',\n",
       " 'at',\n",
       " 'by',\n",
       " 'for',\n",
       " 'with',\n",
       " 'about',\n",
       " 'against',\n",
       " 'between',\n",
       " 'into',\n",
       " 'through',\n",
       " 'during',\n",
       " 'before',\n",
       " 'after',\n",
       " 'above',\n",
       " 'below',\n",
       " 'to',\n",
       " 'from',\n",
       " 'up',\n",
       " 'down',\n",
       " 'in',\n",
       " 'out',\n",
       " 'on',\n",
       " 'off',\n",
       " 'over',\n",
       " 'under',\n",
       " 'again',\n",
       " 'further',\n",
       " 'then',\n",
       " 'once',\n",
       " 'here',\n",
       " 'there',\n",
       " 'when',\n",
       " 'where',\n",
       " 'why',\n",
       " 'how',\n",
       " 'all',\n",
       " 'any',\n",
       " 'both',\n",
       " 'each',\n",
       " 'few',\n",
       " 'more',\n",
       " 'most',\n",
       " 'other',\n",
       " 'some',\n",
       " 'such',\n",
       " 'no',\n",
       " 'nor',\n",
       " 'not',\n",
       " 'only',\n",
       " 'own',\n",
       " 'same',\n",
       " 'so',\n",
       " 'than',\n",
       " 'too',\n",
       " 'very',\n",
       " 's',\n",
       " 't',\n",
       " 'can',\n",
       " 'will',\n",
       " 'just',\n",
       " 'don',\n",
       " \"don't\",\n",
       " 'should',\n",
       " \"should've\",\n",
       " 'now',\n",
       " 'd',\n",
       " 'll',\n",
       " 'm',\n",
       " 'o',\n",
       " 're',\n",
       " 've',\n",
       " 'y',\n",
       " 'ain',\n",
       " 'aren',\n",
       " \"aren't\",\n",
       " 'couldn',\n",
       " \"couldn't\",\n",
       " 'didn',\n",
       " \"didn't\",\n",
       " 'doesn',\n",
       " \"doesn't\",\n",
       " 'hadn',\n",
       " \"hadn't\",\n",
       " 'hasn',\n",
       " \"hasn't\",\n",
       " 'haven',\n",
       " \"haven't\",\n",
       " 'isn',\n",
       " \"isn't\",\n",
       " 'ma',\n",
       " 'mightn',\n",
       " \"mightn't\",\n",
       " 'mustn',\n",
       " \"mustn't\",\n",
       " 'needn',\n",
       " \"needn't\",\n",
       " 'shan',\n",
       " \"shan't\",\n",
       " 'shouldn',\n",
       " \"shouldn't\",\n",
       " 'wasn',\n",
       " \"wasn't\",\n",
       " 'weren',\n",
       " \"weren't\",\n",
       " 'won',\n",
       " \"won't\",\n",
       " 'wouldn',\n",
       " \"wouldn't\"]"
      ]
     },
     "execution_count": 29,
     "metadata": {},
     "output_type": "execute_result"
    }
   ],
   "source": [
    "stop_words = stopwords.words('english')\n",
    "stop_words"
   ]
  },
  {
   "cell_type": "code",
   "execution_count": 30,
   "id": "40739a29",
   "metadata": {},
   "outputs": [],
   "source": [
    "phrase = 'here is an example sentence demonstrating the removal of stopwords'"
   ]
  },
  {
   "cell_type": "code",
   "execution_count": 31,
   "id": "c8e7b9b2",
   "metadata": {},
   "outputs": [
    {
     "data": {
      "text/plain": [
       "['here',\n",
       " 'is',\n",
       " 'an',\n",
       " 'example',\n",
       " 'sentence',\n",
       " 'demonstrating',\n",
       " 'the',\n",
       " 'removal',\n",
       " 'of',\n",
       " 'stopwords']"
      ]
     },
     "execution_count": 31,
     "metadata": {},
     "output_type": "execute_result"
    }
   ],
   "source": [
    "words = word_tokenize(phrase)\n",
    "words"
   ]
  },
  {
   "cell_type": "code",
   "execution_count": 32,
   "id": "d208eb05",
   "metadata": {},
   "outputs": [
    {
     "data": {
      "text/plain": [
       "['example', 'sentence', 'demonstrating', 'removal', 'stopwords']"
      ]
     },
     "execution_count": 32,
     "metadata": {},
     "output_type": "execute_result"
    }
   ],
   "source": [
    "stripped_phrase = [word for word in words if word not in stop_words]\n",
    "stripped_phrase"
   ]
  },
  {
   "cell_type": "code",
   "execution_count": 33,
   "id": "59ea7fe3",
   "metadata": {},
   "outputs": [
    {
     "data": {
      "text/plain": [
       "'example sentence demonstrating removal stopwords'"
      ]
     },
     "execution_count": 33,
     "metadata": {},
     "output_type": "execute_result"
    }
   ],
   "source": [
    "' '.join(stripped_phrase)"
   ]
  },
  {
   "cell_type": "markdown",
   "id": "c0e2737c",
   "metadata": {},
   "source": [
    "## Punctuation Removal"
   ]
  },
  {
   "cell_type": "code",
   "execution_count": 34,
   "id": "945c3c51",
   "metadata": {},
   "outputs": [
    {
     "data": {
      "text/plain": [
       "['!',\n",
       " '\"',\n",
       " '#',\n",
       " '$',\n",
       " '%',\n",
       " '&',\n",
       " \"'\",\n",
       " '(',\n",
       " ')',\n",
       " '*',\n",
       " '+',\n",
       " ',',\n",
       " '-',\n",
       " '.',\n",
       " '/',\n",
       " ':',\n",
       " ';',\n",
       " '<',\n",
       " '=',\n",
       " '>',\n",
       " '?',\n",
       " '@',\n",
       " '[',\n",
       " '\\\\',\n",
       " ']',\n",
       " '^',\n",
       " '_',\n",
       " '`',\n",
       " '{',\n",
       " '|',\n",
       " '}',\n",
       " '~']"
      ]
     },
     "execution_count": 34,
     "metadata": {},
     "output_type": "execute_result"
    }
   ],
   "source": [
    "import string \n",
    "punctuation = [punctuation for punctuation in string.punctuation]\n",
    "punctuation"
   ]
  },
  {
   "cell_type": "code",
   "execution_count": 35,
   "id": "e7b23294",
   "metadata": {},
   "outputs": [
    {
     "data": {
      "text/plain": [
       "'Hello How are you'"
      ]
     },
     "execution_count": 35,
     "metadata": {},
     "output_type": "execute_result"
    }
   ],
   "source": [
    "phrase = \"Hello! How are you?\"\n",
    "words = word_tokenize(phrase)\n",
    "stripped_phrase = [word for word in words if word not in punctuation]\n",
    "' '.join(stripped_phrase)"
   ]
  },
  {
   "cell_type": "markdown",
   "id": "9ce88407",
   "metadata": {},
   "source": [
    "## Yelp Reviews Example"
   ]
  },
  {
   "cell_type": "code",
   "execution_count": 36,
   "id": "6497d4ec",
   "metadata": {},
   "outputs": [
    {
     "data": {
      "text/html": [
       "<div>\n",
       "<style scoped>\n",
       "    .dataframe tbody tr th:only-of-type {\n",
       "        vertical-align: middle;\n",
       "    }\n",
       "\n",
       "    .dataframe tbody tr th {\n",
       "        vertical-align: top;\n",
       "    }\n",
       "\n",
       "    .dataframe thead th {\n",
       "        text-align: right;\n",
       "    }\n",
       "</style>\n",
       "<table border=\"1\" class=\"dataframe\">\n",
       "  <thead>\n",
       "    <tr style=\"text-align: right;\">\n",
       "      <th></th>\n",
       "      <th>stars</th>\n",
       "      <th>text</th>\n",
       "    </tr>\n",
       "  </thead>\n",
       "  <tbody>\n",
       "    <tr>\n",
       "      <th>0</th>\n",
       "      <td>5</td>\n",
       "      <td>My wife took me here on my birthday for breakf...</td>\n",
       "    </tr>\n",
       "    <tr>\n",
       "      <th>1</th>\n",
       "      <td>5</td>\n",
       "      <td>I have no idea why some people give bad review...</td>\n",
       "    </tr>\n",
       "    <tr>\n",
       "      <th>2</th>\n",
       "      <td>4</td>\n",
       "      <td>love the gyro plate. Rice is so good and I als...</td>\n",
       "    </tr>\n",
       "    <tr>\n",
       "      <th>3</th>\n",
       "      <td>5</td>\n",
       "      <td>Rosie, Dakota, and I LOVE Chaparral Dog Park!!...</td>\n",
       "    </tr>\n",
       "    <tr>\n",
       "      <th>4</th>\n",
       "      <td>5</td>\n",
       "      <td>General Manager Scott Petello is a good egg!!!...</td>\n",
       "    </tr>\n",
       "    <tr>\n",
       "      <th>...</th>\n",
       "      <td>...</td>\n",
       "      <td>...</td>\n",
       "    </tr>\n",
       "    <tr>\n",
       "      <th>9995</th>\n",
       "      <td>3</td>\n",
       "      <td>First visit...Had lunch here today - used my G...</td>\n",
       "    </tr>\n",
       "    <tr>\n",
       "      <th>9996</th>\n",
       "      <td>4</td>\n",
       "      <td>Should be called house of deliciousness!\\n\\nI ...</td>\n",
       "    </tr>\n",
       "    <tr>\n",
       "      <th>9997</th>\n",
       "      <td>4</td>\n",
       "      <td>I recently visited Olive and Ivy for business ...</td>\n",
       "    </tr>\n",
       "    <tr>\n",
       "      <th>9998</th>\n",
       "      <td>2</td>\n",
       "      <td>My nephew just moved to Scottsdale recently so...</td>\n",
       "    </tr>\n",
       "    <tr>\n",
       "      <th>9999</th>\n",
       "      <td>5</td>\n",
       "      <td>4-5 locations.. all 4.5 star average.. I think...</td>\n",
       "    </tr>\n",
       "  </tbody>\n",
       "</table>\n",
       "<p>10000 rows × 2 columns</p>\n",
       "</div>"
      ],
      "text/plain": [
       "      stars                                               text\n",
       "0         5  My wife took me here on my birthday for breakf...\n",
       "1         5  I have no idea why some people give bad review...\n",
       "2         4  love the gyro plate. Rice is so good and I als...\n",
       "3         5  Rosie, Dakota, and I LOVE Chaparral Dog Park!!...\n",
       "4         5  General Manager Scott Petello is a good egg!!!...\n",
       "...     ...                                                ...\n",
       "9995      3  First visit...Had lunch here today - used my G...\n",
       "9996      4  Should be called house of deliciousness!\\n\\nI ...\n",
       "9997      4  I recently visited Olive and Ivy for business ...\n",
       "9998      2  My nephew just moved to Scottsdale recently so...\n",
       "9999      5  4-5 locations.. all 4.5 star average.. I think...\n",
       "\n",
       "[10000 rows x 2 columns]"
      ]
     },
     "execution_count": 36,
     "metadata": {},
     "output_type": "execute_result"
    }
   ],
   "source": [
    "path = 'https://raw.githubusercontent.com/um-perez-alvaro/Data-Science-Practice/master/Data/yelp.csv'\n",
    "yelp = pd.read_csv(path)[['stars','text']]\n",
    "yelp"
   ]
  },
  {
   "cell_type": "code",
   "execution_count": 37,
   "id": "be8c49b4",
   "metadata": {},
   "outputs": [
    {
     "data": {
      "text/plain": [
       "4    3526\n",
       "5    3337\n",
       "3    1461\n",
       "2     927\n",
       "1     749\n",
       "Name: stars, dtype: int64"
      ]
     },
     "execution_count": 37,
     "metadata": {},
     "output_type": "execute_result"
    }
   ],
   "source": [
    "yelp.stars.value_counts()"
   ]
  },
  {
   "cell_type": "code",
   "execution_count": 38,
   "id": "d7bc5f7f",
   "metadata": {},
   "outputs": [],
   "source": [
    "# keep reviews that only contain 1 and 5 stars\n",
    "yelp = yelp.loc[yelp.stars.isin([1,5])]"
   ]
  },
  {
   "cell_type": "code",
   "execution_count": 39,
   "id": "023febf2",
   "metadata": {},
   "outputs": [
    {
     "data": {
      "text/plain": [
       "'See the huge sign outside that says $2.50? Yeah, that\\'s for shirts only. I was caught off guard when I brought in my skirt and got nailed for about $3.79. As I sadly handed over my $5 bill, the lady at the counter said a lot of people had told her they felt betrayed by the sign outside. No kidding. I had originally been heading down the street to Regal on 7th Ave.--who does a fine job in half the pickup time--for the \"advertised\" fake price here. Trying to make the best of it,  I told the lady at least I\\'d learned they had an onsite alteration service, and maybe that was worth a buck. UH OH. Picked up my skirt a few weeks later with some Jersey Shore-type chick at the counter, and was told I owed another $3.79. I flat-out refused to pay twice. She screamed at me, chased me to my car, wrote down my license plate and said the police would be visiting. Ni-i-i-ice.'"
      ]
     },
     "execution_count": 39,
     "metadata": {},
     "output_type": "execute_result"
    }
   ],
   "source": [
    "text = yelp.loc[yelp.stars==1].iloc[11].text\n",
    "text"
   ]
  },
  {
   "cell_type": "code",
   "execution_count": 40,
   "id": "76d903d6",
   "metadata": {},
   "outputs": [
    {
     "data": {
      "text/plain": [
       "[('Hello', 'NN'),\n",
       " ('!', '.'),\n",
       " ('How', 'WRB'),\n",
       " ('are', 'VBP'),\n",
       " ('you', 'PRP'),\n",
       " ('?', '.')]"
      ]
     },
     "execution_count": 40,
     "metadata": {},
     "output_type": "execute_result"
    }
   ],
   "source": [
    "nltk.pos_tag(words)"
   ]
  },
  {
   "cell_type": "code",
   "execution_count": 41,
   "id": "6b161e31",
   "metadata": {},
   "outputs": [
    {
     "data": {
      "text/plain": [
       "\"see huge sign outside say 2.50 yeah 's shirt catch guard bring skirt get nail 3.79 sadly hand 5 bill lady counter say lot people tell felt betray sign outside kidding originally head street regal 7th ave. -- fine job half pickup time -- `` advertised '' fake price try make best tell lady least 'd learn onsite alteration service maybe worth buck uh oh pick skirt week later jersey shore-type chick counter tell owe another 3.79 flat-out refuse pay twice scream chase car write license plate say police would visit ni-i-i-ice\""
      ]
     },
     "execution_count": 41,
     "metadata": {},
     "output_type": "execute_result"
    }
   ],
   "source": [
    "# process the text \n",
    "words = word_tokenize(text)\n",
    "words = [word.lower() for word in words]\n",
    "lemmatized_words = [lemmatizer.lemmatize(word,pos=process_pos(pos))\n",
    "                    for word,pos in nltk.pos_tag(words)\n",
    "                    if word not in stop_words and word not in punctuation]\n",
    "' '.join(lemmatized_words)"
   ]
  },
  {
   "cell_type": "code",
   "execution_count": 42,
   "id": "1572f2e3",
   "metadata": {},
   "outputs": [
    {
     "name": "stderr",
     "output_type": "stream",
     "text": [
      "C:\\Users\\rebec\\AppData\\Local\\Temp\\ipykernel_20128\\3872348511.py:1: SettingWithCopyWarning: \n",
      "A value is trying to be set on a copy of a slice from a DataFrame.\n",
      "Try using .loc[row_indexer,col_indexer] = value instead\n",
      "\n",
      "See the caveats in the documentation: https://pandas.pydata.org/pandas-docs/stable/user_guide/indexing.html#returning-a-view-versus-a-copy\n",
      "  yelp['processed_text'] = yelp.text\n"
     ]
    }
   ],
   "source": [
    "yelp['processed_text'] = yelp.text"
   ]
  },
  {
   "cell_type": "code",
   "execution_count": 43,
   "id": "aec384ea",
   "metadata": {},
   "outputs": [],
   "source": [
    "def processed_text(text):\n",
    "    words = word_tokenize(text)\n",
    "    words = [word.lower() for word in words]\n",
    "    lemmatized_words = [lemmatizer.lemmatize(word,pos=process_pos(pos))\n",
    "                        for word,pos in nltk.pos_tag(words)\n",
    "                        if word not in stop_words and word not in punctuation]\n",
    "    return ' '.join(lemmatized_words)"
   ]
  },
  {
   "cell_type": "code",
   "execution_count": 44,
   "id": "e447c81d",
   "metadata": {},
   "outputs": [
    {
     "data": {
      "text/plain": [
       "\"see huge sign outside say 2.50 yeah 's shirt catch guard bring skirt get nail 3.79 sadly hand 5 bill lady counter say lot people tell felt betray sign outside kidding originally head street regal 7th ave. -- fine job half pickup time -- `` advertised '' fake price try make best tell lady least 'd learn onsite alteration service maybe worth buck uh oh pick skirt week later jersey shore-type chick counter tell owe another 3.79 flat-out refuse pay twice scream chase car write license plate say police would visit ni-i-i-ice\""
      ]
     },
     "execution_count": 44,
     "metadata": {},
     "output_type": "execute_result"
    }
   ],
   "source": [
    "processed_text(text)"
   ]
  },
  {
   "cell_type": "code",
   "execution_count": 45,
   "id": "9db577dc",
   "metadata": {},
   "outputs": [
    {
     "name": "stderr",
     "output_type": "stream",
     "text": [
      "C:\\Users\\rebec\\AppData\\Local\\Temp\\ipykernel_20128\\2273887109.py:1: SettingWithCopyWarning: \n",
      "A value is trying to be set on a copy of a slice from a DataFrame.\n",
      "Try using .loc[row_indexer,col_indexer] = value instead\n",
      "\n",
      "See the caveats in the documentation: https://pandas.pydata.org/pandas-docs/stable/user_guide/indexing.html#returning-a-view-versus-a-copy\n",
      "  yelp['processed_text'] = yelp.text.apply(processed_text)\n"
     ]
    }
   ],
   "source": [
    "yelp['processed_text'] = yelp.text.apply(processed_text)"
   ]
  },
  {
   "cell_type": "code",
   "execution_count": 46,
   "id": "e17293e1",
   "metadata": {},
   "outputs": [
    {
     "data": {
      "text/html": [
       "<div>\n",
       "<style scoped>\n",
       "    .dataframe tbody tr th:only-of-type {\n",
       "        vertical-align: middle;\n",
       "    }\n",
       "\n",
       "    .dataframe tbody tr th {\n",
       "        vertical-align: top;\n",
       "    }\n",
       "\n",
       "    .dataframe thead th {\n",
       "        text-align: right;\n",
       "    }\n",
       "</style>\n",
       "<table border=\"1\" class=\"dataframe\">\n",
       "  <thead>\n",
       "    <tr style=\"text-align: right;\">\n",
       "      <th></th>\n",
       "      <th>stars</th>\n",
       "      <th>text</th>\n",
       "      <th>processed_text</th>\n",
       "    </tr>\n",
       "  </thead>\n",
       "  <tbody>\n",
       "    <tr>\n",
       "      <th>0</th>\n",
       "      <td>5</td>\n",
       "      <td>My wife took me here on my birthday for breakf...</td>\n",
       "      <td>wife take birthday breakfast excellent weather...</td>\n",
       "    </tr>\n",
       "    <tr>\n",
       "      <th>1</th>\n",
       "      <td>5</td>\n",
       "      <td>I have no idea why some people give bad review...</td>\n",
       "      <td>idea people give bad review place go show plea...</td>\n",
       "    </tr>\n",
       "    <tr>\n",
       "      <th>3</th>\n",
       "      <td>5</td>\n",
       "      <td>Rosie, Dakota, and I LOVE Chaparral Dog Park!!...</td>\n",
       "      <td>rosie dakota love chaparral dog park 's conven...</td>\n",
       "    </tr>\n",
       "    <tr>\n",
       "      <th>4</th>\n",
       "      <td>5</td>\n",
       "      <td>General Manager Scott Petello is a good egg!!!...</td>\n",
       "      <td>general manager scott petello good egg go deta...</td>\n",
       "    </tr>\n",
       "    <tr>\n",
       "      <th>6</th>\n",
       "      <td>5</td>\n",
       "      <td>Drop what you're doing and drive here. After I...</td>\n",
       "      <td>drop 're drive eat go back next day food good ...</td>\n",
       "    </tr>\n",
       "    <tr>\n",
       "      <th>...</th>\n",
       "      <td>...</td>\n",
       "      <td>...</td>\n",
       "      <td>...</td>\n",
       "    </tr>\n",
       "    <tr>\n",
       "      <th>9990</th>\n",
       "      <td>5</td>\n",
       "      <td>Yes I do rock the hipster joints.  I dig this ...</td>\n",
       "      <td>yes rock hipster joint dig place little bit sc...</td>\n",
       "    </tr>\n",
       "    <tr>\n",
       "      <th>9991</th>\n",
       "      <td>5</td>\n",
       "      <td>Only 4 stars? \\n\\n(A few notes: The folks that...</td>\n",
       "      <td>4 star note folk rat place low must isolate in...</td>\n",
       "    </tr>\n",
       "    <tr>\n",
       "      <th>9992</th>\n",
       "      <td>5</td>\n",
       "      <td>I'm not normally one to jump at reviewing a ch...</td>\n",
       "      <td>'m normally one jump review chain restaurant e...</td>\n",
       "    </tr>\n",
       "    <tr>\n",
       "      <th>9994</th>\n",
       "      <td>5</td>\n",
       "      <td>Let's see...what is there NOT to like about Su...</td>\n",
       "      <td>let 's see ... like surprise stadium well 9.50...</td>\n",
       "    </tr>\n",
       "    <tr>\n",
       "      <th>9999</th>\n",
       "      <td>5</td>\n",
       "      <td>4-5 locations.. all 4.5 star average.. I think...</td>\n",
       "      <td>4-5 location .. 4.5 star average .. think ariz...</td>\n",
       "    </tr>\n",
       "  </tbody>\n",
       "</table>\n",
       "<p>4086 rows × 3 columns</p>\n",
       "</div>"
      ],
      "text/plain": [
       "      stars                                               text  \\\n",
       "0         5  My wife took me here on my birthday for breakf...   \n",
       "1         5  I have no idea why some people give bad review...   \n",
       "3         5  Rosie, Dakota, and I LOVE Chaparral Dog Park!!...   \n",
       "4         5  General Manager Scott Petello is a good egg!!!...   \n",
       "6         5  Drop what you're doing and drive here. After I...   \n",
       "...     ...                                                ...   \n",
       "9990      5  Yes I do rock the hipster joints.  I dig this ...   \n",
       "9991      5  Only 4 stars? \\n\\n(A few notes: The folks that...   \n",
       "9992      5  I'm not normally one to jump at reviewing a ch...   \n",
       "9994      5  Let's see...what is there NOT to like about Su...   \n",
       "9999      5  4-5 locations.. all 4.5 star average.. I think...   \n",
       "\n",
       "                                         processed_text  \n",
       "0     wife take birthday breakfast excellent weather...  \n",
       "1     idea people give bad review place go show plea...  \n",
       "3     rosie dakota love chaparral dog park 's conven...  \n",
       "4     general manager scott petello good egg go deta...  \n",
       "6     drop 're drive eat go back next day food good ...  \n",
       "...                                                 ...  \n",
       "9990  yes rock hipster joint dig place little bit sc...  \n",
       "9991  4 star note folk rat place low must isolate in...  \n",
       "9992  'm normally one jump review chain restaurant e...  \n",
       "9994  let 's see ... like surprise stadium well 9.50...  \n",
       "9999  4-5 location .. 4.5 star average .. think ariz...  \n",
       "\n",
       "[4086 rows x 3 columns]"
      ]
     },
     "execution_count": 46,
     "metadata": {},
     "output_type": "execute_result"
    }
   ],
   "source": [
    "yelp"
   ]
  },
  {
   "cell_type": "code",
   "execution_count": 47,
   "id": "96acbf21",
   "metadata": {},
   "outputs": [],
   "source": [
    "from sklearn.feature_extraction.text import CountVectorizer\n",
    "from sklearn.naive_bayes import MultinomialNB # or any other classifier\n",
    "from sklearn.pipeline import Pipeline \n",
    "from sklearn.metrics import confusion_matrix, accuracy_score\n",
    "from sklearn.model_selection import train_test_split"
   ]
  },
  {
   "cell_type": "code",
   "execution_count": 48,
   "id": "83017675",
   "metadata": {},
   "outputs": [],
   "source": [
    "X = yelp.processed_text\n",
    "y = yelp.stars"
   ]
  },
  {
   "cell_type": "code",
   "execution_count": 49,
   "id": "fd0c1a62",
   "metadata": {},
   "outputs": [],
   "source": [
    "X_train,X_test,y_train,y_test = train_test_split(X,y)"
   ]
  },
  {
   "cell_type": "code",
   "execution_count": 50,
   "id": "0516536a",
   "metadata": {},
   "outputs": [],
   "source": [
    "pipe = Pipeline(steps=[\n",
    "    ('vect', CountVectorizer(max_features=5000, ngram_range=(1,2))),\n",
    "    ('clf', MultinomialNB())\n",
    "])"
   ]
  },
  {
   "cell_type": "code",
   "execution_count": 51,
   "id": "974fca82",
   "metadata": {},
   "outputs": [
    {
     "data": {
      "text/plain": [
       "Pipeline(steps=[('vect',\n",
       "                 CountVectorizer(max_features=5000, ngram_range=(1, 2))),\n",
       "                ('clf', MultinomialNB())])"
      ]
     },
     "execution_count": 51,
     "metadata": {},
     "output_type": "execute_result"
    }
   ],
   "source": [
    "pipe.fit(X_train,y_train)"
   ]
  },
  {
   "cell_type": "code",
   "execution_count": 52,
   "id": "320d7b17",
   "metadata": {},
   "outputs": [],
   "source": [
    "y_test_pred = pipe.predict(X_test)"
   ]
  },
  {
   "cell_type": "code",
   "execution_count": 53,
   "id": "f8aed5a0",
   "metadata": {},
   "outputs": [
    {
     "data": {
      "text/plain": [
       "array([[153,  25],\n",
       "       [ 47, 797]], dtype=int64)"
      ]
     },
     "execution_count": 53,
     "metadata": {},
     "output_type": "execute_result"
    }
   ],
   "source": [
    "confusion_matrix(y_test,y_test_pred)"
   ]
  },
  {
   "cell_type": "markdown",
   "id": "4e214d7e",
   "metadata": {},
   "source": [
    "## How does the model choose between 5 stars and 1 star"
   ]
  },
  {
   "cell_type": "code",
   "execution_count": 54,
   "id": "b1e199e6",
   "metadata": {},
   "outputs": [
    {
     "data": {
      "text/plain": [
       "['00',\n",
       " '000',\n",
       " '10',\n",
       " '10 15',\n",
       " '10 min',\n",
       " '10 minute',\n",
       " '10 year',\n",
       " '100',\n",
       " '101',\n",
       " '11',\n",
       " '11am',\n",
       " '12',\n",
       " '13',\n",
       " '14',\n",
       " '15',\n",
       " '15 20',\n",
       " '15 minute',\n",
       " '15 year',\n",
       " '150',\n",
       " '16',\n",
       " '17',\n",
       " '18',\n",
       " '19',\n",
       " '1st',\n",
       " '20',\n",
       " '20 minute',\n",
       " '20 year',\n",
       " '200',\n",
       " '2010',\n",
       " '2011',\n",
       " '2012',\n",
       " '21',\n",
       " '22',\n",
       " '23',\n",
       " '24',\n",
       " '25',\n",
       " '28',\n",
       " '2am',\n",
       " '2nd',\n",
       " '30',\n",
       " '30 min',\n",
       " '30 minute',\n",
       " '30 year',\n",
       " '30pm',\n",
       " '32',\n",
       " '35',\n",
       " '39',\n",
       " '3rd',\n",
       " '40',\n",
       " '40 minute',\n",
       " '45',\n",
       " '45 min',\n",
       " '45 minute',\n",
       " '49',\n",
       " '4th',\n",
       " '50',\n",
       " '500',\n",
       " '5th',\n",
       " '60',\n",
       " '6pm',\n",
       " '70',\n",
       " '75',\n",
       " '7th',\n",
       " '80',\n",
       " '8pm',\n",
       " '90',\n",
       " '90 minute',\n",
       " '95',\n",
       " '99',\n",
       " 'aa',\n",
       " 'ability',\n",
       " 'able',\n",
       " 'able get',\n",
       " 'absolute',\n",
       " 'absolute favorite',\n",
       " 'absolutely',\n",
       " 'absolutely amazing',\n",
       " 'absolutely delicious',\n",
       " 'absolutely love',\n",
       " 'ac',\n",
       " 'accept',\n",
       " 'access',\n",
       " 'accessory',\n",
       " 'accommodate',\n",
       " 'accomodating',\n",
       " 'accompany',\n",
       " 'account',\n",
       " 'acknowledge',\n",
       " 'across',\n",
       " 'across street',\n",
       " 'act',\n",
       " 'action',\n",
       " 'active',\n",
       " 'activity',\n",
       " 'actual',\n",
       " 'actually',\n",
       " 'actually get',\n",
       " 'actually go',\n",
       " 'adam',\n",
       " 'add',\n",
       " 'added',\n",
       " 'added bonus',\n",
       " 'addict',\n",
       " 'addition',\n",
       " 'additional',\n",
       " 'address',\n",
       " 'adjacent',\n",
       " 'adjust',\n",
       " 'admit',\n",
       " 'adorable',\n",
       " 'adult',\n",
       " 'advance',\n",
       " 'advantage',\n",
       " 'adventure',\n",
       " 'advertise',\n",
       " 'advice',\n",
       " 'advise',\n",
       " 'afford',\n",
       " 'affordable',\n",
       " 'afraid',\n",
       " 'afternoon',\n",
       " 'afterwards',\n",
       " 'age',\n",
       " 'agent',\n",
       " 'ago',\n",
       " 'agree',\n",
       " 'ah',\n",
       " 'ahead',\n",
       " 'ahi',\n",
       " 'ahwatukee',\n",
       " 'aid',\n",
       " 'aioli',\n",
       " 'air',\n",
       " 'airline',\n",
       " 'airport',\n",
       " 'aisle',\n",
       " 'aj',\n",
       " 'aji',\n",
       " 'al',\n",
       " 'alcohol',\n",
       " 'ale',\n",
       " 'alfredo',\n",
       " 'all',\n",
       " 'allergic',\n",
       " 'allergy',\n",
       " 'allow',\n",
       " 'almond',\n",
       " 'almost',\n",
       " 'almost always',\n",
       " 'almost every',\n",
       " 'alone',\n",
       " 'along',\n",
       " 'alot',\n",
       " 'already',\n",
       " 'alright',\n",
       " 'also',\n",
       " 'also best',\n",
       " 'also come',\n",
       " 'also enjoy',\n",
       " 'also excellent',\n",
       " 'also get',\n",
       " 'also give',\n",
       " 'also good',\n",
       " 'also great',\n",
       " 'also like',\n",
       " 'also love',\n",
       " 'also offer',\n",
       " 'also order',\n",
       " 'also really',\n",
       " 'also recommend',\n",
       " 'also serve',\n",
       " 'also try',\n",
       " 'alternative',\n",
       " 'although',\n",
       " 'always',\n",
       " 'always ask',\n",
       " 'always clean',\n",
       " 'always find',\n",
       " 'always fresh',\n",
       " 'always friendly',\n",
       " 'always get',\n",
       " 'always go',\n",
       " 'always good',\n",
       " 'always great',\n",
       " 'always look',\n",
       " 'always love',\n",
       " 'always make',\n",
       " 'always nice',\n",
       " 'always order',\n",
       " 'always take',\n",
       " 'always tell',\n",
       " 'always want',\n",
       " 'amanda',\n",
       " 'amaze',\n",
       " 'amaze also',\n",
       " 'amaze food',\n",
       " 'amazing',\n",
       " 'amazing food',\n",
       " 'amazing place',\n",
       " 'amazing service',\n",
       " 'amazing thing',\n",
       " 'amazingly',\n",
       " 'ambiance',\n",
       " 'ambience',\n",
       " 'amenity',\n",
       " 'america',\n",
       " 'american',\n",
       " 'among',\n",
       " 'amongst',\n",
       " 'amount',\n",
       " 'ample',\n",
       " 'amuse',\n",
       " 'amy',\n",
       " 'and',\n",
       " 'and or',\n",
       " 'andrew',\n",
       " 'angry',\n",
       " 'animal',\n",
       " 'anniversary',\n",
       " 'annoy',\n",
       " 'another',\n",
       " 'another place',\n",
       " 'another reviewer',\n",
       " 'another shot',\n",
       " 'another try',\n",
       " 'answer',\n",
       " 'answer question',\n",
       " 'ant',\n",
       " 'antique',\n",
       " 'anymore',\n",
       " 'anyone',\n",
       " 'anything',\n",
       " 'anything else',\n",
       " 'anything like',\n",
       " 'anytime',\n",
       " 'anyway',\n",
       " 'anyways',\n",
       " 'anywhere',\n",
       " 'anywhere else',\n",
       " 'anywhere near',\n",
       " 'ao',\n",
       " 'ao sen',\n",
       " 'apart',\n",
       " 'apartment',\n",
       " 'apologize',\n",
       " 'apology',\n",
       " 'app',\n",
       " 'apparently',\n",
       " 'appeal',\n",
       " 'appear',\n",
       " 'appetite',\n",
       " 'appetizer',\n",
       " 'apple',\n",
       " 'apply',\n",
       " 'appointment',\n",
       " 'appreciate',\n",
       " 'approach',\n",
       " 'appropriate',\n",
       " 'april',\n",
       " 'arcadia',\n",
       " 'area',\n",
       " 'arena',\n",
       " 'argue',\n",
       " 'arizona',\n",
       " 'arm',\n",
       " 'aroma',\n",
       " 'around',\n",
       " 'around corner',\n",
       " 'around town',\n",
       " 'arrange',\n",
       " 'arrangement',\n",
       " 'array',\n",
       " 'arribas',\n",
       " 'arrival',\n",
       " 'arrive',\n",
       " 'art',\n",
       " 'artichoke',\n",
       " 'artichoke dip',\n",
       " 'article',\n",
       " 'artist',\n",
       " 'artwork',\n",
       " 'arugula',\n",
       " 'as',\n",
       " 'asada',\n",
       " 'asian',\n",
       " 'asian food',\n",
       " 'asian restaurant',\n",
       " 'aside',\n",
       " 'ask',\n",
       " 'ask anything',\n",
       " 'ask could',\n",
       " 'ask need',\n",
       " 'ask order',\n",
       " 'ask question',\n",
       " 'ask server',\n",
       " 'ask want',\n",
       " 'asparagus',\n",
       " 'aspect',\n",
       " 'ass',\n",
       " 'assistant',\n",
       " 'associate',\n",
       " 'assortment',\n",
       " 'assume',\n",
       " 'assure',\n",
       " 'asu',\n",
       " 'at',\n",
       " 'ate',\n",
       " 'atm',\n",
       " 'atmosphere',\n",
       " 'atmosphere friendly',\n",
       " 'atmosphere great',\n",
       " 'attach',\n",
       " 'attack',\n",
       " 'attempt',\n",
       " 'attend',\n",
       " 'attendant',\n",
       " 'attention',\n",
       " 'attention detail',\n",
       " 'attentive',\n",
       " 'attitude',\n",
       " 'authentic',\n",
       " 'auto',\n",
       " 'available',\n",
       " 'ave',\n",
       " 'avenue',\n",
       " 'average',\n",
       " 'avocado',\n",
       " 'avoid',\n",
       " 'aware',\n",
       " 'away',\n",
       " 'awesome',\n",
       " 'awesome food',\n",
       " 'awesome great',\n",
       " 'awesome love',\n",
       " 'awful',\n",
       " 'awhile',\n",
       " 'az',\n",
       " 'baba',\n",
       " 'baby',\n",
       " 'back',\n",
       " 'back another',\n",
       " 'back ask',\n",
       " 'back get',\n",
       " 'back good',\n",
       " 'back home',\n",
       " 'back next',\n",
       " 'back phoenix',\n",
       " 'back place',\n",
       " 'back soon',\n",
       " 'back sure',\n",
       " 'back table',\n",
       " 'back time',\n",
       " 'back try',\n",
       " 'background',\n",
       " 'backyard',\n",
       " 'bacon',\n",
       " 'bad',\n",
       " 'bad experience',\n",
       " 'bad food',\n",
       " 'bad meal',\n",
       " 'bad part',\n",
       " 'bad restaurant',\n",
       " 'bad review',\n",
       " 'bad service',\n",
       " 'bad thing',\n",
       " 'bag',\n",
       " 'bagel',\n",
       " 'bake',\n",
       " 'bake potato',\n",
       " 'baked',\n",
       " 'bakery',\n",
       " 'balance',\n",
       " 'ball',\n",
       " 'balsamic',\n",
       " 'banana',\n",
       " 'band',\n",
       " 'bang',\n",
       " 'bank',\n",
       " 'bar',\n",
       " 'bar area',\n",
       " 'bar great',\n",
       " 'barbecue',\n",
       " 'barber',\n",
       " 'barely',\n",
       " 'bargain',\n",
       " 'baristas',\n",
       " 'bark',\n",
       " 'barrel',\n",
       " 'barrio',\n",
       " 'barrio cafe',\n",
       " 'bartender',\n",
       " 'base',\n",
       " 'baseball',\n",
       " 'based',\n",
       " 'basic',\n",
       " 'basically',\n",
       " 'basil',\n",
       " 'basis',\n",
       " 'basket',\n",
       " 'basketball',\n",
       " 'bath',\n",
       " 'bath bomb',\n",
       " 'bathroom',\n",
       " 'batter',\n",
       " 'bay',\n",
       " 'bay area',\n",
       " 'bbq',\n",
       " 'bbq chicken',\n",
       " 'bbq sauce',\n",
       " 'bc',\n",
       " 'beach',\n",
       " 'bean',\n",
       " 'bean rice',\n",
       " 'bear',\n",
       " 'beat',\n",
       " 'beautiful',\n",
       " 'beautiful day',\n",
       " 'beautifully',\n",
       " 'beauty',\n",
       " 'become',\n",
       " 'bed',\n",
       " 'bedroom',\n",
       " 'beef',\n",
       " 'beef sandwich',\n",
       " 'beef taco',\n",
       " 'beer',\n",
       " 'beer great',\n",
       " 'beer selection',\n",
       " 'beer tap',\n",
       " 'beet',\n",
       " 'beforehand',\n",
       " 'begin',\n",
       " 'beginning',\n",
       " 'behavior',\n",
       " 'behind',\n",
       " 'behind bar',\n",
       " 'behind counter',\n",
       " 'believe',\n",
       " 'bell',\n",
       " 'bell pepper',\n",
       " 'belly',\n",
       " 'belt',\n",
       " 'ben',\n",
       " 'bench',\n",
       " 'bend',\n",
       " 'benedict',\n",
       " 'benefit',\n",
       " 'berry',\n",
       " 'bertha',\n",
       " 'besides',\n",
       " 'best',\n",
       " 'best breakfast',\n",
       " 'best burger',\n",
       " 'best ever',\n",
       " 'best food',\n",
       " 'best friend',\n",
       " 'best italian',\n",
       " 'best meal',\n",
       " 'best one',\n",
       " 'best part',\n",
       " 'best pizza',\n",
       " 'best place',\n",
       " 'best price',\n",
       " 'best service',\n",
       " 'best sushi',\n",
       " 'best thai',\n",
       " 'best thing',\n",
       " 'best town',\n",
       " 'best ve',\n",
       " 'bet',\n",
       " 'beverage',\n",
       " 'beware',\n",
       " 'beyond',\n",
       " 'bf',\n",
       " 'bianco',\n",
       " 'big',\n",
       " 'big deal',\n",
       " 'big enough',\n",
       " 'big fan',\n",
       " 'bike',\n",
       " 'bill',\n",
       " 'biltmore',\n",
       " 'bird',\n",
       " 'birthday',\n",
       " 'birthday party',\n",
       " 'biscuit',\n",
       " 'bisque',\n",
       " 'bistro',\n",
       " 'bit',\n",
       " 'bitch',\n",
       " 'bite',\n",
       " 'black',\n",
       " 'black bean',\n",
       " 'blah',\n",
       " 'blame',\n",
       " 'bland',\n",
       " 'blast',\n",
       " 'blend',\n",
       " 'bless',\n",
       " 'bleu',\n",
       " 'bliss',\n",
       " 'block',\n",
       " 'blood',\n",
       " 'bloody',\n",
       " 'bloody mary',\n",
       " 'blow',\n",
       " 'blow away',\n",
       " 'blue',\n",
       " 'blue 32',\n",
       " 'blue cheese',\n",
       " 'blue moon',\n",
       " 'blueberry',\n",
       " 'bo',\n",
       " 'board',\n",
       " 'boat',\n",
       " 'bob',\n",
       " 'boba',\n",
       " 'bobby',\n",
       " 'boca',\n",
       " 'body',\n",
       " 'boil',\n",
       " 'bold',\n",
       " 'bomb',\n",
       " 'bone',\n",
       " 'bonus',\n",
       " 'book',\n",
       " 'boot',\n",
       " 'booth',\n",
       " 'booze',\n",
       " 'border',\n",
       " 'boring',\n",
       " 'bosa',\n",
       " 'bosa donut',\n",
       " 'boston',\n",
       " 'bother',\n",
       " 'bottle',\n",
       " 'bottle wine',\n",
       " 'bottom',\n",
       " 'bottom line',\n",
       " 'boulder',\n",
       " 'boutique',\n",
       " 'bowl',\n",
       " 'box',\n",
       " 'boxing',\n",
       " 'boy',\n",
       " 'boyfriend',\n",
       " 'bra',\n",
       " 'braise',\n",
       " 'branch',\n",
       " 'brand',\n",
       " 'brand new',\n",
       " 'brat',\n",
       " 'bravo',\n",
       " 'bread',\n",
       " 'bread pudding',\n",
       " 'breadfruit',\n",
       " 'break',\n",
       " 'breakfast',\n",
       " 'breakfast burrito',\n",
       " 'breakfast lunch',\n",
       " 'breakfast place',\n",
       " 'breast',\n",
       " 'breath',\n",
       " 'breeze',\n",
       " 'brew',\n",
       " 'brewery',\n",
       " 'brick',\n",
       " 'bride',\n",
       " 'brie',\n",
       " 'bright',\n",
       " 'bring',\n",
       " 'bring back',\n",
       " 'bring food',\n",
       " 'bring friend',\n",
       " 'brisket',\n",
       " 'brittle',\n",
       " 'broccoli',\n",
       " 'broken',\n",
       " 'broth',\n",
       " 'brother',\n",
       " 'brow',\n",
       " 'brown',\n",
       " 'brown rice',\n",
       " 'brownie',\n",
       " 'browse',\n",
       " 'brulee',\n",
       " 'brunch',\n",
       " 'bruschetta',\n",
       " 'brush',\n",
       " 'btw',\n",
       " 'bubble',\n",
       " 'buca',\n",
       " 'buck',\n",
       " 'bucket',\n",
       " 'bud',\n",
       " 'buddy',\n",
       " 'budget',\n",
       " 'buffalo',\n",
       " 'buffet',\n",
       " 'bug',\n",
       " 'build',\n",
       " 'building',\n",
       " 'bulb',\n",
       " 'bulk',\n",
       " 'bum',\n",
       " 'bummer',\n",
       " 'bun',\n",
       " 'bunch',\n",
       " 'burger',\n",
       " 'burger fry',\n",
       " 'burn',\n",
       " 'burnt',\n",
       " 'burrata',\n",
       " 'burrito',\n",
       " 'burro',\n",
       " 'bus',\n",
       " 'bush',\n",
       " 'business',\n",
       " 'business trip',\n",
       " 'busy',\n",
       " 'butcher',\n",
       " 'butt',\n",
       " 'butter',\n",
       " 'butterfly',\n",
       " 'buttery',\n",
       " 'button',\n",
       " 'buy',\n",
       " 'buy drink',\n",
       " 'buzz',\n",
       " 'ca',\n",
       " 'ca beat',\n",
       " 'ca believe',\n",
       " 'ca decide',\n",
       " 'ca even',\n",
       " 'ca find',\n",
       " 'ca get',\n",
       " 'ca go',\n",
       " 'ca help',\n",
       " 'ca remember',\n",
       " 'ca say',\n",
       " 'ca wait',\n",
       " 'cab',\n",
       " 'cabbage',\n",
       " 'cactus',\n",
       " 'caesar',\n",
       " 'cafe',\n",
       " 'cafe rio',\n",
       " 'cafeteria',\n",
       " 'caffeine',\n",
       " 'cage',\n",
       " 'cajun',\n",
       " 'cake',\n",
       " 'calamari',\n",
       " 'california',\n",
       " 'call',\n",
       " 'call ahead',\n",
       " 'call back',\n",
       " 'calm',\n",
       " 'calorie',\n",
       " 'calzone',\n",
       " 'camelback',\n",
       " 'camelback inn',\n",
       " 'camelback mountain',\n",
       " 'camera',\n",
       " 'campus',\n",
       " 'can',\n",
       " 'canal',\n",
       " 'cancel',\n",
       " 'candle',\n",
       " 'candy',\n",
       " 'cant',\n",
       " 'canteen',\n",
       " 'canyon',\n",
       " 'cap',\n",
       " 'caper',\n",
       " 'cappuccino',\n",
       " 'car',\n",
       " 'car drive',\n",
       " 'car wash',\n",
       " 'caramel',\n",
       " 'card',\n",
       " 'care',\n",
       " 'care customer',\n",
       " 'careful',\n",
       " 'carmel',\n",
       " 'carne',\n",
       " 'carne asada',\n",
       " 'carnitas',\n",
       " 'carpaccio',\n",
       " 'carpet',\n",
       " 'carrot',\n",
       " 'carry',\n",
       " 'cart',\n",
       " 'cartel',\n",
       " 'case',\n",
       " 'cash',\n",
       " 'cashier',\n",
       " 'casserole',\n",
       " 'casual',\n",
       " 'cat',\n",
       " 'catch',\n",
       " 'cause',\n",
       " 'cave',\n",
       " 'ceiling',\n",
       " 'celebrate',\n",
       " 'celebrate birthday',\n",
       " 'celebration',\n",
       " 'cell',\n",
       " 'cell phone',\n",
       " 'cent',\n",
       " 'center',\n",
       " 'central',\n",
       " 'central phoenix',\n",
       " 'certain',\n",
       " 'certainly',\n",
       " 'certificate',\n",
       " 'ceviche',\n",
       " 'cha',\n",
       " 'chai',\n",
       " 'chain',\n",
       " 'chain restaurant',\n",
       " 'chair',\n",
       " 'challenge',\n",
       " 'champagne',\n",
       " 'chance',\n",
       " 'chance try',\n",
       " 'chandler',\n",
       " 'chang',\n",
       " 'change',\n",
       " 'char',\n",
       " 'charcoal',\n",
       " 'charge',\n",
       " 'charm',\n",
       " 'charming',\n",
       " 'chat',\n",
       " 'cheap',\n",
       " 'cheap price',\n",
       " 'cheat',\n",
       " 'check',\n",
       " 'check place',\n",
       " 'cheddar',\n",
       " 'cheer',\n",
       " 'cheese',\n",
       " 'cheese plate',\n",
       " 'cheeseburger',\n",
       " 'cheesecake',\n",
       " 'cheesesteak',\n",
       " 'cheesy',\n",
       " 'chef',\n",
       " 'chef chris',\n",
       " 'cherry',\n",
       " 'chewy',\n",
       " 'chic',\n",
       " 'chicago',\n",
       " 'chick',\n",
       " 'chicken',\n",
       " 'chicken breast',\n",
       " 'chicken burrito',\n",
       " 'chicken salad',\n",
       " 'chicken sandwich',\n",
       " 'chicken taco',\n",
       " 'chicken waffle',\n",
       " 'chicken wing',\n",
       " 'child',\n",
       " 'childhood',\n",
       " 'chile',\n",
       " 'chili',\n",
       " 'chill',\n",
       " 'chilly',\n",
       " 'chimichanga',\n",
       " 'china',\n",
       " 'chinese',\n",
       " 'chinese food',\n",
       " 'chinese restaurant',\n",
       " 'chip',\n",
       " 'chip salsa',\n",
       " 'chipotle',\n",
       " 'chocolate',\n",
       " 'chocolate chip',\n",
       " 'choice',\n",
       " 'cholla',\n",
       " 'chompie',\n",
       " 'choose',\n",
       " 'chop',\n",
       " 'chop salad',\n",
       " 'chopped',\n",
       " 'chopped salad',\n",
       " 'chorizo',\n",
       " 'chris',\n",
       " 'chris bianco',\n",
       " 'christmas',\n",
       " 'christopher',\n",
       " 'chunk',\n",
       " 'church',\n",
       " 'ciao',\n",
       " 'cibo',\n",
       " 'cider',\n",
       " 'cigar',\n",
       " 'cilantro',\n",
       " 'cinnamon',\n",
       " 'circle',\n",
       " 'city',\n",
       " 'ck',\n",
       " 'claim',\n",
       " 'clam',\n",
       " 'class',\n",
       " 'classic',\n",
       " 'classy',\n",
       " 'clean',\n",
       " 'clean staff',\n",
       " 'cleaning',\n",
       " 'cleanliness',\n",
       " 'clear',\n",
       " 'clearly',\n",
       " 'client',\n",
       " 'clock',\n",
       " 'close',\n",
       " 'close early',\n",
       " 'close home',\n",
       " 'close house',\n",
       " 'closed',\n",
       " 'closer',\n",
       " 'closer home',\n",
       " 'closing',\n",
       " 'clothes',\n",
       " 'clothing',\n",
       " 'cloud',\n",
       " 'club',\n",
       " 'clue',\n",
       " 'co',\n",
       " 'co worker',\n",
       " 'coal',\n",
       " 'coast',\n",
       " 'coat',\n",
       " 'cocktail',\n",
       " 'coconut',\n",
       " 'code',\n",
       " 'coe',\n",
       " 'coffee',\n",
       " 'coffee bean',\n",
       " 'coffee drink',\n",
       " 'coffee house',\n",
       " 'coffee shop',\n",
       " 'coin',\n",
       " 'coke',\n",
       " 'cold',\n",
       " 'cole',\n",
       " 'cole slaw',\n",
       " 'coleslaw',\n",
       " 'collect',\n",
       " 'collection',\n",
       " 'college',\n",
       " 'color',\n",
       " 'com',\n",
       " 'coma',\n",
       " 'combination',\n",
       " 'combine',\n",
       " 'combo',\n",
       " 'come',\n",
       " 'come across',\n",
       " 'come back',\n",
       " 'come go',\n",
       " 'come home',\n",
       " 'come little',\n",
       " 'come make',\n",
       " 'come often',\n",
       " 'come quickly',\n",
       " 'come right',\n",
       " 'come say',\n",
       " 'come table',\n",
       " 'come visit',\n",
       " 'comedy',\n",
       " 'comfort',\n",
       " 'comfort food',\n",
       " 'comfortable',\n",
       " 'comfy',\n",
       " 'comment',\n",
       " 'commercial',\n",
       " 'commission',\n",
       " 'commit',\n",
       " 'common',\n",
       " 'communicate',\n",
       " 'community',\n",
       " 'comp',\n",
       " 'companion',\n",
       " 'company',\n",
       " 'comparable',\n",
       " 'compare',\n",
       " 'comparison',\n",
       " 'comped',\n",
       " 'competent',\n",
       " 'complain',\n",
       " 'complaint',\n",
       " 'complete',\n",
       " 'completely',\n",
       " 'complex',\n",
       " 'compliment',\n",
       " 'complimentary',\n",
       " 'computer',\n",
       " 'con',\n",
       " 'concept',\n",
       " 'concern',\n",
       " 'concert',\n",
       " 'concoction',\n",
       " 'condiment',\n",
       " 'condition',\n",
       " 'cone',\n",
       " 'conference',\n",
       " 'confident',\n",
       " 'confirm',\n",
       " 'confuse',\n",
       " 'connection',\n",
       " 'consider',\n",
       " 'consistency',\n",
       " 'consistent',\n",
       " 'consistently',\n",
       " 'consistently good',\n",
       " 'constantly',\n",
       " 'construction',\n",
       " 'contact',\n",
       " 'contain',\n",
       " 'container',\n",
       " 'content',\n",
       " 'continue',\n",
       " 'control',\n",
       " 'convenience',\n",
       " 'convenient',\n",
       " 'conversation',\n",
       " 'convert',\n",
       " 'convince',\n",
       " 'cook',\n",
       " 'cook perfection',\n",
       " 'cook perfectly',\n",
       " 'cook right',\n",
       " 'cooked',\n",
       " 'cookie',\n",
       " 'cooking',\n",
       " 'cooky',\n",
       " 'cool',\n",
       " 'cool thing',\n",
       " 'cooler',\n",
       " 'copy',\n",
       " 'corn',\n",
       " 'cornbread',\n",
       " 'corner',\n",
       " 'cornish',\n",
       " 'corporate',\n",
       " 'correct',\n",
       " 'cost',\n",
       " 'costco',\n",
       " 'costume',\n",
       " 'cotton',\n",
       " 'couch',\n",
       " 'could',\n",
       " 'could ask',\n",
       " 'could believe',\n",
       " 'could easily',\n",
       " 'could eat',\n",
       " 'could even',\n",
       " 'could find',\n",
       " 'could get',\n",
       " 'could give',\n",
       " 'could go',\n",
       " 'could good',\n",
       " 'could help',\n",
       " 'could make',\n",
       " 'could possibly',\n",
       " 'could see',\n",
       " 'could spend',\n",
       " 'could take',\n",
       " 'could tell',\n",
       " 'could ve',\n",
       " 'could wait',\n",
       " 'count',\n",
       " 'counter',\n",
       " 'countless',\n",
       " 'country',\n",
       " 'couple',\n",
       " 'coupon',\n",
       " 'course',\n",
       " 'court',\n",
       " 'courteous',\n",
       " 'cousin',\n",
       " 'cover',\n",
       " 'cow',\n",
       " 'cowboy',\n",
       " 'cowboy ciao',\n",
       " 'coworker',\n",
       " 'coworkers',\n",
       " 'cozy',\n",
       " 'crab',\n",
       " 'crab cake',\n",
       " 'crack',\n",
       " 'cracker',\n",
       " 'craft',\n",
       " 'crap',\n",
       " 'crappy',\n",
       " 'crave',\n",
       " 'craving',\n",
       " 'crazy',\n",
       " ...]"
      ]
     },
     "execution_count": 54,
     "metadata": {},
     "output_type": "execute_result"
    }
   ],
   "source": [
    "# store the vocabulary \n",
    "words = pipe['vect'].get_feature_names_out()\n",
    "list(words)"
   ]
  },
  {
   "cell_type": "code",
   "execution_count": 55,
   "id": "3d5b280c",
   "metadata": {},
   "outputs": [
    {
     "data": {
      "text/plain": [
       "array([1, 5], dtype=int64)"
      ]
     },
     "execution_count": 55,
     "metadata": {},
     "output_type": "execute_result"
    }
   ],
   "source": [
    "pipe['clf'].classes_"
   ]
  },
  {
   "cell_type": "code",
   "execution_count": 56,
   "id": "c5c1b4af",
   "metadata": {},
   "outputs": [],
   "source": [
    "# number of times each word appears across all 1-star doc\n",
    "bad_word_count = pipe['clf'].feature_count_[0,:]\n",
    "\n",
    "# number of times each word appears across all 5-star doc\n",
    "good_word_count = pipe['clf'].feature_count_[1,:]"
   ]
  },
  {
   "cell_type": "code",
   "execution_count": 57,
   "id": "28c3f727",
   "metadata": {},
   "outputs": [
    {
     "data": {
      "text/html": [
       "<div>\n",
       "<style scoped>\n",
       "    .dataframe tbody tr th:only-of-type {\n",
       "        vertical-align: middle;\n",
       "    }\n",
       "\n",
       "    .dataframe tbody tr th {\n",
       "        vertical-align: top;\n",
       "    }\n",
       "\n",
       "    .dataframe thead th {\n",
       "        text-align: right;\n",
       "    }\n",
       "</style>\n",
       "<table border=\"1\" class=\"dataframe\">\n",
       "  <thead>\n",
       "    <tr style=\"text-align: right;\">\n",
       "      <th></th>\n",
       "      <th>bad</th>\n",
       "      <th>good</th>\n",
       "    </tr>\n",
       "    <tr>\n",
       "      <th>word</th>\n",
       "      <th></th>\n",
       "      <th></th>\n",
       "    </tr>\n",
       "  </thead>\n",
       "  <tbody>\n",
       "    <tr>\n",
       "      <th>00</th>\n",
       "      <td>34.0</td>\n",
       "      <td>35.0</td>\n",
       "    </tr>\n",
       "    <tr>\n",
       "      <th>000</th>\n",
       "      <td>4.0</td>\n",
       "      <td>5.0</td>\n",
       "    </tr>\n",
       "    <tr>\n",
       "      <th>10</th>\n",
       "      <td>74.0</td>\n",
       "      <td>128.0</td>\n",
       "    </tr>\n",
       "    <tr>\n",
       "      <th>10 15</th>\n",
       "      <td>1.0</td>\n",
       "      <td>8.0</td>\n",
       "    </tr>\n",
       "    <tr>\n",
       "      <th>10 min</th>\n",
       "      <td>6.0</td>\n",
       "      <td>2.0</td>\n",
       "    </tr>\n",
       "    <tr>\n",
       "      <th>...</th>\n",
       "      <td>...</td>\n",
       "      <td>...</td>\n",
       "    </tr>\n",
       "    <tr>\n",
       "      <th>yum yum</th>\n",
       "      <td>0.0</td>\n",
       "      <td>10.0</td>\n",
       "    </tr>\n",
       "    <tr>\n",
       "      <th>yummy</th>\n",
       "      <td>4.0</td>\n",
       "      <td>100.0</td>\n",
       "    </tr>\n",
       "    <tr>\n",
       "      <th>zero</th>\n",
       "      <td>15.0</td>\n",
       "      <td>6.0</td>\n",
       "    </tr>\n",
       "    <tr>\n",
       "      <th>zinburger</th>\n",
       "      <td>0.0</td>\n",
       "      <td>9.0</td>\n",
       "    </tr>\n",
       "    <tr>\n",
       "      <th>zucchini</th>\n",
       "      <td>1.0</td>\n",
       "      <td>9.0</td>\n",
       "    </tr>\n",
       "  </tbody>\n",
       "</table>\n",
       "<p>5000 rows × 2 columns</p>\n",
       "</div>"
      ],
      "text/plain": [
       "            bad   good\n",
       "word                  \n",
       "00         34.0   35.0\n",
       "000         4.0    5.0\n",
       "10         74.0  128.0\n",
       "10 15       1.0    8.0\n",
       "10 min      6.0    2.0\n",
       "...         ...    ...\n",
       "yum yum     0.0   10.0\n",
       "yummy       4.0  100.0\n",
       "zero       15.0    6.0\n",
       "zinburger   0.0    9.0\n",
       "zucchini    1.0    9.0\n",
       "\n",
       "[5000 rows x 2 columns]"
      ]
     },
     "execution_count": 57,
     "metadata": {},
     "output_type": "execute_result"
    }
   ],
   "source": [
    "words_df = pd.DataFrame({'word':words,\n",
    "                         'bad':bad_word_count,\n",
    "                         'good':good_word_count}).set_index('word')\n",
    "words_df"
   ]
  },
  {
   "cell_type": "code",
   "execution_count": 58,
   "id": "b622f997",
   "metadata": {},
   "outputs": [],
   "source": [
    "# add 1 to the columns \n",
    "words_df = words_df + 1"
   ]
  },
  {
   "cell_type": "code",
   "execution_count": 59,
   "id": "34f78b05",
   "metadata": {},
   "outputs": [],
   "source": [
    "# convert counts into frequencies \n",
    "words_df.bad = words_df.bad/words_df.bad.sum()\n",
    "words_df.good = words_df.good/words_df.good.sum()"
   ]
  },
  {
   "cell_type": "code",
   "execution_count": 60,
   "id": "512224f2",
   "metadata": {},
   "outputs": [],
   "source": [
    "# ratios \n",
    "words_df['bad_ratio'] = words_df.bad/words_df.good\n",
    "words_df['good_ratio'] = words_df.good/words_df.bad"
   ]
  },
  {
   "cell_type": "code",
   "execution_count": 61,
   "id": "f008b500",
   "metadata": {},
   "outputs": [
    {
     "data": {
      "text/html": [
       "<div>\n",
       "<style scoped>\n",
       "    .dataframe tbody tr th:only-of-type {\n",
       "        vertical-align: middle;\n",
       "    }\n",
       "\n",
       "    .dataframe tbody tr th {\n",
       "        vertical-align: top;\n",
       "    }\n",
       "\n",
       "    .dataframe thead th {\n",
       "        text-align: right;\n",
       "    }\n",
       "</style>\n",
       "<table border=\"1\" class=\"dataframe\">\n",
       "  <thead>\n",
       "    <tr style=\"text-align: right;\">\n",
       "      <th></th>\n",
       "      <th>bad</th>\n",
       "      <th>good</th>\n",
       "      <th>bad_ratio</th>\n",
       "      <th>good_ratio</th>\n",
       "    </tr>\n",
       "    <tr>\n",
       "      <th>word</th>\n",
       "      <th></th>\n",
       "      <th></th>\n",
       "      <th></th>\n",
       "      <th></th>\n",
       "    </tr>\n",
       "  </thead>\n",
       "  <tbody>\n",
       "    <tr>\n",
       "      <th>fantastic</th>\n",
       "      <td>0.000042</td>\n",
       "      <td>0.001267</td>\n",
       "      <td>0.032926</td>\n",
       "      <td>30.371558</td>\n",
       "    </tr>\n",
       "    <tr>\n",
       "      <th>one favorite</th>\n",
       "      <td>0.000021</td>\n",
       "      <td>0.000446</td>\n",
       "      <td>0.046764</td>\n",
       "      <td>21.384056</td>\n",
       "    </tr>\n",
       "    <tr>\n",
       "      <th>perfect</th>\n",
       "      <td>0.000083</td>\n",
       "      <td>0.001667</td>\n",
       "      <td>0.050026</td>\n",
       "      <td>19.989444</td>\n",
       "    </tr>\n",
       "    <tr>\n",
       "      <th>yum</th>\n",
       "      <td>0.000021</td>\n",
       "      <td>0.000381</td>\n",
       "      <td>0.054690</td>\n",
       "      <td>18.284918</td>\n",
       "    </tr>\n",
       "    <tr>\n",
       "      <th>favorite</th>\n",
       "      <td>0.000146</td>\n",
       "      <td>0.002488</td>\n",
       "      <td>0.058667</td>\n",
       "      <td>17.045262</td>\n",
       "    </tr>\n",
       "    <tr>\n",
       "      <th>love place</th>\n",
       "      <td>0.000063</td>\n",
       "      <td>0.000989</td>\n",
       "      <td>0.063269</td>\n",
       "      <td>15.805607</td>\n",
       "    </tr>\n",
       "    <tr>\n",
       "      <th>organic</th>\n",
       "      <td>0.000021</td>\n",
       "      <td>0.000265</td>\n",
       "      <td>0.078700</td>\n",
       "      <td>12.706468</td>\n",
       "    </tr>\n",
       "    <tr>\n",
       "      <th>highly recommend</th>\n",
       "      <td>0.000063</td>\n",
       "      <td>0.000788</td>\n",
       "      <td>0.079345</td>\n",
       "      <td>12.603164</td>\n",
       "    </tr>\n",
       "    <tr>\n",
       "      <th>gem</th>\n",
       "      <td>0.000021</td>\n",
       "      <td>0.000258</td>\n",
       "      <td>0.080668</td>\n",
       "      <td>12.396554</td>\n",
       "    </tr>\n",
       "    <tr>\n",
       "      <th>reservation</th>\n",
       "      <td>0.000021</td>\n",
       "      <td>0.000258</td>\n",
       "      <td>0.080668</td>\n",
       "      <td>12.396554</td>\n",
       "    </tr>\n",
       "    <tr>\n",
       "      <th>brunch</th>\n",
       "      <td>0.000021</td>\n",
       "      <td>0.000252</td>\n",
       "      <td>0.082736</td>\n",
       "      <td>12.086640</td>\n",
       "    </tr>\n",
       "    <tr>\n",
       "      <th>dentist</th>\n",
       "      <td>0.000021</td>\n",
       "      <td>0.000246</td>\n",
       "      <td>0.084913</td>\n",
       "      <td>11.776727</td>\n",
       "    </tr>\n",
       "    <tr>\n",
       "      <th>one best</th>\n",
       "      <td>0.000042</td>\n",
       "      <td>0.000485</td>\n",
       "      <td>0.086045</td>\n",
       "      <td>11.621770</td>\n",
       "    </tr>\n",
       "    <tr>\n",
       "      <th>best ve</th>\n",
       "      <td>0.000021</td>\n",
       "      <td>0.000239</td>\n",
       "      <td>0.087208</td>\n",
       "      <td>11.466813</td>\n",
       "    </tr>\n",
       "    <tr>\n",
       "      <th>delish</th>\n",
       "      <td>0.000021</td>\n",
       "      <td>0.000233</td>\n",
       "      <td>0.089631</td>\n",
       "      <td>11.156899</td>\n",
       "    </tr>\n",
       "    <tr>\n",
       "      <th>hubby</th>\n",
       "      <td>0.000021</td>\n",
       "      <td>0.000226</td>\n",
       "      <td>0.092192</td>\n",
       "      <td>10.846985</td>\n",
       "    </tr>\n",
       "    <tr>\n",
       "      <th>amaze</th>\n",
       "      <td>0.000125</td>\n",
       "      <td>0.001331</td>\n",
       "      <td>0.093982</td>\n",
       "      <td>10.640376</td>\n",
       "    </tr>\n",
       "    <tr>\n",
       "      <th>creamy</th>\n",
       "      <td>0.000021</td>\n",
       "      <td>0.000220</td>\n",
       "      <td>0.094903</td>\n",
       "      <td>10.537071</td>\n",
       "    </tr>\n",
       "    <tr>\n",
       "      <th>strawberry</th>\n",
       "      <td>0.000021</td>\n",
       "      <td>0.000220</td>\n",
       "      <td>0.094903</td>\n",
       "      <td>10.537071</td>\n",
       "    </tr>\n",
       "    <tr>\n",
       "      <th>homemade</th>\n",
       "      <td>0.000042</td>\n",
       "      <td>0.000414</td>\n",
       "      <td>0.100834</td>\n",
       "      <td>9.917243</td>\n",
       "    </tr>\n",
       "  </tbody>\n",
       "</table>\n",
       "</div>"
      ],
      "text/plain": [
       "                       bad      good  bad_ratio  good_ratio\n",
       "word                                                       \n",
       "fantastic         0.000042  0.001267   0.032926   30.371558\n",
       "one favorite      0.000021  0.000446   0.046764   21.384056\n",
       "perfect           0.000083  0.001667   0.050026   19.989444\n",
       "yum               0.000021  0.000381   0.054690   18.284918\n",
       "favorite          0.000146  0.002488   0.058667   17.045262\n",
       "love place        0.000063  0.000989   0.063269   15.805607\n",
       "organic           0.000021  0.000265   0.078700   12.706468\n",
       "highly recommend  0.000063  0.000788   0.079345   12.603164\n",
       "gem               0.000021  0.000258   0.080668   12.396554\n",
       "reservation       0.000021  0.000258   0.080668   12.396554\n",
       "brunch            0.000021  0.000252   0.082736   12.086640\n",
       "dentist           0.000021  0.000246   0.084913   11.776727\n",
       "one best          0.000042  0.000485   0.086045   11.621770\n",
       "best ve           0.000021  0.000239   0.087208   11.466813\n",
       "delish            0.000021  0.000233   0.089631   11.156899\n",
       "hubby             0.000021  0.000226   0.092192   10.846985\n",
       "amaze             0.000125  0.001331   0.093982   10.640376\n",
       "creamy            0.000021  0.000220   0.094903   10.537071\n",
       "strawberry        0.000021  0.000220   0.094903   10.537071\n",
       "homemade          0.000042  0.000414   0.100834    9.917243"
      ]
     },
     "execution_count": 61,
     "metadata": {},
     "output_type": "execute_result"
    }
   ],
   "source": [
    "words_df.sort_values(by='good_ratio',ascending=False).head(20)"
   ]
  },
  {
   "cell_type": "code",
   "execution_count": 62,
   "id": "1dbb2d9d",
   "metadata": {},
   "outputs": [
    {
     "data": {
      "text/plain": [
       "'I\\'m from Chicago so I\\'m picky with my pizza--this place does it right (NY style)! I love the \"hole in the wall\" feel. Every customer that walked in was a regular which was a good sign. I ordered the Mozzarella sticks and a large Monster Pie (Sausage, pepperoni, bell peppers, onion and cheese). The mozzarella sticks took a little while to come out but they were cooked to perfection. They also threw in a few garlic knots which was awesome. The pizza was unbelievable--I think the crumbled sausage really did it! They have great deals like large pie & 20 wings for $20 which I definitely will be taking advantage of during football games on Sunday. Glad to have found a new place where I can also be a regular!'"
      ]
     },
     "execution_count": 62,
     "metadata": {},
     "output_type": "execute_result"
    }
   ],
   "source": [
    "yelp.loc[yelp.processed_text.str.contains('mozzarella')].iloc[1].text"
   ]
  },
  {
   "cell_type": "markdown",
   "id": "47316d36",
   "metadata": {},
   "source": [
    "## tf-idf (term frequecy - inverse document frequency)"
   ]
  },
  {
   "cell_type": "markdown",
   "id": "3c26642a",
   "metadata": {},
   "source": [
    "$\\text{tf-idf}*\\text{log}\\left( \\frac{n}{1+\\text{number containing w}}\\right)$\n",
    "\n",
    "- tf-idf: number of times a word w occurs in a document\n",
    "- instead of count vectorizer (tf alone is count vectorizer) \n",
    "- n = number of documents"
   ]
  },
  {
   "cell_type": "code",
   "execution_count": 67,
   "id": "7f4806a8",
   "metadata": {},
   "outputs": [],
   "source": [
    "from sklearn.feature_extraction.text import TfidfVectorizer"
   ]
  },
  {
   "cell_type": "code",
   "execution_count": 68,
   "id": "868e3d44",
   "metadata": {},
   "outputs": [],
   "source": [
    "pipe = Pipeline(steps=[\n",
    "    ('vect', TfidfVectorizer(max_features=5000, ngram_range=(1,2))),\n",
    "    ('clf', MultinomialNB())\n",
    "])"
   ]
  },
  {
   "cell_type": "code",
   "execution_count": 69,
   "id": "d069e015",
   "metadata": {},
   "outputs": [
    {
     "data": {
      "text/plain": [
       "Pipeline(steps=[('vect',\n",
       "                 TfidfVectorizer(max_features=5000, ngram_range=(1, 2))),\n",
       "                ('clf', MultinomialNB())])"
      ]
     },
     "execution_count": 69,
     "metadata": {},
     "output_type": "execute_result"
    }
   ],
   "source": [
    "pipe.fit(X_train,y_train)"
   ]
  },
  {
   "cell_type": "code",
   "execution_count": 70,
   "id": "e97e2566",
   "metadata": {},
   "outputs": [],
   "source": [
    "y_test_pred = pipe.predict(X_test)"
   ]
  },
  {
   "cell_type": "code",
   "execution_count": 71,
   "id": "a64c94b0",
   "metadata": {},
   "outputs": [
    {
     "data": {
      "text/plain": [
       "array([[ 36, 142],\n",
       "       [  0, 844]], dtype=int64)"
      ]
     },
     "execution_count": 71,
     "metadata": {},
     "output_type": "execute_result"
    }
   ],
   "source": [
    "confusion_matrix(y_test,y_test_pred)"
   ]
  },
  {
   "cell_type": "markdown",
   "id": "5b13d64c",
   "metadata": {},
   "source": [
    "## Grid Search"
   ]
  },
  {
   "cell_type": "code",
   "execution_count": 72,
   "id": "53515a64",
   "metadata": {},
   "outputs": [],
   "source": [
    "from sklearn.model_selection import GridSearchCV"
   ]
  },
  {
   "cell_type": "code",
   "execution_count": 79,
   "id": "e4622bf9",
   "metadata": {},
   "outputs": [],
   "source": [
    "params_dic = {'vect__max_features' : [500,1000,2000,5000],\n",
    "              'vect__ngram_range' : [(1,1),(1,2)],\n",
    "              'vect__use_idf' : [False,True], #uses just a count vectorizer when false \n",
    "              'clf__alpha' : [0,0.01,0.1,0.25]\n",
    "             }"
   ]
  },
  {
   "cell_type": "code",
   "execution_count": 97,
   "id": "2126f039",
   "metadata": {},
   "outputs": [
    {
     "name": "stdout",
     "output_type": "stream",
     "text": [
      "Fitting 5 folds for each of 64 candidates, totalling 320 fits\n"
     ]
    },
    {
     "data": {
      "text/plain": [
       "GridSearchCV(cv=5,\n",
       "             estimator=Pipeline(steps=[('vect',\n",
       "                                        TfidfVectorizer(max_features=5000,\n",
       "                                                        ngram_range=(1, 2))),\n",
       "                                       ('clf', MultinomialNB())]),\n",
       "             n_jobs=-1,\n",
       "             param_grid={'clf__alpha': [0, 0.01, 0.1, 0.25],\n",
       "                         'vect__max_features': [500, 1000, 2000, 5000],\n",
       "                         'vect__ngram_range': [(1, 1), (1, 2)],\n",
       "                         'vect__use_idf': [False, True]},\n",
       "             scoring='balanced_accuracy', verbose=2)"
      ]
     },
     "execution_count": 97,
     "metadata": {},
     "output_type": "execute_result"
    }
   ],
   "source": [
    "grid = GridSearchCV(pipe,\n",
    "                    params_dic,\n",
    "                    cv=5,\n",
    "                    n_jobs=-1,\n",
    "                    scoring='balanced_accuracy',\n",
    "                    verbose=2)\n",
    "grid.fit(X_train,y_train)"
   ]
  },
  {
   "cell_type": "code",
   "execution_count": 98,
   "id": "0ef17205",
   "metadata": {},
   "outputs": [
    {
     "data": {
      "text/plain": [
       "{'clf__alpha': 0.1,\n",
       " 'vect__max_features': 5000,\n",
       " 'vect__ngram_range': (1, 2),\n",
       " 'vect__use_idf': True}"
      ]
     },
     "execution_count": 98,
     "metadata": {},
     "output_type": "execute_result"
    }
   ],
   "source": [
    "grid.best_params_"
   ]
  },
  {
   "cell_type": "code",
   "execution_count": 99,
   "id": "936ec307",
   "metadata": {},
   "outputs": [],
   "source": [
    "best_pipe = grid.best_estimator_"
   ]
  },
  {
   "cell_type": "code",
   "execution_count": 100,
   "id": "fa4c1294",
   "metadata": {},
   "outputs": [
    {
     "data": {
      "text/plain": [
       "array([[114,  64],\n",
       "       [  5, 839]], dtype=int64)"
      ]
     },
     "execution_count": 100,
     "metadata": {},
     "output_type": "execute_result"
    }
   ],
   "source": [
    "y_test_pred = best_pipe.predict(X_test)\n",
    "confusion_matrix(y_test,y_test_pred)"
   ]
  },
  {
   "cell_type": "code",
   "execution_count": 101,
   "id": "f551703c",
   "metadata": {},
   "outputs": [
    {
     "data": {
      "text/plain": [
       "<sklearn.metrics._plot.confusion_matrix.ConfusionMatrixDisplay at 0x1b14ab73be0>"
      ]
     },
     "execution_count": 101,
     "metadata": {},
     "output_type": "execute_result"
    },
    {
     "data": {
      "image/png": "[encoded data removed]",
      "text/plain": [
       "<Figure size 640x480 with 2 Axes>"
      ]
     },
     "metadata": {},
     "output_type": "display_data"
    }
   ],
   "source": [
    "from sklearn.metrics import ConfusionMatrixDisplay\n",
    "ConfusionMatrixDisplay.from_estimator(best_pipe,X_test,y_test)"
   ]
  },
  {
   "cell_type": "code",
   "execution_count": 103,
   "id": "b102d67c",
   "metadata": {},
   "outputs": [],
   "source": [
    "# number of times each word appears across all 1-star doc\n",
    "bad_word_count = best_pipe['clf'].feature_count_[0,:]\n",
    "\n",
    "# number of times each word appears across all 5-star doc\n",
    "good_word_count = best_pipe['clf'].feature_count_[1,:]"
   ]
  },
  {
   "cell_type": "code",
   "execution_count": 106,
   "id": "03b5d9fa",
   "metadata": {},
   "outputs": [],
   "source": [
    "words_df = pd.DataFrame({'word':words,\n",
    "                         'bad':bad_word_count,\n",
    "                         'good':good_word_count}).set_index('word')"
   ]
  },
  {
   "cell_type": "code",
   "execution_count": 107,
   "id": "582d5dd5",
   "metadata": {},
   "outputs": [],
   "source": [
    "words_df = words_df + 1\n",
    "words_df.bad = words_df.bad/words_df.bad.sum()\n",
    "words_df.good = words_df.good/words_df.good.sum()\n",
    "words_df['bad_ratio'] = words_df.bad/words_df.good\n",
    "words_df['good_ratio'] = words_df.good/words_df.bad"
   ]
  },
  {
   "cell_type": "code",
   "execution_count": 109,
   "id": "62e9ad41",
   "metadata": {},
   "outputs": [
    {
     "data": {
      "text/html": [
       "<div>\n",
       "<style scoped>\n",
       "    .dataframe tbody tr th:only-of-type {\n",
       "        vertical-align: middle;\n",
       "    }\n",
       "\n",
       "    .dataframe tbody tr th {\n",
       "        vertical-align: top;\n",
       "    }\n",
       "\n",
       "    .dataframe thead th {\n",
       "        text-align: right;\n",
       "    }\n",
       "</style>\n",
       "<table border=\"1\" class=\"dataframe\">\n",
       "  <thead>\n",
       "    <tr style=\"text-align: right;\">\n",
       "      <th></th>\n",
       "      <th>bad</th>\n",
       "      <th>good</th>\n",
       "      <th>bad_ratio</th>\n",
       "      <th>good_ratio</th>\n",
       "    </tr>\n",
       "    <tr>\n",
       "      <th>word</th>\n",
       "      <th></th>\n",
       "      <th></th>\n",
       "      <th></th>\n",
       "      <th></th>\n",
       "    </tr>\n",
       "  </thead>\n",
       "  <tbody>\n",
       "    <tr>\n",
       "      <th>horrible</th>\n",
       "      <td>0.001148</td>\n",
       "      <td>0.000089</td>\n",
       "      <td>12.892069</td>\n",
       "      <td>0.077567</td>\n",
       "    </tr>\n",
       "    <tr>\n",
       "      <th>rude</th>\n",
       "      <td>0.000980</td>\n",
       "      <td>0.000080</td>\n",
       "      <td>12.254661</td>\n",
       "      <td>0.081602</td>\n",
       "    </tr>\n",
       "    <tr>\n",
       "      <th>disgust</th>\n",
       "      <td>0.000638</td>\n",
       "      <td>0.000059</td>\n",
       "      <td>10.749343</td>\n",
       "      <td>0.093029</td>\n",
       "    </tr>\n",
       "    <tr>\n",
       "      <th>awful</th>\n",
       "      <td>0.000780</td>\n",
       "      <td>0.000077</td>\n",
       "      <td>10.124931</td>\n",
       "      <td>0.098766</td>\n",
       "    </tr>\n",
       "    <tr>\n",
       "      <th>gross</th>\n",
       "      <td>0.000665</td>\n",
       "      <td>0.000083</td>\n",
       "      <td>8.048473</td>\n",
       "      <td>0.124247</td>\n",
       "    </tr>\n",
       "    <tr>\n",
       "      <th>horrible service</th>\n",
       "      <td>0.000346</td>\n",
       "      <td>0.000050</td>\n",
       "      <td>6.924911</td>\n",
       "      <td>0.144406</td>\n",
       "    </tr>\n",
       "    <tr>\n",
       "      <th>service horrible</th>\n",
       "      <td>0.000341</td>\n",
       "      <td>0.000050</td>\n",
       "      <td>6.820560</td>\n",
       "      <td>0.146616</td>\n",
       "    </tr>\n",
       "    <tr>\n",
       "      <th>refuse</th>\n",
       "      <td>0.000452</td>\n",
       "      <td>0.000067</td>\n",
       "      <td>6.723971</td>\n",
       "      <td>0.148722</td>\n",
       "    </tr>\n",
       "    <tr>\n",
       "      <th>one star</th>\n",
       "      <td>0.000367</td>\n",
       "      <td>0.000055</td>\n",
       "      <td>6.668725</td>\n",
       "      <td>0.149954</td>\n",
       "    </tr>\n",
       "    <tr>\n",
       "      <th>tasteless</th>\n",
       "      <td>0.000407</td>\n",
       "      <td>0.000062</td>\n",
       "      <td>6.558744</td>\n",
       "      <td>0.152468</td>\n",
       "    </tr>\n",
       "    <tr>\n",
       "      <th>poor service</th>\n",
       "      <td>0.000327</td>\n",
       "      <td>0.000050</td>\n",
       "      <td>6.547731</td>\n",
       "      <td>0.152725</td>\n",
       "    </tr>\n",
       "    <tr>\n",
       "      <th>mediocre</th>\n",
       "      <td>0.000509</td>\n",
       "      <td>0.000078</td>\n",
       "      <td>6.498629</td>\n",
       "      <td>0.153879</td>\n",
       "    </tr>\n",
       "    <tr>\n",
       "      <th>poor</th>\n",
       "      <td>0.000618</td>\n",
       "      <td>0.000101</td>\n",
       "      <td>6.099200</td>\n",
       "      <td>0.163956</td>\n",
       "    </tr>\n",
       "    <tr>\n",
       "      <th>waste time</th>\n",
       "      <td>0.000334</td>\n",
       "      <td>0.000056</td>\n",
       "      <td>6.008624</td>\n",
       "      <td>0.166427</td>\n",
       "    </tr>\n",
       "    <tr>\n",
       "      <th>bad food</th>\n",
       "      <td>0.000333</td>\n",
       "      <td>0.000057</td>\n",
       "      <td>5.894904</td>\n",
       "      <td>0.169638</td>\n",
       "    </tr>\n",
       "    <tr>\n",
       "      <th>suck</th>\n",
       "      <td>0.000766</td>\n",
       "      <td>0.000130</td>\n",
       "      <td>5.894537</td>\n",
       "      <td>0.169649</td>\n",
       "    </tr>\n",
       "    <tr>\n",
       "      <th>disappointing</th>\n",
       "      <td>0.000336</td>\n",
       "      <td>0.000057</td>\n",
       "      <td>5.869751</td>\n",
       "      <td>0.170365</td>\n",
       "    </tr>\n",
       "    <tr>\n",
       "      <th>stale</th>\n",
       "      <td>0.000340</td>\n",
       "      <td>0.000058</td>\n",
       "      <td>5.818249</td>\n",
       "      <td>0.171873</td>\n",
       "    </tr>\n",
       "    <tr>\n",
       "      <th>flavorless</th>\n",
       "      <td>0.000331</td>\n",
       "      <td>0.000057</td>\n",
       "      <td>5.812647</td>\n",
       "      <td>0.172039</td>\n",
       "    </tr>\n",
       "    <tr>\n",
       "      <th>yuck</th>\n",
       "      <td>0.000342</td>\n",
       "      <td>0.000060</td>\n",
       "      <td>5.719617</td>\n",
       "      <td>0.174837</td>\n",
       "    </tr>\n",
       "  </tbody>\n",
       "</table>\n",
       "</div>"
      ],
      "text/plain": [
       "                       bad      good  bad_ratio  good_ratio\n",
       "word                                                       \n",
       "horrible          0.001148  0.000089  12.892069    0.077567\n",
       "rude              0.000980  0.000080  12.254661    0.081602\n",
       "disgust           0.000638  0.000059  10.749343    0.093029\n",
       "awful             0.000780  0.000077  10.124931    0.098766\n",
       "gross             0.000665  0.000083   8.048473    0.124247\n",
       "horrible service  0.000346  0.000050   6.924911    0.144406\n",
       "service horrible  0.000341  0.000050   6.820560    0.146616\n",
       "refuse            0.000452  0.000067   6.723971    0.148722\n",
       "one star          0.000367  0.000055   6.668725    0.149954\n",
       "tasteless         0.000407  0.000062   6.558744    0.152468\n",
       "poor service      0.000327  0.000050   6.547731    0.152725\n",
       "mediocre          0.000509  0.000078   6.498629    0.153879\n",
       "poor              0.000618  0.000101   6.099200    0.163956\n",
       "waste time        0.000334  0.000056   6.008624    0.166427\n",
       "bad food          0.000333  0.000057   5.894904    0.169638\n",
       "suck              0.000766  0.000130   5.894537    0.169649\n",
       "disappointing     0.000336  0.000057   5.869751    0.170365\n",
       "stale             0.000340  0.000058   5.818249    0.171873\n",
       "flavorless        0.000331  0.000057   5.812647    0.172039\n",
       "yuck              0.000342  0.000060   5.719617    0.174837"
      ]
     },
     "execution_count": 109,
     "metadata": {},
     "output_type": "execute_result"
    }
   ],
   "source": [
    "words_df.sort_values(by='bad_ratio',ascending=False).head(20)"
   ]
  },
  {
   "cell_type": "code",
   "execution_count": null,
   "id": "481d5308",
   "metadata": {},
   "outputs": [],
   "source": []
  }
 ],
 "metadata": {
  "kernelspec": {
   "display_name": "Python 3 (ipykernel)",
   "language": "python",
   "name": "python3"
  },
  "language_info": {
   "codemirror_mode": {
    "name": "ipython",
    "version": 3
   },
   "file_extension": ".py",
   "mimetype": "text/x-python",
   "name": "python",
   "nbconvert_exporter": "python",
   "pygments_lexer": "ipython3",
   "version": "3.9.13"
  },
  "toc": {
   "base_numbering": 1,
   "nav_menu": {},
   "number_sections": false,
   "sideBar": true,
   "skip_h1_title": false,
   "title_cell": "Table of Contents",
   "title_sidebar": "Contents",
   "toc_cell": false,
   "toc_position": {},
   "toc_section_display": true,
   "toc_window_display": false
  }
 },
 "nbformat": 4,
 "nbformat_minor": 5
}
