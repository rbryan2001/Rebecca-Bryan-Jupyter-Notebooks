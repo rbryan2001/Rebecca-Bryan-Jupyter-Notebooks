{
 "cells": [
  {
   "cell_type": "markdown",
   "id": "6455bac8",
   "metadata": {},
   "source": [
    "# Vectorizing: Representing text as numerical data"
   ]
  },
  {
   "cell_type": "code",
   "execution_count": 1,
   "id": "d8e39665",
   "metadata": {},
   "outputs": [],
   "source": [
    "import pandas as pd "
   ]
  },
  {
   "cell_type": "code",
   "execution_count": 2,
   "id": "edd9b292",
   "metadata": {},
   "outputs": [],
   "source": [
    "# toy example\n",
    "X_train = ['call you tonight', \n",
    "           'Call me a cab', \n",
    "           'please call me... PLEASE',\n",
    "           'he called the police', \n",
    "          'Ive fallen and I cant get up']"
   ]
  },
  {
   "cell_type": "code",
   "execution_count": 3,
   "id": "011964d7",
   "metadata": {},
   "outputs": [],
   "source": [
    "# import the vectorizer \n",
    "from sklearn.feature_extraction.text import CountVectorizer\n",
    "vect = CountVectorizer()"
   ]
  },
  {
   "cell_type": "code",
   "execution_count": 4,
   "id": "347d5c10",
   "metadata": {},
   "outputs": [
    {
     "data": {
      "text/html": [
       "<style>#sk-container-id-1 {color: black;background-color: white;}#sk-container-id-1 pre{padding: 0;}#sk-container-id-1 div.sk-toggleable {background-color: white;}#sk-container-id-1 label.sk-toggleable__label {cursor: pointer;display: block;width: 100%;margin-bottom: 0;padding: 0.3em;box-sizing: border-box;text-align: center;}#sk-container-id-1 label.sk-toggleable__label-arrow:before {content: \"▸\";float: left;margin-right: 0.25em;color: #696969;}#sk-container-id-1 label.sk-toggleable__label-arrow:hover:before {color: black;}#sk-container-id-1 div.sk-estimator:hover label.sk-toggleable__label-arrow:before {color: black;}#sk-container-id-1 div.sk-toggleable__content {max-height: 0;max-width: 0;overflow: hidden;text-align: left;background-color: #f0f8ff;}#sk-container-id-1 div.sk-toggleable__content pre {margin: 0.2em;color: black;border-radius: 0.25em;background-color: #f0f8ff;}#sk-container-id-1 input.sk-toggleable__control:checked~div.sk-toggleable__content {max-height: 200px;max-width: 100%;overflow: auto;}#sk-container-id-1 input.sk-toggleable__control:checked~label.sk-toggleable__label-arrow:before {content: \"▾\";}#sk-container-id-1 div.sk-estimator input.sk-toggleable__control:checked~label.sk-toggleable__label {background-color: #d4ebff;}#sk-container-id-1 div.sk-label input.sk-toggleable__control:checked~label.sk-toggleable__label {background-color: #d4ebff;}#sk-container-id-1 input.sk-hidden--visually {border: 0;clip: rect(1px 1px 1px 1px);clip: rect(1px, 1px, 1px, 1px);height: 1px;margin: -1px;overflow: hidden;padding: 0;position: absolute;width: 1px;}#sk-container-id-1 div.sk-estimator {font-family: monospace;background-color: #f0f8ff;border: 1px dotted black;border-radius: 0.25em;box-sizing: border-box;margin-bottom: 0.5em;}#sk-container-id-1 div.sk-estimator:hover {background-color: #d4ebff;}#sk-container-id-1 div.sk-parallel-item::after {content: \"\";width: 100%;border-bottom: 1px solid gray;flex-grow: 1;}#sk-container-id-1 div.sk-label:hover label.sk-toggleable__label {background-color: #d4ebff;}#sk-container-id-1 div.sk-serial::before {content: \"\";position: absolute;border-left: 1px solid gray;box-sizing: border-box;top: 0;bottom: 0;left: 50%;z-index: 0;}#sk-container-id-1 div.sk-serial {display: flex;flex-direction: column;align-items: center;background-color: white;padding-right: 0.2em;padding-left: 0.2em;position: relative;}#sk-container-id-1 div.sk-item {position: relative;z-index: 1;}#sk-container-id-1 div.sk-parallel {display: flex;align-items: stretch;justify-content: center;background-color: white;position: relative;}#sk-container-id-1 div.sk-item::before, #sk-container-id-1 div.sk-parallel-item::before {content: \"\";position: absolute;border-left: 1px solid gray;box-sizing: border-box;top: 0;bottom: 0;left: 50%;z-index: -1;}#sk-container-id-1 div.sk-parallel-item {display: flex;flex-direction: column;z-index: 1;position: relative;background-color: white;}#sk-container-id-1 div.sk-parallel-item:first-child::after {align-self: flex-end;width: 50%;}#sk-container-id-1 div.sk-parallel-item:last-child::after {align-self: flex-start;width: 50%;}#sk-container-id-1 div.sk-parallel-item:only-child::after {width: 0;}#sk-container-id-1 div.sk-dashed-wrapped {border: 1px dashed gray;margin: 0 0.4em 0.5em 0.4em;box-sizing: border-box;padding-bottom: 0.4em;background-color: white;}#sk-container-id-1 div.sk-label label {font-family: monospace;font-weight: bold;display: inline-block;line-height: 1.2em;}#sk-container-id-1 div.sk-label-container {text-align: center;}#sk-container-id-1 div.sk-container {/* jupyter's `normalize.less` sets `[hidden] { display: none; }` but bootstrap.min.css set `[hidden] { display: none !important; }` so we also need the `!important` here to be able to override the default hidden behavior on the sphinx rendered scikit-learn.org. See: https://github.com/scikit-learn/scikit-learn/issues/21755 */display: inline-block !important;position: relative;}#sk-container-id-1 div.sk-text-repr-fallback {display: none;}</style><div id=\"sk-container-id-1\" class=\"sk-top-container\"><div class=\"sk-text-repr-fallback\"><pre>CountVectorizer()</pre><b>In a Jupyter environment, please rerun this cell to show the HTML representation or trust the notebook. <br />On GitHub, the HTML representation is unable to render, please try loading this page with nbviewer.org.</b></div><div class=\"sk-container\" hidden><div class=\"sk-item\"><div class=\"sk-estimator sk-toggleable\"><input class=\"sk-toggleable__control sk-hidden--visually\" id=\"sk-estimator-id-1\" type=\"checkbox\" checked><label for=\"sk-estimator-id-1\" class=\"sk-toggleable__label sk-toggleable__label-arrow\">CountVectorizer</label><div class=\"sk-toggleable__content\"><pre>CountVectorizer()</pre></div></div></div></div></div>"
      ],
      "text/plain": [
       "CountVectorizer()"
      ]
     },
     "execution_count": 4,
     "metadata": {},
     "output_type": "execute_result"
    }
   ],
   "source": [
    "# learn the 'vocabulary' of the training data\n",
    "vect.fit(X_train)"
   ]
  },
  {
   "cell_type": "code",
   "execution_count": 5,
   "id": "dd3fad34",
   "metadata": {},
   "outputs": [
    {
     "data": {
      "text/plain": [
       "array(['and', 'cab', 'call', 'called', 'cant', 'fallen', 'get', 'he',\n",
       "       'ive', 'me', 'please', 'police', 'the', 'tonight', 'up', 'you'],\n",
       "      dtype=object)"
      ]
     },
     "execution_count": 5,
     "metadata": {},
     "output_type": "execute_result"
    }
   ],
   "source": [
    "# examine the fitted vocabulary\n",
    "vect.get_feature_names_out()"
   ]
  },
  {
   "cell_type": "code",
   "execution_count": 6,
   "id": "f673515a",
   "metadata": {},
   "outputs": [],
   "source": [
    "# transform training data into a 'document-term matrix'\n",
    "X_train_dtm = vect.transform(X_train)"
   ]
  },
  {
   "cell_type": "code",
   "execution_count": 7,
   "id": "575ce357",
   "metadata": {},
   "outputs": [
    {
     "data": {
      "text/plain": [
       "array([[0, 0, 1, 0, 0, 0, 0, 0, 0, 0, 0, 0, 0, 1, 0, 1],\n",
       "       [0, 1, 1, 0, 0, 0, 0, 0, 0, 1, 0, 0, 0, 0, 0, 0],\n",
       "       [0, 0, 1, 0, 0, 0, 0, 0, 0, 1, 2, 0, 0, 0, 0, 0],\n",
       "       [0, 0, 0, 1, 0, 0, 0, 1, 0, 0, 0, 1, 1, 0, 0, 0],\n",
       "       [1, 0, 0, 0, 1, 1, 1, 0, 1, 0, 0, 0, 0, 0, 1, 0]], dtype=int64)"
      ]
     },
     "execution_count": 7,
     "metadata": {},
     "output_type": "execute_result"
    }
   ],
   "source": [
    "X_train_dtm.toarray()"
   ]
  },
  {
   "cell_type": "code",
   "execution_count": 8,
   "id": "de8c052f",
   "metadata": {},
   "outputs": [
    {
     "data": {
      "text/html": [
       "<div>\n",
       "<style scoped>\n",
       "    .dataframe tbody tr th:only-of-type {\n",
       "        vertical-align: middle;\n",
       "    }\n",
       "\n",
       "    .dataframe tbody tr th {\n",
       "        vertical-align: top;\n",
       "    }\n",
       "\n",
       "    .dataframe thead th {\n",
       "        text-align: right;\n",
       "    }\n",
       "</style>\n",
       "<table border=\"1\" class=\"dataframe\">\n",
       "  <thead>\n",
       "    <tr style=\"text-align: right;\">\n",
       "      <th></th>\n",
       "      <th>and</th>\n",
       "      <th>cab</th>\n",
       "      <th>call</th>\n",
       "      <th>called</th>\n",
       "      <th>cant</th>\n",
       "      <th>fallen</th>\n",
       "      <th>get</th>\n",
       "      <th>he</th>\n",
       "      <th>ive</th>\n",
       "      <th>me</th>\n",
       "      <th>please</th>\n",
       "      <th>police</th>\n",
       "      <th>the</th>\n",
       "      <th>tonight</th>\n",
       "      <th>up</th>\n",
       "      <th>you</th>\n",
       "    </tr>\n",
       "  </thead>\n",
       "  <tbody>\n",
       "    <tr>\n",
       "      <th>call you tonight</th>\n",
       "      <td>0</td>\n",
       "      <td>0</td>\n",
       "      <td>1</td>\n",
       "      <td>0</td>\n",
       "      <td>0</td>\n",
       "      <td>0</td>\n",
       "      <td>0</td>\n",
       "      <td>0</td>\n",
       "      <td>0</td>\n",
       "      <td>0</td>\n",
       "      <td>0</td>\n",
       "      <td>0</td>\n",
       "      <td>0</td>\n",
       "      <td>1</td>\n",
       "      <td>0</td>\n",
       "      <td>1</td>\n",
       "    </tr>\n",
       "    <tr>\n",
       "      <th>Call me a cab</th>\n",
       "      <td>0</td>\n",
       "      <td>1</td>\n",
       "      <td>1</td>\n",
       "      <td>0</td>\n",
       "      <td>0</td>\n",
       "      <td>0</td>\n",
       "      <td>0</td>\n",
       "      <td>0</td>\n",
       "      <td>0</td>\n",
       "      <td>1</td>\n",
       "      <td>0</td>\n",
       "      <td>0</td>\n",
       "      <td>0</td>\n",
       "      <td>0</td>\n",
       "      <td>0</td>\n",
       "      <td>0</td>\n",
       "    </tr>\n",
       "    <tr>\n",
       "      <th>please call me... PLEASE</th>\n",
       "      <td>0</td>\n",
       "      <td>0</td>\n",
       "      <td>1</td>\n",
       "      <td>0</td>\n",
       "      <td>0</td>\n",
       "      <td>0</td>\n",
       "      <td>0</td>\n",
       "      <td>0</td>\n",
       "      <td>0</td>\n",
       "      <td>1</td>\n",
       "      <td>2</td>\n",
       "      <td>0</td>\n",
       "      <td>0</td>\n",
       "      <td>0</td>\n",
       "      <td>0</td>\n",
       "      <td>0</td>\n",
       "    </tr>\n",
       "    <tr>\n",
       "      <th>he called the police</th>\n",
       "      <td>0</td>\n",
       "      <td>0</td>\n",
       "      <td>0</td>\n",
       "      <td>1</td>\n",
       "      <td>0</td>\n",
       "      <td>0</td>\n",
       "      <td>0</td>\n",
       "      <td>1</td>\n",
       "      <td>0</td>\n",
       "      <td>0</td>\n",
       "      <td>0</td>\n",
       "      <td>1</td>\n",
       "      <td>1</td>\n",
       "      <td>0</td>\n",
       "      <td>0</td>\n",
       "      <td>0</td>\n",
       "    </tr>\n",
       "    <tr>\n",
       "      <th>Ive fallen and I cant get up</th>\n",
       "      <td>1</td>\n",
       "      <td>0</td>\n",
       "      <td>0</td>\n",
       "      <td>0</td>\n",
       "      <td>1</td>\n",
       "      <td>1</td>\n",
       "      <td>1</td>\n",
       "      <td>0</td>\n",
       "      <td>1</td>\n",
       "      <td>0</td>\n",
       "      <td>0</td>\n",
       "      <td>0</td>\n",
       "      <td>0</td>\n",
       "      <td>0</td>\n",
       "      <td>1</td>\n",
       "      <td>0</td>\n",
       "    </tr>\n",
       "  </tbody>\n",
       "</table>\n",
       "</div>"
      ],
      "text/plain": [
       "                              and  cab  call  called  cant  fallen  get  he  \\\n",
       "call you tonight                0    0     1       0     0       0    0   0   \n",
       "Call me a cab                   0    1     1       0     0       0    0   0   \n",
       "please call me... PLEASE        0    0     1       0     0       0    0   0   \n",
       "he called the police            0    0     0       1     0       0    0   1   \n",
       "Ive fallen and I cant get up    1    0     0       0     1       1    1   0   \n",
       "\n",
       "                              ive  me  please  police  the  tonight  up  you  \n",
       "call you tonight                0   0       0       0    0        1   0    1  \n",
       "Call me a cab                   0   1       0       0    0        0   0    0  \n",
       "please call me... PLEASE        0   1       2       0    0        0   0    0  \n",
       "he called the police            0   0       0       1    1        0   0    0  \n",
       "Ive fallen and I cant get up    1   0       0       0    0        0   1    0  "
      ]
     },
     "execution_count": 8,
     "metadata": {},
     "output_type": "execute_result"
    }
   ],
   "source": [
    "pd.DataFrame(X_train_dtm.toarray(), \n",
    "             columns=vect.get_feature_names_out(),\n",
    "            index=X_train)"
   ]
  },
  {
   "cell_type": "code",
   "execution_count": 9,
   "id": "1d18eb33",
   "metadata": {},
   "outputs": [
    {
     "data": {
      "text/plain": [
       "array([[0, 0, 1, 0, 0, 0, 0, 0, 0, 1, 1, 0, 0, 0, 0, 0]], dtype=int64)"
      ]
     },
     "execution_count": 9,
     "metadata": {},
     "output_type": "execute_result"
    }
   ],
   "source": [
    "# example \n",
    "X_test = [\"please don't call me\"]\n",
    "X_test_dtm = vect.transform(X_test)\n",
    "X_test_dtm.toarray()"
   ]
  },
  {
   "cell_type": "markdown",
   "id": "3aa22bea",
   "metadata": {},
   "source": [
    "# Tuning the vectorizer"
   ]
  },
  {
   "cell_type": "code",
   "execution_count": 10,
   "id": "fe54eed8",
   "metadata": {},
   "outputs": [],
   "source": [
    "# ignore stop words (the, they, he, a, then, ...)\n",
    "vect = CountVectorizer(stop_words='english')"
   ]
  },
  {
   "cell_type": "code",
   "execution_count": 11,
   "id": "21876f5a",
   "metadata": {},
   "outputs": [
    {
     "data": {
      "text/plain": [
       "array(['cab', 'called', 'fallen', 'ive', 'police', 'tonight'],\n",
       "      dtype=object)"
      ]
     },
     "execution_count": 11,
     "metadata": {},
     "output_type": "execute_result"
    }
   ],
   "source": [
    "vect.fit(X_train)\n",
    "vect.get_feature_names_out()"
   ]
  },
  {
   "cell_type": "code",
   "execution_count": 12,
   "id": "c62f9bf6",
   "metadata": {},
   "outputs": [
    {
     "name": "stdout",
     "output_type": "stream",
     "text": [
      "frozenset({'keep', 'besides', 'wherever', 'now', 'former', 'your', 'ten', 'per', 'get', 'put', 'about', 'are', 'yours', 'indeed', 'were', 'hereupon', 'sometimes', 'again', 'such', 'me', 'thick', 'through', 'moreover', 'you', 'may', 'co', 'one', 'himself', 'neither', 'almost', 'how', 'being', 'three', 'anyway', 'first', 'made', 'its', 'our', 'becomes', 'couldnt', 'own', 'please', 'would', 'nor', 'with', 'of', 'afterwards', 'enough', 'has', 'toward', 'also', 'everywhere', 'why', 'none', 'even', 'do', 'five', 'around', 'she', 'onto', 'and', 'bill', 'because', 'top', 'found', 'there', 'thru', 'their', 'under', 'further', 'describe', 'not', 'both', 'detail', 'mine', 'those', 'less', 'them', 'two', 'else', 'at', 'hence', 'never', 'without', 'whose', 'we', 'my', 'side', 'forty', 'four', 'anyone', 'that', 'whatever', 'several', 'he', 'this', 'via', 'show', 'de', 'twelve', 'perhaps', 'then', 'anywhere', 'somewhere', 'by', 'fire', 'same', 'myself', 'noone', 'empty', 'give', 'below', 'thereby', 'seemed', 'it', 'ie', 'very', 'well', 'be', 'amongst', 'eleven', 'i', 'wherein', 'once', 'hereafter', 'yourself', 'beforehand', 'no', 'third', 'twenty', 'where', 'although', 'rather', 'became', 'therefore', 'done', 'anyhow', 'take', 'nine', 'ever', 'others', 'seem', 'name', 'than', 'ours', 'whenever', 'might', 'whether', 'the', 'next', 'they', 're', 'eight', 'who', 'can', 'herein', 'if', 'sincere', 'front', 'mostly', 'few', 'what', 'above', 'latterly', 'been', 'seems', 'many', 'together', 'only', 'against', 'before', 'beside', 'however', 'could', 'themselves', 'fifty', 'as', 'ourselves', 'whole', 'had', 'full', 'whoever', 'behind', 'something', 'from', 'since', 'most', 'yourselves', 'any', 'ltd', 'after', 'herself', 'seeming', 'etc', 'often', 'a', 'too', 'nobody', 'somehow', 'have', 'his', 'six', 'in', 'much', 'each', 'was', 'namely', 'whom', 'amoungst', 'call', 'thus', 'nowhere', 'find', 'whereas', 'up', 'thereupon', 'should', 'thereafter', 'con', 'whence', 'either', 'upon', 'or', 'always', 'go', 'cry', 'becoming', 'these', 'still', 'when', 'hereby', 'another', 'her', 'fifteen', 'someone', 'serious', 'everyone', 'anything', 'beyond', 'all', 'un', 'among', 'sixty', 'fill', 'elsewhere', 'more', 'hasnt', 'within', 'us', 'cant', 'therein', 'back', 'throughout', 'is', 'on', 'thin', 'bottom', 'see', 'though', 'hers', 'sometime', 'whereafter', 'thence', 'whither', 'to', 'whereupon', 'amount', 'which', 'will', 'over', 'here', 'latter', 'due', 'between', 'out', 'otherwise', 'other', 'last', 'some', 'nevertheless', 'meanwhile', 'along', 'yet', 'system', 'eg', 'down', 'during', 'except', 'least', 'itself', 'already', 'part', 'everything', 'formerly', 'off', 'must', 'interest', 'am', 'while', 'become', 'until', 'so', 'inc', 'whereby', 'towards', 'mill', 'across', 'but', 'move', 'into', 'him', 'for', 'nothing', 'cannot', 'hundred', 'an', 'every', 'alone'})\n"
     ]
    }
   ],
   "source": [
    "# list of  stop words\n",
    "from sklearn.feature_extraction import _stop_words\n",
    "print(_stop_words.ENGLISH_STOP_WORDS)"
   ]
  },
  {
   "cell_type": "code",
   "execution_count": 13,
   "id": "41aec651",
   "metadata": {},
   "outputs": [],
   "source": [
    "# ignore terms that appear in more than 50% of the document\n",
    "vect = CountVectorizer(max_df = 0.8)"
   ]
  },
  {
   "cell_type": "code",
   "execution_count": 14,
   "id": "dde42873",
   "metadata": {},
   "outputs": [],
   "source": [
    "# ignore terms that appear in less than 20% of the documents\n",
    "vect = CountVectorizer(min_df = 0.2)"
   ]
  },
  {
   "cell_type": "code",
   "execution_count": 58,
   "id": "8661ede3",
   "metadata": {},
   "outputs": [
    {
     "data": {
      "text/plain": [
       "array(['00', '00 00', '00 000', ..., 'zz uh', 'zzc6', 'zzc6 5hnilm3y'],\n",
       "      dtype=object)"
      ]
     },
     "execution_count": 58,
     "metadata": {},
     "output_type": "execute_result"
    }
   ],
   "source": [
    "vect = CountVectorizer(ngram_range=(1,2)) # (specifies the range of the length of words it wants)\n",
    "vect.fit(X_train)\n",
    "vect.get_feature_names_out()"
   ]
  },
  {
   "cell_type": "markdown",
   "id": "bca55c5a",
   "metadata": {},
   "source": [
    "# Example"
   ]
  },
  {
   "cell_type": "code",
   "execution_count": 17,
   "id": "6552c3da",
   "metadata": {},
   "outputs": [],
   "source": [
    "from sklearn.datasets import fetch_20newsgroups"
   ]
  },
  {
   "cell_type": "code",
   "execution_count": 18,
   "id": "0850b36a",
   "metadata": {},
   "outputs": [],
   "source": [
    "X,y=fetch_20newsgroups(subset='all',\n",
    "                      categories=['comp.windows.x', \n",
    "                                  'sci.space',\n",
    "                                  'rec.autos', \n",
    "                                  'rec.sport.baseball'],\n",
    "                      return_X_y=True,\n",
    "                      remove=['headers', 'footers', 'quotes'])"
   ]
  },
  {
   "cell_type": "code",
   "execution_count": 33,
   "id": "74a6164a",
   "metadata": {},
   "outputs": [],
   "source": [
    "topic_dic = {0:'windows', 1:'autos', 2:'baseball', 3:'space'}"
   ]
  },
  {
   "cell_type": "code",
   "execution_count": 37,
   "id": "edc804ec",
   "metadata": {},
   "outputs": [
    {
     "name": "stdout",
     "output_type": "stream",
     "text": [
      "hi, is there anybody has some example programs about using\n",
      " the internationalization features in X11R5 ? Such as a small\n",
      " X program just to show Chinese texts in wondows, menu bar or\n",
      " icons... Thanks in advance.\n"
     ]
    }
   ],
   "source": [
    "#space?\n",
    "print(data[data.topic==3].iloc[65,0])"
   ]
  },
  {
   "cell_type": "code",
   "execution_count": 30,
   "id": "fa6697a6",
   "metadata": {},
   "outputs": [
    {
     "data": {
      "text/html": [
       "<div>\n",
       "<style scoped>\n",
       "    .dataframe tbody tr th:only-of-type {\n",
       "        vertical-align: middle;\n",
       "    }\n",
       "\n",
       "    .dataframe tbody tr th {\n",
       "        vertical-align: top;\n",
       "    }\n",
       "\n",
       "    .dataframe thead th {\n",
       "        text-align: right;\n",
       "    }\n",
       "</style>\n",
       "<table border=\"1\" class=\"dataframe\">\n",
       "  <thead>\n",
       "    <tr style=\"text-align: right;\">\n",
       "      <th></th>\n",
       "      <th>document</th>\n",
       "      <th>topic</th>\n",
       "    </tr>\n",
       "  </thead>\n",
       "  <tbody>\n",
       "    <tr>\n",
       "      <th>0</th>\n",
       "      <td>And one of my profs is the chief engineer for ...</td>\n",
       "      <td>3</td>\n",
       "    </tr>\n",
       "    <tr>\n",
       "      <th>1</th>\n",
       "      <td>Enclosed are the rules, guidelines and related...</td>\n",
       "      <td>0</td>\n",
       "    </tr>\n",
       "    <tr>\n",
       "      <th>2</th>\n",
       "      <td>\\nI grew up listening to Harry Carey call the ...</td>\n",
       "      <td>2</td>\n",
       "    </tr>\n",
       "    <tr>\n",
       "      <th>3</th>\n",
       "      <td>Original to: szabo@techbook.com\\nG'day szabo@t...</td>\n",
       "      <td>3</td>\n",
       "    </tr>\n",
       "    <tr>\n",
       "      <th>4</th>\n",
       "      <td>\\n\\n\\n\\nTry the 'M.Sc. Computing Science' cour...</td>\n",
       "      <td>0</td>\n",
       "    </tr>\n",
       "    <tr>\n",
       "      <th>...</th>\n",
       "      <td>...</td>\n",
       "      <td>...</td>\n",
       "    </tr>\n",
       "    <tr>\n",
       "      <th>3954</th>\n",
       "      <td>\\n\\n\\n\\n\\n   Anaheim.</td>\n",
       "      <td>2</td>\n",
       "    </tr>\n",
       "    <tr>\n",
       "      <th>3955</th>\n",
       "      <td>l\\n\\n\\ndiamond star cars (Talon/Eclipse/Laser)...</td>\n",
       "      <td>1</td>\n",
       "    </tr>\n",
       "    <tr>\n",
       "      <th>3956</th>\n",
       "      <td>Update your 385 to HP-UX 9.0.  You get an R5 s...</td>\n",
       "      <td>0</td>\n",
       "    </tr>\n",
       "    <tr>\n",
       "      <th>3957</th>\n",
       "      <td>\\nI disagree.  It think the average joe is int...</td>\n",
       "      <td>3</td>\n",
       "    </tr>\n",
       "    <tr>\n",
       "      <th>3958</th>\n",
       "      <td>\\n\\n\\n\\nI have been having problems with a sli...</td>\n",
       "      <td>1</td>\n",
       "    </tr>\n",
       "  </tbody>\n",
       "</table>\n",
       "<p>3959 rows × 2 columns</p>\n",
       "</div>"
      ],
      "text/plain": [
       "                                               document  topic\n",
       "0     And one of my profs is the chief engineer for ...      3\n",
       "1     Enclosed are the rules, guidelines and related...      0\n",
       "2     \\nI grew up listening to Harry Carey call the ...      2\n",
       "3     Original to: szabo@techbook.com\\nG'day szabo@t...      3\n",
       "4     \\n\\n\\n\\nTry the 'M.Sc. Computing Science' cour...      0\n",
       "...                                                 ...    ...\n",
       "3954                              \\n\\n\\n\\n\\n   Anaheim.      2\n",
       "3955  l\\n\\n\\ndiamond star cars (Talon/Eclipse/Laser)...      1\n",
       "3956  Update your 385 to HP-UX 9.0.  You get an R5 s...      0\n",
       "3957  \\nI disagree.  It think the average joe is int...      3\n",
       "3958  \\n\\n\\n\\nI have been having problems with a sli...      1\n",
       "\n",
       "[3959 rows x 2 columns]"
      ]
     },
     "execution_count": 30,
     "metadata": {},
     "output_type": "execute_result"
    }
   ],
   "source": [
    "# put data into a dataframe\n",
    "data = pd.DataFrame()\n",
    "data['document'] = X\n",
    "data['topic'] = y\n",
    "data"
   ]
  },
  {
   "cell_type": "code",
   "execution_count": 21,
   "id": "9dd6f23d",
   "metadata": {},
   "outputs": [],
   "source": [
    "from sklearn.pipeline import Pipeline\n",
    "from sklearn.linear_model import LogisticRegression\n",
    "from sklearn.model_selection import train_test_split as tts"
   ]
  },
  {
   "cell_type": "code",
   "execution_count": 38,
   "id": "a775de4f",
   "metadata": {},
   "outputs": [],
   "source": [
    "X_train, X_test, y_train, y_test = tts(X,y)"
   ]
  },
  {
   "cell_type": "code",
   "execution_count": 39,
   "id": "26211db5",
   "metadata": {},
   "outputs": [],
   "source": [
    "pipe = Pipeline(steps=[\n",
    "    ('vectorizer', CountVectorizer()),\n",
    "    ('clf', LogisticRegression(max_iter=5000))\n",
    "])"
   ]
  },
  {
   "cell_type": "code",
   "execution_count": 40,
   "id": "9c8270fc",
   "metadata": {},
   "outputs": [
    {
     "data": {
      "text/html": [
       "<style>#sk-container-id-3 {color: black;background-color: white;}#sk-container-id-3 pre{padding: 0;}#sk-container-id-3 div.sk-toggleable {background-color: white;}#sk-container-id-3 label.sk-toggleable__label {cursor: pointer;display: block;width: 100%;margin-bottom: 0;padding: 0.3em;box-sizing: border-box;text-align: center;}#sk-container-id-3 label.sk-toggleable__label-arrow:before {content: \"▸\";float: left;margin-right: 0.25em;color: #696969;}#sk-container-id-3 label.sk-toggleable__label-arrow:hover:before {color: black;}#sk-container-id-3 div.sk-estimator:hover label.sk-toggleable__label-arrow:before {color: black;}#sk-container-id-3 div.sk-toggleable__content {max-height: 0;max-width: 0;overflow: hidden;text-align: left;background-color: #f0f8ff;}#sk-container-id-3 div.sk-toggleable__content pre {margin: 0.2em;color: black;border-radius: 0.25em;background-color: #f0f8ff;}#sk-container-id-3 input.sk-toggleable__control:checked~div.sk-toggleable__content {max-height: 200px;max-width: 100%;overflow: auto;}#sk-container-id-3 input.sk-toggleable__control:checked~label.sk-toggleable__label-arrow:before {content: \"▾\";}#sk-container-id-3 div.sk-estimator input.sk-toggleable__control:checked~label.sk-toggleable__label {background-color: #d4ebff;}#sk-container-id-3 div.sk-label input.sk-toggleable__control:checked~label.sk-toggleable__label {background-color: #d4ebff;}#sk-container-id-3 input.sk-hidden--visually {border: 0;clip: rect(1px 1px 1px 1px);clip: rect(1px, 1px, 1px, 1px);height: 1px;margin: -1px;overflow: hidden;padding: 0;position: absolute;width: 1px;}#sk-container-id-3 div.sk-estimator {font-family: monospace;background-color: #f0f8ff;border: 1px dotted black;border-radius: 0.25em;box-sizing: border-box;margin-bottom: 0.5em;}#sk-container-id-3 div.sk-estimator:hover {background-color: #d4ebff;}#sk-container-id-3 div.sk-parallel-item::after {content: \"\";width: 100%;border-bottom: 1px solid gray;flex-grow: 1;}#sk-container-id-3 div.sk-label:hover label.sk-toggleable__label {background-color: #d4ebff;}#sk-container-id-3 div.sk-serial::before {content: \"\";position: absolute;border-left: 1px solid gray;box-sizing: border-box;top: 0;bottom: 0;left: 50%;z-index: 0;}#sk-container-id-3 div.sk-serial {display: flex;flex-direction: column;align-items: center;background-color: white;padding-right: 0.2em;padding-left: 0.2em;position: relative;}#sk-container-id-3 div.sk-item {position: relative;z-index: 1;}#sk-container-id-3 div.sk-parallel {display: flex;align-items: stretch;justify-content: center;background-color: white;position: relative;}#sk-container-id-3 div.sk-item::before, #sk-container-id-3 div.sk-parallel-item::before {content: \"\";position: absolute;border-left: 1px solid gray;box-sizing: border-box;top: 0;bottom: 0;left: 50%;z-index: -1;}#sk-container-id-3 div.sk-parallel-item {display: flex;flex-direction: column;z-index: 1;position: relative;background-color: white;}#sk-container-id-3 div.sk-parallel-item:first-child::after {align-self: flex-end;width: 50%;}#sk-container-id-3 div.sk-parallel-item:last-child::after {align-self: flex-start;width: 50%;}#sk-container-id-3 div.sk-parallel-item:only-child::after {width: 0;}#sk-container-id-3 div.sk-dashed-wrapped {border: 1px dashed gray;margin: 0 0.4em 0.5em 0.4em;box-sizing: border-box;padding-bottom: 0.4em;background-color: white;}#sk-container-id-3 div.sk-label label {font-family: monospace;font-weight: bold;display: inline-block;line-height: 1.2em;}#sk-container-id-3 div.sk-label-container {text-align: center;}#sk-container-id-3 div.sk-container {/* jupyter's `normalize.less` sets `[hidden] { display: none; }` but bootstrap.min.css set `[hidden] { display: none !important; }` so we also need the `!important` here to be able to override the default hidden behavior on the sphinx rendered scikit-learn.org. See: https://github.com/scikit-learn/scikit-learn/issues/21755 */display: inline-block !important;position: relative;}#sk-container-id-3 div.sk-text-repr-fallback {display: none;}</style><div id=\"sk-container-id-3\" class=\"sk-top-container\"><div class=\"sk-text-repr-fallback\"><pre>Pipeline(steps=[(&#x27;vectorizer&#x27;, CountVectorizer()),\n",
       "                (&#x27;clf&#x27;, LogisticRegression(max_iter=5000))])</pre><b>In a Jupyter environment, please rerun this cell to show the HTML representation or trust the notebook. <br />On GitHub, the HTML representation is unable to render, please try loading this page with nbviewer.org.</b></div><div class=\"sk-container\" hidden><div class=\"sk-item sk-dashed-wrapped\"><div class=\"sk-label-container\"><div class=\"sk-label sk-toggleable\"><input class=\"sk-toggleable__control sk-hidden--visually\" id=\"sk-estimator-id-5\" type=\"checkbox\" ><label for=\"sk-estimator-id-5\" class=\"sk-toggleable__label sk-toggleable__label-arrow\">Pipeline</label><div class=\"sk-toggleable__content\"><pre>Pipeline(steps=[(&#x27;vectorizer&#x27;, CountVectorizer()),\n",
       "                (&#x27;clf&#x27;, LogisticRegression(max_iter=5000))])</pre></div></div></div><div class=\"sk-serial\"><div class=\"sk-item\"><div class=\"sk-estimator sk-toggleable\"><input class=\"sk-toggleable__control sk-hidden--visually\" id=\"sk-estimator-id-6\" type=\"checkbox\" ><label for=\"sk-estimator-id-6\" class=\"sk-toggleable__label sk-toggleable__label-arrow\">CountVectorizer</label><div class=\"sk-toggleable__content\"><pre>CountVectorizer()</pre></div></div></div><div class=\"sk-item\"><div class=\"sk-estimator sk-toggleable\"><input class=\"sk-toggleable__control sk-hidden--visually\" id=\"sk-estimator-id-7\" type=\"checkbox\" ><label for=\"sk-estimator-id-7\" class=\"sk-toggleable__label sk-toggleable__label-arrow\">LogisticRegression</label><div class=\"sk-toggleable__content\"><pre>LogisticRegression(max_iter=5000)</pre></div></div></div></div></div></div></div>"
      ],
      "text/plain": [
       "Pipeline(steps=[('vectorizer', CountVectorizer()),\n",
       "                ('clf', LogisticRegression(max_iter=5000))])"
      ]
     },
     "execution_count": 40,
     "metadata": {},
     "output_type": "execute_result"
    }
   ],
   "source": [
    "pipe.fit(X_train, y_train)"
   ]
  },
  {
   "cell_type": "code",
   "execution_count": 42,
   "id": "20184367",
   "metadata": {},
   "outputs": [
    {
     "data": {
      "text/plain": [
       "33243"
      ]
     },
     "execution_count": 42,
     "metadata": {},
     "output_type": "execute_result"
    }
   ],
   "source": [
    "# size of the vocabulary (number of words)\n",
    "len(list(pipe['vectorizer'].get_feature_names_out()))"
   ]
  },
  {
   "cell_type": "code",
   "execution_count": 43,
   "id": "3687de48",
   "metadata": {},
   "outputs": [],
   "source": [
    "y_test_pred = pipe.predict(X_test)"
   ]
  },
  {
   "cell_type": "code",
   "execution_count": 46,
   "id": "1a368239",
   "metadata": {},
   "outputs": [
    {
     "data": {
      "text/plain": [
       "array([[199,  12,   5,  11],\n",
       "       [  4, 240,  14,  11],\n",
       "       [  7,  15, 220,  10],\n",
       "       [  8,  35,  10, 189]], dtype=int64)"
      ]
     },
     "execution_count": 46,
     "metadata": {},
     "output_type": "execute_result"
    }
   ],
   "source": [
    "from sklearn.metrics import confusion_matrix\n",
    "confusion_matrix(y_test, y_test_pred)"
   ]
  },
  {
   "cell_type": "code",
   "execution_count": 47,
   "id": "8088ec78",
   "metadata": {},
   "outputs": [],
   "source": [
    "from sklearn.model_selection import GridSearchCV"
   ]
  },
  {
   "cell_type": "code",
   "execution_count": 53,
   "id": "eef5160a",
   "metadata": {},
   "outputs": [],
   "source": [
    "param_dic = {'vectorizer__stop_words':[None, 'english'],\n",
    "            'vectorizer__ngram_range':[(1,1),(1,2)],\n",
    "            'vectorizer__max_df':[0.5, 0.7, 0.9, 1],\n",
    "            'vectorizer__max_features':[50000, 25000, 10000]}"
   ]
  },
  {
   "cell_type": "code",
   "execution_count": 54,
   "id": "61725a13",
   "metadata": {},
   "outputs": [
    {
     "name": "stdout",
     "output_type": "stream",
     "text": [
      "Fitting 5 folds for each of 48 candidates, totalling 240 fits\n"
     ]
    },
    {
     "data": {
      "text/html": [
       "<style>#sk-container-id-4 {color: black;background-color: white;}#sk-container-id-4 pre{padding: 0;}#sk-container-id-4 div.sk-toggleable {background-color: white;}#sk-container-id-4 label.sk-toggleable__label {cursor: pointer;display: block;width: 100%;margin-bottom: 0;padding: 0.3em;box-sizing: border-box;text-align: center;}#sk-container-id-4 label.sk-toggleable__label-arrow:before {content: \"▸\";float: left;margin-right: 0.25em;color: #696969;}#sk-container-id-4 label.sk-toggleable__label-arrow:hover:before {color: black;}#sk-container-id-4 div.sk-estimator:hover label.sk-toggleable__label-arrow:before {color: black;}#sk-container-id-4 div.sk-toggleable__content {max-height: 0;max-width: 0;overflow: hidden;text-align: left;background-color: #f0f8ff;}#sk-container-id-4 div.sk-toggleable__content pre {margin: 0.2em;color: black;border-radius: 0.25em;background-color: #f0f8ff;}#sk-container-id-4 input.sk-toggleable__control:checked~div.sk-toggleable__content {max-height: 200px;max-width: 100%;overflow: auto;}#sk-container-id-4 input.sk-toggleable__control:checked~label.sk-toggleable__label-arrow:before {content: \"▾\";}#sk-container-id-4 div.sk-estimator input.sk-toggleable__control:checked~label.sk-toggleable__label {background-color: #d4ebff;}#sk-container-id-4 div.sk-label input.sk-toggleable__control:checked~label.sk-toggleable__label {background-color: #d4ebff;}#sk-container-id-4 input.sk-hidden--visually {border: 0;clip: rect(1px 1px 1px 1px);clip: rect(1px, 1px, 1px, 1px);height: 1px;margin: -1px;overflow: hidden;padding: 0;position: absolute;width: 1px;}#sk-container-id-4 div.sk-estimator {font-family: monospace;background-color: #f0f8ff;border: 1px dotted black;border-radius: 0.25em;box-sizing: border-box;margin-bottom: 0.5em;}#sk-container-id-4 div.sk-estimator:hover {background-color: #d4ebff;}#sk-container-id-4 div.sk-parallel-item::after {content: \"\";width: 100%;border-bottom: 1px solid gray;flex-grow: 1;}#sk-container-id-4 div.sk-label:hover label.sk-toggleable__label {background-color: #d4ebff;}#sk-container-id-4 div.sk-serial::before {content: \"\";position: absolute;border-left: 1px solid gray;box-sizing: border-box;top: 0;bottom: 0;left: 50%;z-index: 0;}#sk-container-id-4 div.sk-serial {display: flex;flex-direction: column;align-items: center;background-color: white;padding-right: 0.2em;padding-left: 0.2em;position: relative;}#sk-container-id-4 div.sk-item {position: relative;z-index: 1;}#sk-container-id-4 div.sk-parallel {display: flex;align-items: stretch;justify-content: center;background-color: white;position: relative;}#sk-container-id-4 div.sk-item::before, #sk-container-id-4 div.sk-parallel-item::before {content: \"\";position: absolute;border-left: 1px solid gray;box-sizing: border-box;top: 0;bottom: 0;left: 50%;z-index: -1;}#sk-container-id-4 div.sk-parallel-item {display: flex;flex-direction: column;z-index: 1;position: relative;background-color: white;}#sk-container-id-4 div.sk-parallel-item:first-child::after {align-self: flex-end;width: 50%;}#sk-container-id-4 div.sk-parallel-item:last-child::after {align-self: flex-start;width: 50%;}#sk-container-id-4 div.sk-parallel-item:only-child::after {width: 0;}#sk-container-id-4 div.sk-dashed-wrapped {border: 1px dashed gray;margin: 0 0.4em 0.5em 0.4em;box-sizing: border-box;padding-bottom: 0.4em;background-color: white;}#sk-container-id-4 div.sk-label label {font-family: monospace;font-weight: bold;display: inline-block;line-height: 1.2em;}#sk-container-id-4 div.sk-label-container {text-align: center;}#sk-container-id-4 div.sk-container {/* jupyter's `normalize.less` sets `[hidden] { display: none; }` but bootstrap.min.css set `[hidden] { display: none !important; }` so we also need the `!important` here to be able to override the default hidden behavior on the sphinx rendered scikit-learn.org. See: https://github.com/scikit-learn/scikit-learn/issues/21755 */display: inline-block !important;position: relative;}#sk-container-id-4 div.sk-text-repr-fallback {display: none;}</style><div id=\"sk-container-id-4\" class=\"sk-top-container\"><div class=\"sk-text-repr-fallback\"><pre>GridSearchCV(cv=5,\n",
       "             estimator=Pipeline(steps=[(&#x27;vectorizer&#x27;, CountVectorizer()),\n",
       "                                       (&#x27;clf&#x27;,\n",
       "                                        LogisticRegression(max_iter=5000))]),\n",
       "             n_jobs=-1,\n",
       "             param_grid={&#x27;vectorizer__max_df&#x27;: [0.5, 0.7, 0.9, 1],\n",
       "                         &#x27;vectorizer__max_features&#x27;: [50000, 25000, 10000],\n",
       "                         &#x27;vectorizer__ngram_range&#x27;: [(1, 1), (1, 2)],\n",
       "                         &#x27;vectorizer__stop_words&#x27;: [None, &#x27;english&#x27;]},\n",
       "             verbose=2)</pre><b>In a Jupyter environment, please rerun this cell to show the HTML representation or trust the notebook. <br />On GitHub, the HTML representation is unable to render, please try loading this page with nbviewer.org.</b></div><div class=\"sk-container\" hidden><div class=\"sk-item sk-dashed-wrapped\"><div class=\"sk-label-container\"><div class=\"sk-label sk-toggleable\"><input class=\"sk-toggleable__control sk-hidden--visually\" id=\"sk-estimator-id-8\" type=\"checkbox\" ><label for=\"sk-estimator-id-8\" class=\"sk-toggleable__label sk-toggleable__label-arrow\">GridSearchCV</label><div class=\"sk-toggleable__content\"><pre>GridSearchCV(cv=5,\n",
       "             estimator=Pipeline(steps=[(&#x27;vectorizer&#x27;, CountVectorizer()),\n",
       "                                       (&#x27;clf&#x27;,\n",
       "                                        LogisticRegression(max_iter=5000))]),\n",
       "             n_jobs=-1,\n",
       "             param_grid={&#x27;vectorizer__max_df&#x27;: [0.5, 0.7, 0.9, 1],\n",
       "                         &#x27;vectorizer__max_features&#x27;: [50000, 25000, 10000],\n",
       "                         &#x27;vectorizer__ngram_range&#x27;: [(1, 1), (1, 2)],\n",
       "                         &#x27;vectorizer__stop_words&#x27;: [None, &#x27;english&#x27;]},\n",
       "             verbose=2)</pre></div></div></div><div class=\"sk-parallel\"><div class=\"sk-parallel-item\"><div class=\"sk-item\"><div class=\"sk-label-container\"><div class=\"sk-label sk-toggleable\"><input class=\"sk-toggleable__control sk-hidden--visually\" id=\"sk-estimator-id-9\" type=\"checkbox\" ><label for=\"sk-estimator-id-9\" class=\"sk-toggleable__label sk-toggleable__label-arrow\">estimator: Pipeline</label><div class=\"sk-toggleable__content\"><pre>Pipeline(steps=[(&#x27;vectorizer&#x27;, CountVectorizer()),\n",
       "                (&#x27;clf&#x27;, LogisticRegression(max_iter=5000))])</pre></div></div></div><div class=\"sk-serial\"><div class=\"sk-item\"><div class=\"sk-serial\"><div class=\"sk-item\"><div class=\"sk-estimator sk-toggleable\"><input class=\"sk-toggleable__control sk-hidden--visually\" id=\"sk-estimator-id-10\" type=\"checkbox\" ><label for=\"sk-estimator-id-10\" class=\"sk-toggleable__label sk-toggleable__label-arrow\">CountVectorizer</label><div class=\"sk-toggleable__content\"><pre>CountVectorizer()</pre></div></div></div><div class=\"sk-item\"><div class=\"sk-estimator sk-toggleable\"><input class=\"sk-toggleable__control sk-hidden--visually\" id=\"sk-estimator-id-11\" type=\"checkbox\" ><label for=\"sk-estimator-id-11\" class=\"sk-toggleable__label sk-toggleable__label-arrow\">LogisticRegression</label><div class=\"sk-toggleable__content\"><pre>LogisticRegression(max_iter=5000)</pre></div></div></div></div></div></div></div></div></div></div></div></div>"
      ],
      "text/plain": [
       "GridSearchCV(cv=5,\n",
       "             estimator=Pipeline(steps=[('vectorizer', CountVectorizer()),\n",
       "                                       ('clf',\n",
       "                                        LogisticRegression(max_iter=5000))]),\n",
       "             n_jobs=-1,\n",
       "             param_grid={'vectorizer__max_df': [0.5, 0.7, 0.9, 1],\n",
       "                         'vectorizer__max_features': [50000, 25000, 10000],\n",
       "                         'vectorizer__ngram_range': [(1, 1), (1, 2)],\n",
       "                         'vectorizer__stop_words': [None, 'english']},\n",
       "             verbose=2)"
      ]
     },
     "execution_count": 54,
     "metadata": {},
     "output_type": "execute_result"
    }
   ],
   "source": [
    "grid = GridSearchCV(pipe,param_dic,cv=5, n_jobs=-1,verbose=2)\n",
    "grid.fit(X_train,y_train)"
   ]
  },
  {
   "cell_type": "code",
   "execution_count": 55,
   "id": "7b8e60f5",
   "metadata": {},
   "outputs": [
    {
     "data": {
      "text/plain": [
       "{'vectorizer__max_df': 0.5,\n",
       " 'vectorizer__max_features': 50000,\n",
       " 'vectorizer__ngram_range': (1, 1),\n",
       " 'vectorizer__stop_words': 'english'}"
      ]
     },
     "execution_count": 55,
     "metadata": {},
     "output_type": "execute_result"
    }
   ],
   "source": [
    "grid.best_params_"
   ]
  },
  {
   "cell_type": "code",
   "execution_count": 56,
   "id": "8ff55b73",
   "metadata": {},
   "outputs": [
    {
     "data": {
      "text/plain": [
       "array([[211,   6,   4,   6],\n",
       "       [  5, 244,  11,   9],\n",
       "       [  3,  19, 225,   5],\n",
       "       [  8,  31,   7, 196]], dtype=int64)"
      ]
     },
     "execution_count": 56,
     "metadata": {},
     "output_type": "execute_result"
    }
   ],
   "source": [
    "best_pipe = grid.best_estimator_\n",
    "y_test_pred = best_pipe.predict(X_test)\n",
    "confusion_matrix(y_test, y_test_pred)"
   ]
  },
  {
   "cell_type": "code",
   "execution_count": 57,
   "id": "c2a1d729",
   "metadata": {},
   "outputs": [],
   "source": [
    "X_new_data = ['I always wanted to be an astronaut', \n",
    "              'I hate windows 10', \n",
    "              'I need to clean the window of my spaceship']"
   ]
  },
  {
   "cell_type": "code",
   "execution_count": 59,
   "id": "0b0b977b",
   "metadata": {},
   "outputs": [
    {
     "data": {
      "text/plain": [
       "array([1, 0, 0], dtype=int64)"
      ]
     },
     "execution_count": 59,
     "metadata": {},
     "output_type": "execute_result"
    }
   ],
   "source": [
    "best_pipe.predict(X_new_data)"
   ]
  },
  {
   "cell_type": "code",
   "execution_count": 60,
   "id": "0993bf11",
   "metadata": {},
   "outputs": [
    {
     "data": {
      "text/plain": [
       "{0: 'windows', 1: 'autos', 2: 'baseball', 3: 'space'}"
      ]
     },
     "execution_count": 60,
     "metadata": {},
     "output_type": "execute_result"
    }
   ],
   "source": [
    "topic_dic"
   ]
  },
  {
   "cell_type": "markdown",
   "id": "7cab2e5a",
   "metadata": {},
   "source": [
    "# How does the model make predictions?"
   ]
  },
  {
   "cell_type": "code",
   "execution_count": 63,
   "id": "295cbe8f",
   "metadata": {},
   "outputs": [
    {
     "data": {
      "text/plain": [
       "(4, 32942)"
      ]
     },
     "execution_count": 63,
     "metadata": {},
     "output_type": "execute_result"
    }
   ],
   "source": [
    "coefficients = best_pipe['clf'].coef_\n",
    "coefficients.shape"
   ]
  },
  {
   "cell_type": "code",
   "execution_count": 65,
   "id": "3a8ea70e",
   "metadata": {},
   "outputs": [],
   "source": [
    "# data frame with the model coefficients\n",
    "coef_df = pd.DataFrame(coefficients.T, \n",
    "                       index=best_pipe['vectorizer'].get_feature_names_out(), \n",
    "                       columns=['windows', 'auto', 'baseball', 'space'])\n"
   ]
  },
  {
   "cell_type": "code",
   "execution_count": 68,
   "id": "f2100e7e",
   "metadata": {},
   "outputs": [
    {
     "data": {
      "text/plain": [
       "subscribe      1.574835\n",
       "windows        1.189081\n",
       "subscrive      1.182666\n",
       "server         1.138047\n",
       "widgets        1.065492\n",
       "motif          1.020184\n",
       "window         0.986640\n",
       "mit            0.956966\n",
       "using          0.952933\n",
       "resource       0.951108\n",
       "use            0.907872\n",
       "instead        0.877964\n",
       "x11r5          0.876972\n",
       "xterm          0.875368\n",
       "unsubscribe    0.865879\n",
       "group          0.852355\n",
       "user           0.852157\n",
       "widget         0.825559\n",
       "hi             0.820401\n",
       "library        0.799044\n",
       "Name: windows, dtype: float64"
      ]
     },
     "execution_count": 68,
     "metadata": {},
     "output_type": "execute_result"
    }
   ],
   "source": [
    "# top 'windows' coefficients\n",
    "coef_df.windows.sort_values(ascending=False).head(20)"
   ]
  },
  {
   "cell_type": "code",
   "execution_count": 69,
   "id": "f7ad5764",
   "metadata": {},
   "outputs": [
    {
     "data": {
      "text/plain": [
       "space         1.884526\n",
       "orbit         1.068594\n",
       "solar         1.024463\n",
       "launch        0.861680\n",
       "moon          0.812567\n",
       "nasa          0.809850\n",
       "spacecraft    0.726787\n",
       "shuttle       0.704097\n",
       "sorry         0.672211\n",
       "earth         0.653797\n",
       "working       0.652763\n",
       "project       0.648973\n",
       "sci           0.633984\n",
       "test          0.629273\n",
       "message       0.602840\n",
       "phase         0.590551\n",
       "ironic        0.586404\n",
       "data          0.564916\n",
       "aircraft      0.558477\n",
       "landing       0.556546\n",
       "Name: space, dtype: float64"
      ]
     },
     "execution_count": 69,
     "metadata": {},
     "output_type": "execute_result"
    }
   ],
   "source": [
    "# top 'space' coefficients\n",
    "coef_df.space.sort_values(ascending=False).head(20)"
   ]
  },
  {
   "cell_type": "code",
   "execution_count": 70,
   "id": "44ba72b0",
   "metadata": {},
   "outputs": [
    {
     "data": {
      "text/plain": [
       "baseball    1.324158\n",
       "team        1.108078\n",
       "game        1.062747\n",
       "games       1.037789\n",
       "cubs        1.012431\n",
       "stats       0.798234\n",
       "ball        0.771772\n",
       "writes      0.765938\n",
       "players     0.755624\n",
       "play        0.741681\n",
       "stadium     0.730662\n",
       "hit         0.701332\n",
       "year        0.682144\n",
       "say         0.678206\n",
       "season      0.676756\n",
       "league      0.658766\n",
       "ticket      0.632123\n",
       "colorado    0.626883\n",
       "woof        0.596778\n",
       "pitching    0.593925\n",
       "Name: baseball, dtype: float64"
      ]
     },
     "execution_count": 70,
     "metadata": {},
     "output_type": "execute_result"
    }
   ],
   "source": [
    "# top 'baseball' coefficients\n",
    "coef_df.baseball.sort_values(ascending=False).head(20)"
   ]
  },
  {
   "cell_type": "code",
   "execution_count": 71,
   "id": "6845ccc4",
   "metadata": {},
   "outputs": [
    {
     "data": {
      "text/plain": [
       "car        1.998288\n",
       "cars       1.187249\n",
       "honda      1.020485\n",
       "dealer     0.862804\n",
       "engine     0.820716\n",
       "ford       0.787885\n",
       "oil        0.767935\n",
       "gt         0.757912\n",
       "auto       0.743021\n",
       "flat       0.722152\n",
       "toyota     0.721039\n",
       "saab       0.687771\n",
       "mustang    0.666619\n",
       "ites       0.626086\n",
       "bmw        0.613155\n",
       "people     0.609870\n",
       "miles      0.603414\n",
       "radar      0.599470\n",
       "ones       0.595621\n",
       "tires      0.587623\n",
       "Name: auto, dtype: float64"
      ]
     },
     "execution_count": 71,
     "metadata": {},
     "output_type": "execute_result"
    }
   ],
   "source": [
    "# top 'auto' coefficients\n",
    "coef_df.auto.sort_values(ascending=False).head(20)"
   ]
  },
  {
   "cell_type": "markdown",
   "id": "a06417fd",
   "metadata": {},
   "source": [
    "# Naive Bayes Model"
   ]
  },
  {
   "cell_type": "code",
   "execution_count": null,
   "id": "f6484760",
   "metadata": {},
   "outputs": [],
   "source": []
  }
 ],
 "metadata": {
  "kernelspec": {
   "display_name": "Python 3 (ipykernel)",
   "language": "python",
   "name": "python3"
  },
  "language_info": {
   "codemirror_mode": {
    "name": "ipython",
    "version": 3
   },
   "file_extension": ".py",
   "mimetype": "text/x-python",
   "name": "python",
   "nbconvert_exporter": "python",
   "pygments_lexer": "ipython3",
   "version": "3.9.13"
  },
  "toc": {
   "base_numbering": 1,
   "nav_menu": {},
   "number_sections": true,
   "sideBar": true,
   "skip_h1_title": false,
   "title_cell": "Table of Contents",
   "title_sidebar": "Contents",
   "toc_cell": false,
   "toc_position": {},
   "toc_section_display": true,
   "toc_window_display": false
  }
 },
 "nbformat": 4,
 "nbformat_minor": 5
}
